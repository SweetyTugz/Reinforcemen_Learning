{
 "cells": [
  {
   "cell_type": "code",
   "execution_count": 1,
   "id": "06b6bfee",
   "metadata": {
    "_cell_guid": "b1076dfc-b9ad-4769-8c92-a6c4dae69d19",
    "_uuid": "8f2839f25d086af736a60e9eeb907d3b93b6e0e5",
    "execution": {
     "iopub.execute_input": "2022-06-30T00:29:25.386075Z",
     "iopub.status.busy": "2022-06-30T00:29:25.385453Z",
     "iopub.status.idle": "2022-06-30T00:29:25.406336Z",
     "shell.execute_reply": "2022-06-30T00:29:25.405206Z"
    },
    "papermill": {
     "duration": 0.039077,
     "end_time": "2022-06-30T00:29:25.409347",
     "exception": false,
     "start_time": "2022-06-30T00:29:25.370270",
     "status": "completed"
    },
    "tags": []
   },
   "outputs": [
    {
     "name": "stdout",
     "output_type": "stream",
     "text": [
      "/kaggle/input/pakistans-largest-ecommerce-dataset/Pakistan Largest Ecommerce Dataset.csv\n"
     ]
    }
   ],
   "source": [
    "# This Python 3 environment comes with many helpful analytics libraries installed\n",
    "# It is defined by the kaggle/python Docker image: https://github.com/kaggle/docker-python\n",
    "# For example, here's several helpful packages to load\n",
    "\n",
    "#import numpy as np # linear algebra\n",
    "#import pandas as pd # data processing, CSV file I/O (e.g. pd.read_csv)\n",
    "\n",
    "# Input data files are available in the read-only \"../input/\" directory\n",
    "# For example, running this (by clicking run or pressing Shift+Enter) will list all files under the input directory\n",
    "\n",
    "import os\n",
    "for dirname, _, filenames in os.walk('/kaggle/input'):\n",
    "    for filename in filenames:\n",
    "        print(os.path.join(dirname, filename))\n",
    "\n",
    "# You can write up to 20GB to the current directory (/kaggle/working/) that gets preserved as output when you create a version using \"Save & Run All\" \n",
    "# You can also write temporary files to /kaggle/temp/, but they won't be saved outside of the current session"
   ]
  },
  {
   "cell_type": "code",
   "execution_count": null,
   "id": "227fcd63",
   "metadata": {
    "papermill": {
     "duration": 0.01172,
     "end_time": "2022-06-30T00:29:25.433609",
     "exception": false,
     "start_time": "2022-06-30T00:29:25.421889",
     "status": "completed"
    },
    "tags": []
   },
   "outputs": [],
   "source": []
  },
  {
   "cell_type": "code",
   "execution_count": 2,
   "id": "1f9a9f99",
   "metadata": {
    "execution": {
     "iopub.execute_input": "2022-06-30T00:29:25.459387Z",
     "iopub.status.busy": "2022-06-30T00:29:25.458716Z",
     "iopub.status.idle": "2022-06-30T00:29:27.899041Z",
     "shell.execute_reply": "2022-06-30T00:29:27.897706Z"
    },
    "papermill": {
     "duration": 2.456163,
     "end_time": "2022-06-30T00:29:27.901594",
     "exception": false,
     "start_time": "2022-06-30T00:29:25.445431",
     "status": "completed"
    },
    "tags": []
   },
   "outputs": [
    {
     "data": {
      "text/html": [
       "        <script type=\"text/javascript\">\n",
       "        window.PlotlyConfig = {MathJaxConfig: 'local'};\n",
       "        if (window.MathJax && window.MathJax.Hub && window.MathJax.Hub.Config) {window.MathJax.Hub.Config({SVG: {font: \"STIX-Web\"}});}\n",
       "        if (typeof require !== 'undefined') {\n",
       "        require.undef(\"plotly\");\n",
       "        requirejs.config({\n",
       "            paths: {\n",
       "                'plotly': ['https://cdn.plot.ly/plotly-2.12.1.min']\n",
       "            }\n",
       "        });\n",
       "        require(['plotly'], function(Plotly) {\n",
       "            window._Plotly = Plotly;\n",
       "        });\n",
       "        }\n",
       "        </script>\n",
       "        "
      ]
     },
     "metadata": {},
     "output_type": "display_data"
    }
   ],
   "source": [
    "import pandas as pd\n",
    "import numpy as np\n",
    "import matplotlib as mpl\n",
    "import matplotlib.pyplot as plt\n",
    "import seaborn as sns\n",
    "import datetime, nltk, warnings\n",
    "import matplotlib.cm as cm\n",
    "import itertools\n",
    "from pathlib import Path\n",
    "from sklearn.preprocessing import StandardScaler\n",
    "from sklearn.cluster import KMeans\n",
    "from sklearn.metrics import silhouette_samples, silhouette_score\n",
    "from sklearn import preprocessing, model_selection, metrics, feature_selection\n",
    "from sklearn.model_selection import GridSearchCV, learning_curve\n",
    "from sklearn.svm import SVC\n",
    "from sklearn.metrics import confusion_matrix\n",
    "from sklearn import neighbors, linear_model, svm, tree, ensemble\n",
    "from wordcloud import WordCloud, STOPWORDS\n",
    "from sklearn.ensemble import AdaBoostClassifier\n",
    "from sklearn.decomposition import PCA\n",
    "from IPython.display import display, HTML\n",
    "import plotly.graph_objs as go\n",
    "from plotly.offline import init_notebook_mode,iplot\n",
    "init_notebook_mode(connected=True)\n",
    "warnings.filterwarnings(\"ignore\")\n",
    "plt.rcParams[\"patch.force_edgecolor\"] = True\n",
    "plt.style.use('fivethirtyeight')\n",
    "mpl.rc('patch', edgecolor = 'dimgray', linewidth=1)\n",
    "%matplotlib inline"
   ]
  },
  {
   "cell_type": "code",
   "execution_count": 3,
   "id": "c4475864",
   "metadata": {
    "execution": {
     "iopub.execute_input": "2022-06-30T00:29:27.928400Z",
     "iopub.status.busy": "2022-06-30T00:29:27.927350Z",
     "iopub.status.idle": "2022-06-30T00:29:33.034477Z",
     "shell.execute_reply": "2022-06-30T00:29:33.033351Z"
    },
    "papermill": {
     "duration": 5.123444,
     "end_time": "2022-06-30T00:29:33.037415",
     "exception": false,
     "start_time": "2022-06-30T00:29:27.913971",
     "status": "completed"
    },
    "tags": []
   },
   "outputs": [],
   "source": [
    "dataset=pd.read_csv(\"../input/../input/pakistans-largest-ecommerce-dataset/Pakistan Largest Ecommerce Dataset.csv\", low_memory=False)"
   ]
  },
  {
   "cell_type": "code",
   "execution_count": 4,
   "id": "2780d7f6",
   "metadata": {
    "execution": {
     "iopub.execute_input": "2022-06-30T00:29:33.065805Z",
     "iopub.status.busy": "2022-06-30T00:29:33.065380Z",
     "iopub.status.idle": "2022-06-30T00:29:33.070915Z",
     "shell.execute_reply": "2022-06-30T00:29:33.069783Z"
    },
    "papermill": {
     "duration": 0.02389,
     "end_time": "2022-06-30T00:29:33.074121",
     "exception": false,
     "start_time": "2022-06-30T00:29:33.050231",
     "status": "completed"
    },
    "tags": []
   },
   "outputs": [
    {
     "name": "stdout",
     "output_type": "stream",
     "text": [
      "Dataframe dimensions: (1048575, 26)\n"
     ]
    }
   ],
   "source": [
    "print('Dataframe dimensions:', dataset.shape)"
   ]
  },
  {
   "cell_type": "code",
   "execution_count": 5,
   "id": "09a12985",
   "metadata": {
    "execution": {
     "iopub.execute_input": "2022-06-30T00:29:33.100165Z",
     "iopub.status.busy": "2022-06-30T00:29:33.099543Z",
     "iopub.status.idle": "2022-06-30T00:29:35.340121Z",
     "shell.execute_reply": "2022-06-30T00:29:35.339042Z"
    },
    "papermill": {
     "duration": 2.25631,
     "end_time": "2022-06-30T00:29:35.342565",
     "exception": false,
     "start_time": "2022-06-30T00:29:33.086255",
     "status": "completed"
    },
    "tags": []
   },
   "outputs": [
    {
     "data": {
      "text/html": [
       "<div>\n",
       "<style scoped>\n",
       "    .dataframe tbody tr th:only-of-type {\n",
       "        vertical-align: middle;\n",
       "    }\n",
       "\n",
       "    .dataframe tbody tr th {\n",
       "        vertical-align: top;\n",
       "    }\n",
       "\n",
       "    .dataframe thead th {\n",
       "        text-align: right;\n",
       "    }\n",
       "</style>\n",
       "<table border=\"1\" class=\"dataframe\">\n",
       "  <thead>\n",
       "    <tr style=\"text-align: right;\">\n",
       "      <th></th>\n",
       "      <th>item_id</th>\n",
       "      <th>status</th>\n",
       "      <th>created_at</th>\n",
       "      <th>sku</th>\n",
       "      <th>price</th>\n",
       "      <th>qty_ordered</th>\n",
       "      <th>grand_total</th>\n",
       "      <th>increment_id</th>\n",
       "      <th>category_name_1</th>\n",
       "      <th>sales_commission_code</th>\n",
       "      <th>...</th>\n",
       "      <th>Month</th>\n",
       "      <th>Customer Since</th>\n",
       "      <th>M-Y</th>\n",
       "      <th>FY</th>\n",
       "      <th>Customer ID</th>\n",
       "      <th>Unnamed: 21</th>\n",
       "      <th>Unnamed: 22</th>\n",
       "      <th>Unnamed: 23</th>\n",
       "      <th>Unnamed: 24</th>\n",
       "      <th>Unnamed: 25</th>\n",
       "    </tr>\n",
       "  </thead>\n",
       "  <tbody>\n",
       "    <tr>\n",
       "      <th>column type</th>\n",
       "      <td>float64</td>\n",
       "      <td>object</td>\n",
       "      <td>object</td>\n",
       "      <td>object</td>\n",
       "      <td>float64</td>\n",
       "      <td>float64</td>\n",
       "      <td>float64</td>\n",
       "      <td>object</td>\n",
       "      <td>object</td>\n",
       "      <td>object</td>\n",
       "      <td>...</td>\n",
       "      <td>float64</td>\n",
       "      <td>object</td>\n",
       "      <td>object</td>\n",
       "      <td>object</td>\n",
       "      <td>float64</td>\n",
       "      <td>float64</td>\n",
       "      <td>float64</td>\n",
       "      <td>float64</td>\n",
       "      <td>float64</td>\n",
       "      <td>float64</td>\n",
       "    </tr>\n",
       "    <tr>\n",
       "      <th>null values (nb)</th>\n",
       "      <td>464051</td>\n",
       "      <td>464066</td>\n",
       "      <td>464051</td>\n",
       "      <td>464071</td>\n",
       "      <td>464051</td>\n",
       "      <td>464051</td>\n",
       "      <td>464051</td>\n",
       "      <td>464051</td>\n",
       "      <td>464215</td>\n",
       "      <td>601226</td>\n",
       "      <td>...</td>\n",
       "      <td>464051</td>\n",
       "      <td>464062</td>\n",
       "      <td>464051</td>\n",
       "      <td>464051</td>\n",
       "      <td>464062</td>\n",
       "      <td>1048575</td>\n",
       "      <td>1048575</td>\n",
       "      <td>1048575</td>\n",
       "      <td>1048575</td>\n",
       "      <td>1048575</td>\n",
       "    </tr>\n",
       "    <tr>\n",
       "      <th>null values (%)</th>\n",
       "      <td>44.255394</td>\n",
       "      <td>44.256825</td>\n",
       "      <td>44.255394</td>\n",
       "      <td>44.257302</td>\n",
       "      <td>44.255394</td>\n",
       "      <td>44.255394</td>\n",
       "      <td>44.255394</td>\n",
       "      <td>44.255394</td>\n",
       "      <td>44.271034</td>\n",
       "      <td>57.337434</td>\n",
       "      <td>...</td>\n",
       "      <td>44.255394</td>\n",
       "      <td>44.256443</td>\n",
       "      <td>44.255394</td>\n",
       "      <td>44.255394</td>\n",
       "      <td>44.256443</td>\n",
       "      <td>100.0</td>\n",
       "      <td>100.0</td>\n",
       "      <td>100.0</td>\n",
       "      <td>100.0</td>\n",
       "      <td>100.0</td>\n",
       "    </tr>\n",
       "  </tbody>\n",
       "</table>\n",
       "<p>3 rows × 26 columns</p>\n",
       "</div>"
      ],
      "text/plain": [
       "                    item_id     status created_at        sku      price  \\\n",
       "column type         float64     object     object     object    float64   \n",
       "null values (nb)     464051     464066     464051     464071     464051   \n",
       "null values (%)   44.255394  44.256825  44.255394  44.257302  44.255394   \n",
       "\n",
       "                 qty_ordered grand_total increment_id category_name_1  \\\n",
       "column type          float64     float64       object          object   \n",
       "null values (nb)      464051      464051       464051          464215   \n",
       "null values (%)    44.255394   44.255394    44.255394       44.271034   \n",
       "\n",
       "                 sales_commission_code  ...      Month Customer Since  \\\n",
       "column type                     object  ...    float64         object   \n",
       "null values (nb)                601226  ...     464051         464062   \n",
       "null values (%)              57.337434  ...  44.255394      44.256443   \n",
       "\n",
       "                        M-Y         FY Customer ID Unnamed: 21 Unnamed: 22  \\\n",
       "column type          object     object     float64     float64     float64   \n",
       "null values (nb)     464051     464051      464062     1048575     1048575   \n",
       "null values (%)   44.255394  44.255394   44.256443       100.0       100.0   \n",
       "\n",
       "                 Unnamed: 23 Unnamed: 24 Unnamed: 25  \n",
       "column type          float64     float64     float64  \n",
       "null values (nb)     1048575     1048575     1048575  \n",
       "null values (%)        100.0       100.0       100.0  \n",
       "\n",
       "[3 rows x 26 columns]"
      ]
     },
     "metadata": {},
     "output_type": "display_data"
    },
    {
     "data": {
      "text/html": [
       "<div>\n",
       "<style scoped>\n",
       "    .dataframe tbody tr th:only-of-type {\n",
       "        vertical-align: middle;\n",
       "    }\n",
       "\n",
       "    .dataframe tbody tr th {\n",
       "        vertical-align: top;\n",
       "    }\n",
       "\n",
       "    .dataframe thead th {\n",
       "        text-align: right;\n",
       "    }\n",
       "</style>\n",
       "<table border=\"1\" class=\"dataframe\">\n",
       "  <thead>\n",
       "    <tr style=\"text-align: right;\">\n",
       "      <th></th>\n",
       "      <th>item_id</th>\n",
       "      <th>status</th>\n",
       "      <th>created_at</th>\n",
       "      <th>sku</th>\n",
       "      <th>price</th>\n",
       "      <th>qty_ordered</th>\n",
       "      <th>grand_total</th>\n",
       "      <th>increment_id</th>\n",
       "      <th>category_name_1</th>\n",
       "      <th>sales_commission_code</th>\n",
       "      <th>...</th>\n",
       "      <th>Month</th>\n",
       "      <th>Customer Since</th>\n",
       "      <th>M-Y</th>\n",
       "      <th>FY</th>\n",
       "      <th>Customer ID</th>\n",
       "      <th>Unnamed: 21</th>\n",
       "      <th>Unnamed: 22</th>\n",
       "      <th>Unnamed: 23</th>\n",
       "      <th>Unnamed: 24</th>\n",
       "      <th>Unnamed: 25</th>\n",
       "    </tr>\n",
       "  </thead>\n",
       "  <tbody>\n",
       "    <tr>\n",
       "      <th>0</th>\n",
       "      <td>211131.0</td>\n",
       "      <td>complete</td>\n",
       "      <td>7/1/2016</td>\n",
       "      <td>kreations_YI 06-L</td>\n",
       "      <td>1950.0</td>\n",
       "      <td>1.0</td>\n",
       "      <td>1950.0</td>\n",
       "      <td>100147443</td>\n",
       "      <td>Women's Fashion</td>\n",
       "      <td>\\N</td>\n",
       "      <td>...</td>\n",
       "      <td>7.0</td>\n",
       "      <td>2016-7</td>\n",
       "      <td>7-2016</td>\n",
       "      <td>FY17</td>\n",
       "      <td>1.0</td>\n",
       "      <td>NaN</td>\n",
       "      <td>NaN</td>\n",
       "      <td>NaN</td>\n",
       "      <td>NaN</td>\n",
       "      <td>NaN</td>\n",
       "    </tr>\n",
       "    <tr>\n",
       "      <th>1</th>\n",
       "      <td>211133.0</td>\n",
       "      <td>canceled</td>\n",
       "      <td>7/1/2016</td>\n",
       "      <td>kcc_Buy 2 Frey Air Freshener &amp; Get 1 Kasual Bo...</td>\n",
       "      <td>240.0</td>\n",
       "      <td>1.0</td>\n",
       "      <td>240.0</td>\n",
       "      <td>100147444</td>\n",
       "      <td>Beauty &amp; Grooming</td>\n",
       "      <td>\\N</td>\n",
       "      <td>...</td>\n",
       "      <td>7.0</td>\n",
       "      <td>2016-7</td>\n",
       "      <td>7-2016</td>\n",
       "      <td>FY17</td>\n",
       "      <td>2.0</td>\n",
       "      <td>NaN</td>\n",
       "      <td>NaN</td>\n",
       "      <td>NaN</td>\n",
       "      <td>NaN</td>\n",
       "      <td>NaN</td>\n",
       "    </tr>\n",
       "    <tr>\n",
       "      <th>2</th>\n",
       "      <td>211134.0</td>\n",
       "      <td>canceled</td>\n",
       "      <td>7/1/2016</td>\n",
       "      <td>Ego_UP0017-999-MR0</td>\n",
       "      <td>2450.0</td>\n",
       "      <td>1.0</td>\n",
       "      <td>2450.0</td>\n",
       "      <td>100147445</td>\n",
       "      <td>Women's Fashion</td>\n",
       "      <td>\\N</td>\n",
       "      <td>...</td>\n",
       "      <td>7.0</td>\n",
       "      <td>2016-7</td>\n",
       "      <td>7-2016</td>\n",
       "      <td>FY17</td>\n",
       "      <td>3.0</td>\n",
       "      <td>NaN</td>\n",
       "      <td>NaN</td>\n",
       "      <td>NaN</td>\n",
       "      <td>NaN</td>\n",
       "      <td>NaN</td>\n",
       "    </tr>\n",
       "    <tr>\n",
       "      <th>3</th>\n",
       "      <td>211135.0</td>\n",
       "      <td>complete</td>\n",
       "      <td>7/1/2016</td>\n",
       "      <td>kcc_krone deal</td>\n",
       "      <td>360.0</td>\n",
       "      <td>1.0</td>\n",
       "      <td>60.0</td>\n",
       "      <td>100147446</td>\n",
       "      <td>Beauty &amp; Grooming</td>\n",
       "      <td>R-FSD-52352</td>\n",
       "      <td>...</td>\n",
       "      <td>7.0</td>\n",
       "      <td>2016-7</td>\n",
       "      <td>7-2016</td>\n",
       "      <td>FY17</td>\n",
       "      <td>4.0</td>\n",
       "      <td>NaN</td>\n",
       "      <td>NaN</td>\n",
       "      <td>NaN</td>\n",
       "      <td>NaN</td>\n",
       "      <td>NaN</td>\n",
       "    </tr>\n",
       "    <tr>\n",
       "      <th>4</th>\n",
       "      <td>211136.0</td>\n",
       "      <td>order_refunded</td>\n",
       "      <td>7/1/2016</td>\n",
       "      <td>BK7010400AG</td>\n",
       "      <td>555.0</td>\n",
       "      <td>2.0</td>\n",
       "      <td>1110.0</td>\n",
       "      <td>100147447</td>\n",
       "      <td>Soghaat</td>\n",
       "      <td>\\N</td>\n",
       "      <td>...</td>\n",
       "      <td>7.0</td>\n",
       "      <td>2016-7</td>\n",
       "      <td>7-2016</td>\n",
       "      <td>FY17</td>\n",
       "      <td>5.0</td>\n",
       "      <td>NaN</td>\n",
       "      <td>NaN</td>\n",
       "      <td>NaN</td>\n",
       "      <td>NaN</td>\n",
       "      <td>NaN</td>\n",
       "    </tr>\n",
       "  </tbody>\n",
       "</table>\n",
       "<p>5 rows × 26 columns</p>\n",
       "</div>"
      ],
      "text/plain": [
       "    item_id          status created_at  \\\n",
       "0  211131.0        complete   7/1/2016   \n",
       "1  211133.0        canceled   7/1/2016   \n",
       "2  211134.0        canceled   7/1/2016   \n",
       "3  211135.0        complete   7/1/2016   \n",
       "4  211136.0  order_refunded   7/1/2016   \n",
       "\n",
       "                                                 sku   price  qty_ordered  \\\n",
       "0                                  kreations_YI 06-L  1950.0          1.0   \n",
       "1  kcc_Buy 2 Frey Air Freshener & Get 1 Kasual Bo...   240.0          1.0   \n",
       "2                                 Ego_UP0017-999-MR0  2450.0          1.0   \n",
       "3                                     kcc_krone deal   360.0          1.0   \n",
       "4                                        BK7010400AG   555.0          2.0   \n",
       "\n",
       "   grand_total increment_id    category_name_1 sales_commission_code  ...  \\\n",
       "0       1950.0    100147443    Women's Fashion                    \\N  ...   \n",
       "1        240.0    100147444  Beauty & Grooming                    \\N  ...   \n",
       "2       2450.0    100147445    Women's Fashion                    \\N  ...   \n",
       "3         60.0    100147446  Beauty & Grooming           R-FSD-52352  ...   \n",
       "4       1110.0    100147447            Soghaat                    \\N  ...   \n",
       "\n",
       "   Month Customer Since     M-Y    FY Customer ID  Unnamed: 21  Unnamed: 22  \\\n",
       "0    7.0         2016-7  7-2016  FY17         1.0          NaN          NaN   \n",
       "1    7.0         2016-7  7-2016  FY17         2.0          NaN          NaN   \n",
       "2    7.0         2016-7  7-2016  FY17         3.0          NaN          NaN   \n",
       "3    7.0         2016-7  7-2016  FY17         4.0          NaN          NaN   \n",
       "4    7.0         2016-7  7-2016  FY17         5.0          NaN          NaN   \n",
       "\n",
       "  Unnamed: 23 Unnamed: 24 Unnamed: 25  \n",
       "0         NaN         NaN         NaN  \n",
       "1         NaN         NaN         NaN  \n",
       "2         NaN         NaN         NaN  \n",
       "3         NaN         NaN         NaN  \n",
       "4         NaN         NaN         NaN  \n",
       "\n",
       "[5 rows x 26 columns]"
      ]
     },
     "metadata": {},
     "output_type": "display_data"
    }
   ],
   "source": [
    "# gives some infos on columns types and numer of null values\n",
    "tab_info=pd.DataFrame(dataset.dtypes).T.rename(index={0:'column type'})\n",
    "tab_info=tab_info.append(pd.DataFrame(dataset.isnull().sum()).T.rename(index={0:'null values (nb)'}))\n",
    "tab_info=tab_info.append(pd.DataFrame(dataset.isnull().sum()/dataset.shape[0]*100).T.\n",
    "                         rename(index={0:'null values (%)'}))\n",
    "display(tab_info)\n",
    "#__________________\n",
    "# show first lines\n",
    "display(dataset[:5])"
   ]
  },
  {
   "cell_type": "code",
   "execution_count": 6,
   "id": "aca2af92",
   "metadata": {
    "execution": {
     "iopub.execute_input": "2022-06-30T00:29:35.370047Z",
     "iopub.status.busy": "2022-06-30T00:29:35.369661Z",
     "iopub.status.idle": "2022-06-30T00:29:36.635181Z",
     "shell.execute_reply": "2022-06-30T00:29:36.634037Z"
    },
    "papermill": {
     "duration": 1.282447,
     "end_time": "2022-06-30T00:29:36.637985",
     "exception": false,
     "start_time": "2022-06-30T00:29:35.355538",
     "status": "completed"
    },
    "tags": []
   },
   "outputs": [],
   "source": [
    "dataset = dataset.dropna(axis=1, how='all')\n",
    "#to remove the extra NaN values generated by pandas in dummy columns as it was because of column so axis=1 is selected and to drop only those column which has all NaN values all is used"
   ]
  },
  {
   "cell_type": "code",
   "execution_count": 7,
   "id": "079fd87b",
   "metadata": {
    "execution": {
     "iopub.execute_input": "2022-06-30T00:29:36.666920Z",
     "iopub.status.busy": "2022-06-30T00:29:36.665569Z",
     "iopub.status.idle": "2022-06-30T00:29:36.673607Z",
     "shell.execute_reply": "2022-06-30T00:29:36.672469Z"
    },
    "papermill": {
     "duration": 0.025036,
     "end_time": "2022-06-30T00:29:36.675918",
     "exception": false,
     "start_time": "2022-06-30T00:29:36.650882",
     "status": "completed"
    },
    "tags": []
   },
   "outputs": [
    {
     "data": {
      "text/plain": [
       "(1048575, 21)"
      ]
     },
     "execution_count": 7,
     "metadata": {},
     "output_type": "execute_result"
    }
   ],
   "source": [
    "dataset.shape #Confirming if the extra columns are gone"
   ]
  },
  {
   "cell_type": "code",
   "execution_count": 8,
   "id": "67c9410b",
   "metadata": {
    "execution": {
     "iopub.execute_input": "2022-06-30T00:29:36.703752Z",
     "iopub.status.busy": "2022-06-30T00:29:36.703103Z",
     "iopub.status.idle": "2022-06-30T00:29:38.854744Z",
     "shell.execute_reply": "2022-06-30T00:29:38.853805Z"
    },
    "papermill": {
     "duration": 2.168365,
     "end_time": "2022-06-30T00:29:38.857310",
     "exception": false,
     "start_time": "2022-06-30T00:29:36.688945",
     "status": "completed"
    },
    "tags": []
   },
   "outputs": [
    {
     "data": {
      "text/html": [
       "<div>\n",
       "<style scoped>\n",
       "    .dataframe tbody tr th:only-of-type {\n",
       "        vertical-align: middle;\n",
       "    }\n",
       "\n",
       "    .dataframe tbody tr th {\n",
       "        vertical-align: top;\n",
       "    }\n",
       "\n",
       "    .dataframe thead th {\n",
       "        text-align: right;\n",
       "    }\n",
       "</style>\n",
       "<table border=\"1\" class=\"dataframe\">\n",
       "  <thead>\n",
       "    <tr style=\"text-align: right;\">\n",
       "      <th></th>\n",
       "      <th>item_id</th>\n",
       "      <th>status</th>\n",
       "      <th>created_at</th>\n",
       "      <th>sku</th>\n",
       "      <th>price</th>\n",
       "      <th>qty_ordered</th>\n",
       "      <th>grand_total</th>\n",
       "      <th>increment_id</th>\n",
       "      <th>category_name_1</th>\n",
       "      <th>sales_commission_code</th>\n",
       "      <th>...</th>\n",
       "      <th>payment_method</th>\n",
       "      <th>Working Date</th>\n",
       "      <th>BI Status</th>\n",
       "      <th>MV</th>\n",
       "      <th>Year</th>\n",
       "      <th>Month</th>\n",
       "      <th>Customer Since</th>\n",
       "      <th>M-Y</th>\n",
       "      <th>FY</th>\n",
       "      <th>Customer ID</th>\n",
       "    </tr>\n",
       "  </thead>\n",
       "  <tbody>\n",
       "    <tr>\n",
       "      <th>column type</th>\n",
       "      <td>float64</td>\n",
       "      <td>object</td>\n",
       "      <td>object</td>\n",
       "      <td>object</td>\n",
       "      <td>float64</td>\n",
       "      <td>float64</td>\n",
       "      <td>float64</td>\n",
       "      <td>object</td>\n",
       "      <td>object</td>\n",
       "      <td>object</td>\n",
       "      <td>...</td>\n",
       "      <td>object</td>\n",
       "      <td>object</td>\n",
       "      <td>object</td>\n",
       "      <td>object</td>\n",
       "      <td>float64</td>\n",
       "      <td>float64</td>\n",
       "      <td>object</td>\n",
       "      <td>object</td>\n",
       "      <td>object</td>\n",
       "      <td>float64</td>\n",
       "    </tr>\n",
       "    <tr>\n",
       "      <th>null values (nb)</th>\n",
       "      <td>464051</td>\n",
       "      <td>464066</td>\n",
       "      <td>464051</td>\n",
       "      <td>464071</td>\n",
       "      <td>464051</td>\n",
       "      <td>464051</td>\n",
       "      <td>464051</td>\n",
       "      <td>464051</td>\n",
       "      <td>464215</td>\n",
       "      <td>601226</td>\n",
       "      <td>...</td>\n",
       "      <td>464051</td>\n",
       "      <td>464051</td>\n",
       "      <td>464051</td>\n",
       "      <td>464051</td>\n",
       "      <td>464051</td>\n",
       "      <td>464051</td>\n",
       "      <td>464062</td>\n",
       "      <td>464051</td>\n",
       "      <td>464051</td>\n",
       "      <td>464062</td>\n",
       "    </tr>\n",
       "    <tr>\n",
       "      <th>null values (%)</th>\n",
       "      <td>44.255394</td>\n",
       "      <td>44.256825</td>\n",
       "      <td>44.255394</td>\n",
       "      <td>44.257302</td>\n",
       "      <td>44.255394</td>\n",
       "      <td>44.255394</td>\n",
       "      <td>44.255394</td>\n",
       "      <td>44.255394</td>\n",
       "      <td>44.271034</td>\n",
       "      <td>57.337434</td>\n",
       "      <td>...</td>\n",
       "      <td>44.255394</td>\n",
       "      <td>44.255394</td>\n",
       "      <td>44.255394</td>\n",
       "      <td>44.255394</td>\n",
       "      <td>44.255394</td>\n",
       "      <td>44.255394</td>\n",
       "      <td>44.256443</td>\n",
       "      <td>44.255394</td>\n",
       "      <td>44.255394</td>\n",
       "      <td>44.256443</td>\n",
       "    </tr>\n",
       "  </tbody>\n",
       "</table>\n",
       "<p>3 rows × 21 columns</p>\n",
       "</div>"
      ],
      "text/plain": [
       "                    item_id     status created_at        sku      price  \\\n",
       "column type         float64     object     object     object    float64   \n",
       "null values (nb)     464051     464066     464051     464071     464051   \n",
       "null values (%)   44.255394  44.256825  44.255394  44.257302  44.255394   \n",
       "\n",
       "                 qty_ordered grand_total increment_id category_name_1  \\\n",
       "column type          float64     float64       object          object   \n",
       "null values (nb)      464051      464051       464051          464215   \n",
       "null values (%)    44.255394   44.255394    44.255394       44.271034   \n",
       "\n",
       "                 sales_commission_code  ... payment_method Working Date  \\\n",
       "column type                     object  ...         object       object   \n",
       "null values (nb)                601226  ...         464051       464051   \n",
       "null values (%)              57.337434  ...      44.255394    44.255394   \n",
       "\n",
       "                  BI Status        MV        Year      Month Customer Since  \\\n",
       "column type          object     object    float64    float64         object   \n",
       "null values (nb)     464051     464051     464051     464051         464062   \n",
       "null values (%)   44.255394  44.255394  44.255394  44.255394      44.256443   \n",
       "\n",
       "                        M-Y         FY Customer ID  \n",
       "column type          object     object     float64  \n",
       "null values (nb)     464051     464051      464062  \n",
       "null values (%)   44.255394  44.255394   44.256443  \n",
       "\n",
       "[3 rows x 21 columns]"
      ]
     },
     "metadata": {},
     "output_type": "display_data"
    }
   ],
   "source": [
    "#Repeating previous step to check Null values scenerio\n",
    "tab_info=pd.DataFrame(dataset.dtypes).T.rename(index={0:'column type'})\n",
    "tab_info=tab_info.append(pd.DataFrame(dataset.isnull().sum()).T.rename(index={0:'null values (nb)'}))\n",
    "tab_info=tab_info.append(pd.DataFrame(dataset.isnull().sum()/dataset.shape[0]*100).T.\n",
    "                         rename(index={0:'null values (%)'}))\n",
    "display(tab_info)\n"
   ]
  },
  {
   "cell_type": "code",
   "execution_count": 9,
   "id": "9a81c650",
   "metadata": {
    "execution": {
     "iopub.execute_input": "2022-06-30T00:29:38.885433Z",
     "iopub.status.busy": "2022-06-30T00:29:38.885053Z",
     "iopub.status.idle": "2022-06-30T00:29:40.667928Z",
     "shell.execute_reply": "2022-06-30T00:29:40.666699Z"
    },
    "papermill": {
     "duration": 1.799708,
     "end_time": "2022-06-30T00:29:40.670297",
     "exception": false,
     "start_time": "2022-06-30T00:29:38.870589",
     "status": "completed"
    },
    "tags": []
   },
   "outputs": [
    {
     "name": "stdout",
     "output_type": "stream",
     "text": [
      "Dataframe dimensions: (584513, 21)\n"
     ]
    },
    {
     "data": {
      "text/html": [
       "<div>\n",
       "<style scoped>\n",
       "    .dataframe tbody tr th:only-of-type {\n",
       "        vertical-align: middle;\n",
       "    }\n",
       "\n",
       "    .dataframe tbody tr th {\n",
       "        vertical-align: top;\n",
       "    }\n",
       "\n",
       "    .dataframe thead th {\n",
       "        text-align: right;\n",
       "    }\n",
       "</style>\n",
       "<table border=\"1\" class=\"dataframe\">\n",
       "  <thead>\n",
       "    <tr style=\"text-align: right;\">\n",
       "      <th></th>\n",
       "      <th>item_id</th>\n",
       "      <th>status</th>\n",
       "      <th>created_at</th>\n",
       "      <th>sku</th>\n",
       "      <th>price</th>\n",
       "      <th>qty_ordered</th>\n",
       "      <th>grand_total</th>\n",
       "      <th>increment_id</th>\n",
       "      <th>category_name_1</th>\n",
       "      <th>sales_commission_code</th>\n",
       "      <th>...</th>\n",
       "      <th>payment_method</th>\n",
       "      <th>Working Date</th>\n",
       "      <th>BI Status</th>\n",
       "      <th>MV</th>\n",
       "      <th>Year</th>\n",
       "      <th>Month</th>\n",
       "      <th>Customer Since</th>\n",
       "      <th>M-Y</th>\n",
       "      <th>FY</th>\n",
       "      <th>Customer ID</th>\n",
       "    </tr>\n",
       "  </thead>\n",
       "  <tbody>\n",
       "    <tr>\n",
       "      <th>column type</th>\n",
       "      <td>float64</td>\n",
       "      <td>object</td>\n",
       "      <td>object</td>\n",
       "      <td>object</td>\n",
       "      <td>float64</td>\n",
       "      <td>float64</td>\n",
       "      <td>float64</td>\n",
       "      <td>object</td>\n",
       "      <td>object</td>\n",
       "      <td>object</td>\n",
       "      <td>...</td>\n",
       "      <td>object</td>\n",
       "      <td>object</td>\n",
       "      <td>object</td>\n",
       "      <td>object</td>\n",
       "      <td>float64</td>\n",
       "      <td>float64</td>\n",
       "      <td>object</td>\n",
       "      <td>object</td>\n",
       "      <td>object</td>\n",
       "      <td>float64</td>\n",
       "    </tr>\n",
       "    <tr>\n",
       "      <th>null values (nb)</th>\n",
       "      <td>0</td>\n",
       "      <td>15</td>\n",
       "      <td>0</td>\n",
       "      <td>20</td>\n",
       "      <td>0</td>\n",
       "      <td>0</td>\n",
       "      <td>0</td>\n",
       "      <td>0</td>\n",
       "      <td>164</td>\n",
       "      <td>137164</td>\n",
       "      <td>...</td>\n",
       "      <td>0</td>\n",
       "      <td>0</td>\n",
       "      <td>0</td>\n",
       "      <td>0</td>\n",
       "      <td>0</td>\n",
       "      <td>0</td>\n",
       "      <td>0</td>\n",
       "      <td>0</td>\n",
       "      <td>0</td>\n",
       "      <td>0</td>\n",
       "    </tr>\n",
       "    <tr>\n",
       "      <th>null values (%)</th>\n",
       "      <td>0.0</td>\n",
       "      <td>0.002566</td>\n",
       "      <td>0.0</td>\n",
       "      <td>0.003422</td>\n",
       "      <td>0.0</td>\n",
       "      <td>0.0</td>\n",
       "      <td>0.0</td>\n",
       "      <td>0.0</td>\n",
       "      <td>0.028058</td>\n",
       "      <td>23.466373</td>\n",
       "      <td>...</td>\n",
       "      <td>0.0</td>\n",
       "      <td>0.0</td>\n",
       "      <td>0.0</td>\n",
       "      <td>0.0</td>\n",
       "      <td>0.0</td>\n",
       "      <td>0.0</td>\n",
       "      <td>0.0</td>\n",
       "      <td>0.0</td>\n",
       "      <td>0.0</td>\n",
       "      <td>0.0</td>\n",
       "    </tr>\n",
       "  </tbody>\n",
       "</table>\n",
       "<p>3 rows × 21 columns</p>\n",
       "</div>"
      ],
      "text/plain": [
       "                  item_id    status created_at       sku    price qty_ordered  \\\n",
       "column type       float64    object     object    object  float64     float64   \n",
       "null values (nb)        0        15          0        20        0           0   \n",
       "null values (%)       0.0  0.002566        0.0  0.003422      0.0         0.0   \n",
       "\n",
       "                 grand_total increment_id category_name_1  \\\n",
       "column type          float64       object          object   \n",
       "null values (nb)           0            0             164   \n",
       "null values (%)          0.0          0.0        0.028058   \n",
       "\n",
       "                 sales_commission_code  ... payment_method Working Date  \\\n",
       "column type                     object  ...         object       object   \n",
       "null values (nb)                137164  ...              0            0   \n",
       "null values (%)              23.466373  ...            0.0          0.0   \n",
       "\n",
       "                 BI Status     MV      Year    Month Customer Since     M-Y  \\\n",
       "column type         object  object  float64  float64         object  object   \n",
       "null values (nb)         0       0        0        0              0       0   \n",
       "null values (%)        0.0     0.0      0.0      0.0            0.0     0.0   \n",
       "\n",
       "                      FY Customer ID  \n",
       "column type       object     float64  \n",
       "null values (nb)       0           0  \n",
       "null values (%)      0.0         0.0  \n",
       "\n",
       "[3 rows x 21 columns]"
      ]
     },
     "metadata": {},
     "output_type": "display_data"
    }
   ],
   "source": [
    "dataset.dropna(axis = 0, subset = ['Customer ID'], inplace = True)\n",
    "print('Dataframe dimensions:', dataset.shape)\n",
    "#____________________________________________________________\n",
    "# gives some infos on columns types and numer of null values\n",
    "tab_info=pd.DataFrame(dataset.dtypes).T.rename(index={0:'column type'})\n",
    "tab_info=tab_info.append(pd.DataFrame(dataset.isnull().sum()).T.rename(index={0:'null values (nb)'}))\n",
    "tab_info=tab_info.append(pd.DataFrame(dataset.isnull().sum()/dataset.shape[0]*100).T.\n",
    "                         rename(index={0:'null values (%)'}))\n",
    "display(tab_info)"
   ]
  },
  {
   "cell_type": "code",
   "execution_count": 10,
   "id": "28988f43",
   "metadata": {
    "execution": {
     "iopub.execute_input": "2022-06-30T00:29:40.699872Z",
     "iopub.status.busy": "2022-06-30T00:29:40.699215Z",
     "iopub.status.idle": "2022-06-30T00:29:43.172569Z",
     "shell.execute_reply": "2022-06-30T00:29:43.171353Z"
    },
    "papermill": {
     "duration": 2.491303,
     "end_time": "2022-06-30T00:29:43.175303",
     "exception": false,
     "start_time": "2022-06-30T00:29:40.684000",
     "status": "completed"
    },
    "tags": []
   },
   "outputs": [
    {
     "name": "stdout",
     "output_type": "stream",
     "text": [
      "Duplicate Entries 0\n"
     ]
    }
   ],
   "source": [
    "print('Duplicate Entries {}'.format(dataset.duplicated().sum()))\n",
    "dataset.drop_duplicates(inplace = True)"
   ]
  },
  {
   "cell_type": "code",
   "execution_count": 11,
   "id": "159e2056",
   "metadata": {
    "execution": {
     "iopub.execute_input": "2022-06-30T00:29:43.204916Z",
     "iopub.status.busy": "2022-06-30T00:29:43.204488Z",
     "iopub.status.idle": "2022-06-30T00:29:43.812450Z",
     "shell.execute_reply": "2022-06-30T00:29:43.811164Z"
    },
    "papermill": {
     "duration": 0.626015,
     "end_time": "2022-06-30T00:29:43.815099",
     "exception": false,
     "start_time": "2022-06-30T00:29:43.189084",
     "status": "completed"
    },
    "tags": []
   },
   "outputs": [
    {
     "data": {
      "text/html": [
       "<div>\n",
       "<style scoped>\n",
       "    .dataframe tbody tr th:only-of-type {\n",
       "        vertical-align: middle;\n",
       "    }\n",
       "\n",
       "    .dataframe tbody tr th {\n",
       "        vertical-align: top;\n",
       "    }\n",
       "\n",
       "    .dataframe thead th {\n",
       "        text-align: right;\n",
       "    }\n",
       "</style>\n",
       "<table border=\"1\" class=\"dataframe\">\n",
       "  <thead>\n",
       "    <tr style=\"text-align: right;\">\n",
       "      <th></th>\n",
       "      <th>products</th>\n",
       "      <th>transactions</th>\n",
       "      <th>customers</th>\n",
       "    </tr>\n",
       "  </thead>\n",
       "  <tbody>\n",
       "    <tr>\n",
       "      <th>quantity</th>\n",
       "      <td>84888</td>\n",
       "      <td>408773</td>\n",
       "      <td>115326</td>\n",
       "    </tr>\n",
       "  </tbody>\n",
       "</table>\n",
       "</div>"
      ],
      "text/plain": [
       "          products  transactions  customers\n",
       "quantity     84888        408773     115326"
      ]
     },
     "execution_count": 11,
     "metadata": {},
     "output_type": "execute_result"
    }
   ],
   "source": [
    "pd.DataFrame([{'products': len(dataset['sku'].value_counts()),    \n",
    "               'transactions': len(dataset['increment_id'].value_counts()),\n",
    "               'customers': len(dataset['Customer ID'].value_counts()),  \n",
    "              }], columns = ['products', 'transactions', 'customers'], index = ['quantity'])"
   ]
  },
  {
   "cell_type": "code",
   "execution_count": 12,
   "id": "cc4f4363",
   "metadata": {
    "execution": {
     "iopub.execute_input": "2022-06-30T00:29:43.845964Z",
     "iopub.status.busy": "2022-06-30T00:29:43.845529Z",
     "iopub.status.idle": "2022-06-30T00:29:44.901731Z",
     "shell.execute_reply": "2022-06-30T00:29:44.900475Z"
    },
    "papermill": {
     "duration": 1.075133,
     "end_time": "2022-06-30T00:29:44.904259",
     "exception": false,
     "start_time": "2022-06-30T00:29:43.829126",
     "status": "completed"
    },
    "tags": []
   },
   "outputs": [
    {
     "data": {
      "text/html": [
       "<div>\n",
       "<style scoped>\n",
       "    .dataframe tbody tr th:only-of-type {\n",
       "        vertical-align: middle;\n",
       "    }\n",
       "\n",
       "    .dataframe tbody tr th {\n",
       "        vertical-align: top;\n",
       "    }\n",
       "\n",
       "    .dataframe thead th {\n",
       "        text-align: right;\n",
       "    }\n",
       "</style>\n",
       "<table border=\"1\" class=\"dataframe\">\n",
       "  <thead>\n",
       "    <tr style=\"text-align: right;\">\n",
       "      <th></th>\n",
       "      <th>Customer ID</th>\n",
       "      <th>increment_id</th>\n",
       "      <th>status</th>\n",
       "      <th>Number of products</th>\n",
       "    </tr>\n",
       "  </thead>\n",
       "  <tbody>\n",
       "    <tr>\n",
       "      <th>0</th>\n",
       "      <td>1.0</td>\n",
       "      <td>100147443</td>\n",
       "      <td>complete</td>\n",
       "      <td>1</td>\n",
       "    </tr>\n",
       "    <tr>\n",
       "      <th>1</th>\n",
       "      <td>2.0</td>\n",
       "      <td>100147444</td>\n",
       "      <td>canceled</td>\n",
       "      <td>1</td>\n",
       "    </tr>\n",
       "    <tr>\n",
       "      <th>2</th>\n",
       "      <td>2.0</td>\n",
       "      <td>100222998</td>\n",
       "      <td>canceled</td>\n",
       "      <td>1</td>\n",
       "    </tr>\n",
       "    <tr>\n",
       "      <th>3</th>\n",
       "      <td>3.0</td>\n",
       "      <td>100147445</td>\n",
       "      <td>canceled</td>\n",
       "      <td>1</td>\n",
       "    </tr>\n",
       "    <tr>\n",
       "      <th>4</th>\n",
       "      <td>3.0</td>\n",
       "      <td>100306394</td>\n",
       "      <td>complete</td>\n",
       "      <td>4</td>\n",
       "    </tr>\n",
       "    <tr>\n",
       "      <th>5</th>\n",
       "      <td>4.0</td>\n",
       "      <td>100147446</td>\n",
       "      <td>complete</td>\n",
       "      <td>1</td>\n",
       "    </tr>\n",
       "    <tr>\n",
       "      <th>6</th>\n",
       "      <td>4.0</td>\n",
       "      <td>100148389</td>\n",
       "      <td>complete</td>\n",
       "      <td>1</td>\n",
       "    </tr>\n",
       "    <tr>\n",
       "      <th>7</th>\n",
       "      <td>4.0</td>\n",
       "      <td>100149432</td>\n",
       "      <td>complete</td>\n",
       "      <td>1</td>\n",
       "    </tr>\n",
       "    <tr>\n",
       "      <th>8</th>\n",
       "      <td>4.0</td>\n",
       "      <td>100150135</td>\n",
       "      <td>complete</td>\n",
       "      <td>1</td>\n",
       "    </tr>\n",
       "    <tr>\n",
       "      <th>9</th>\n",
       "      <td>4.0</td>\n",
       "      <td>100151149</td>\n",
       "      <td>complete</td>\n",
       "      <td>1</td>\n",
       "    </tr>\n",
       "  </tbody>\n",
       "</table>\n",
       "</div>"
      ],
      "text/plain": [
       "   Customer ID increment_id    status  Number of products\n",
       "0          1.0    100147443  complete                   1\n",
       "1          2.0    100147444  canceled                   1\n",
       "2          2.0    100222998  canceled                   1\n",
       "3          3.0    100147445  canceled                   1\n",
       "4          3.0    100306394  complete                   4\n",
       "5          4.0    100147446  complete                   1\n",
       "6          4.0    100148389  complete                   1\n",
       "7          4.0    100149432  complete                   1\n",
       "8          4.0    100150135  complete                   1\n",
       "9          4.0    100151149  complete                   1"
      ]
     },
     "execution_count": 12,
     "metadata": {},
     "output_type": "execute_result"
    }
   ],
   "source": [
    "temp = dataset.groupby(by=['Customer ID', 'increment_id',\"status\"], as_index=False)['M-Y'].count()\n",
    "nb_products_per_basket = temp.rename(columns = {'M-Y':'Number of products'})\n",
    "nb_products_per_basket[:10].sort_values('Customer ID')"
   ]
  },
  {
   "cell_type": "code",
   "execution_count": 13,
   "id": "08c4c99c",
   "metadata": {
    "execution": {
     "iopub.execute_input": "2022-06-30T00:29:44.935571Z",
     "iopub.status.busy": "2022-06-30T00:29:44.935164Z",
     "iopub.status.idle": "2022-06-30T00:29:45.019316Z",
     "shell.execute_reply": "2022-06-30T00:29:45.018028Z"
    },
    "papermill": {
     "duration": 0.10395,
     "end_time": "2022-06-30T00:29:45.022719",
     "exception": false,
     "start_time": "2022-06-30T00:29:44.918769",
     "status": "completed"
    },
    "tags": []
   },
   "outputs": [
    {
     "data": {
      "text/html": [
       "<div>\n",
       "<style scoped>\n",
       "    .dataframe tbody tr th:only-of-type {\n",
       "        vertical-align: middle;\n",
       "    }\n",
       "\n",
       "    .dataframe tbody tr th {\n",
       "        vertical-align: top;\n",
       "    }\n",
       "\n",
       "    .dataframe thead th {\n",
       "        text-align: right;\n",
       "    }\n",
       "</style>\n",
       "<table border=\"1\" class=\"dataframe\">\n",
       "  <thead>\n",
       "    <tr style=\"text-align: right;\">\n",
       "      <th></th>\n",
       "      <th>Customer ID</th>\n",
       "      <th>increment_id</th>\n",
       "      <th>status</th>\n",
       "      <th>Number of products</th>\n",
       "      <th>order_canceled</th>\n",
       "    </tr>\n",
       "  </thead>\n",
       "  <tbody>\n",
       "    <tr>\n",
       "      <th>0</th>\n",
       "      <td>1.0</td>\n",
       "      <td>100147443</td>\n",
       "      <td>complete</td>\n",
       "      <td>1</td>\n",
       "      <td>False</td>\n",
       "    </tr>\n",
       "    <tr>\n",
       "      <th>1</th>\n",
       "      <td>2.0</td>\n",
       "      <td>100147444</td>\n",
       "      <td>canceled</td>\n",
       "      <td>1</td>\n",
       "      <td>True</td>\n",
       "    </tr>\n",
       "    <tr>\n",
       "      <th>2</th>\n",
       "      <td>2.0</td>\n",
       "      <td>100222998</td>\n",
       "      <td>canceled</td>\n",
       "      <td>1</td>\n",
       "      <td>True</td>\n",
       "    </tr>\n",
       "    <tr>\n",
       "      <th>3</th>\n",
       "      <td>3.0</td>\n",
       "      <td>100147445</td>\n",
       "      <td>canceled</td>\n",
       "      <td>1</td>\n",
       "      <td>True</td>\n",
       "    </tr>\n",
       "    <tr>\n",
       "      <th>4</th>\n",
       "      <td>3.0</td>\n",
       "      <td>100306394</td>\n",
       "      <td>complete</td>\n",
       "      <td>4</td>\n",
       "      <td>False</td>\n",
       "    </tr>\n",
       "  </tbody>\n",
       "</table>\n",
       "</div>"
      ],
      "text/plain": [
       "   Customer ID increment_id    status  Number of products  order_canceled\n",
       "0          1.0    100147443  complete                   1           False\n",
       "1          2.0    100147444  canceled                   1            True\n",
       "2          2.0    100222998  canceled                   1            True\n",
       "3          3.0    100147445  canceled                   1            True\n",
       "4          3.0    100306394  complete                   4           False"
      ]
     },
     "metadata": {},
     "output_type": "display_data"
    },
    {
     "name": "stdout",
     "output_type": "stream",
     "text": [
      "Number of orders canceled: 148651/408762 (36.37%) \n"
     ]
    }
   ],
   "source": [
    "nb_products_per_basket['order_canceled'] = nb_products_per_basket.status == 'canceled'\n",
    "display(nb_products_per_basket[:5])\n",
    "#______________________________________________________________________________________________\n",
    "n1 = nb_products_per_basket['order_canceled'].sum()\n",
    "n2 = nb_products_per_basket.shape[0]\n",
    "print('Number of orders canceled: {}/{} ({:.2f}%) '.format(n1, n2, n1/n2*100))\n"
   ]
  },
  {
   "cell_type": "markdown",
   "id": "ce2fff63",
   "metadata": {
    "papermill": {
     "duration": 0.014921,
     "end_time": "2022-06-30T00:29:45.052869",
     "exception": false,
     "start_time": "2022-06-30T00:29:45.037948",
     "status": "completed"
    },
    "tags": []
   },
   "source": [
    "I am not able to resolve this one"
   ]
  },
  {
   "cell_type": "code",
   "execution_count": 14,
   "id": "1b6e0e63",
   "metadata": {
    "execution": {
     "iopub.execute_input": "2022-06-30T00:29:45.083889Z",
     "iopub.status.busy": "2022-06-30T00:29:45.083496Z",
     "iopub.status.idle": "2022-06-30T00:29:45.514431Z",
     "shell.execute_reply": "2022-06-30T00:29:45.513192Z"
    },
    "papermill": {
     "duration": 0.449201,
     "end_time": "2022-06-30T00:29:45.516931",
     "exception": false,
     "start_time": "2022-06-30T00:29:45.067730",
     "status": "completed"
    },
    "tags": []
   },
   "outputs": [
    {
     "data": {
      "text/plain": [
       "item_id                  201244\n",
       "status                   201244\n",
       "created_at               201244\n",
       "sku                      201235\n",
       "price                    201244\n",
       "qty_ordered              201244\n",
       "grand_total              201244\n",
       "increment_id             201244\n",
       "category_name_1          201136\n",
       "sales_commission_code    141446\n",
       "discount_amount          201244\n",
       "payment_method           201244\n",
       "Working Date             201244\n",
       "BI Status                201244\n",
       " MV                      201244\n",
       "Year                     201244\n",
       "Month                    201244\n",
       "Customer Since           201244\n",
       "M-Y                      201244\n",
       "FY                       201244\n",
       "Customer ID              201244\n",
       "dtype: int64"
      ]
     },
     "execution_count": 14,
     "metadata": {},
     "output_type": "execute_result"
    }
   ],
   "source": [
    "dataset[dataset[\"status\"]==\"canceled\"].count()"
   ]
  },
  {
   "cell_type": "code",
   "execution_count": 15,
   "id": "495eef49",
   "metadata": {
    "execution": {
     "iopub.execute_input": "2022-06-30T00:29:45.548729Z",
     "iopub.status.busy": "2022-06-30T00:29:45.548347Z",
     "iopub.status.idle": "2022-06-30T00:29:45.770064Z",
     "shell.execute_reply": "2022-06-30T00:29:45.768988Z"
    },
    "papermill": {
     "duration": 0.24054,
     "end_time": "2022-06-30T00:29:45.772380",
     "exception": false,
     "start_time": "2022-06-30T00:29:45.531840",
     "status": "completed"
    },
    "tags": []
   },
   "outputs": [
    {
     "data": {
      "text/html": [
       "<div>\n",
       "<style scoped>\n",
       "    .dataframe tbody tr th:only-of-type {\n",
       "        vertical-align: middle;\n",
       "    }\n",
       "\n",
       "    .dataframe tbody tr th {\n",
       "        vertical-align: top;\n",
       "    }\n",
       "\n",
       "    .dataframe thead th {\n",
       "        text-align: right;\n",
       "    }\n",
       "</style>\n",
       "<table border=\"1\" class=\"dataframe\">\n",
       "  <thead>\n",
       "    <tr style=\"text-align: right;\">\n",
       "      <th></th>\n",
       "      <th>item_id</th>\n",
       "      <th>price</th>\n",
       "      <th>qty_ordered</th>\n",
       "      <th>grand_total</th>\n",
       "      <th>discount_amount</th>\n",
       "      <th>Year</th>\n",
       "      <th>Month</th>\n",
       "      <th>Customer ID</th>\n",
       "    </tr>\n",
       "  </thead>\n",
       "  <tbody>\n",
       "    <tr>\n",
       "      <th>count</th>\n",
       "      <td>584513.000000</td>\n",
       "      <td>5.845130e+05</td>\n",
       "      <td>584513.000000</td>\n",
       "      <td>5.845130e+05</td>\n",
       "      <td>584513.000000</td>\n",
       "      <td>584513.000000</td>\n",
       "      <td>584513.000000</td>\n",
       "      <td>584513.000000</td>\n",
       "    </tr>\n",
       "    <tr>\n",
       "      <th>mean</th>\n",
       "      <td>565663.128495</td>\n",
       "      <td>6.348821e+03</td>\n",
       "      <td>1.296375</td>\n",
       "      <td>8.530676e+03</td>\n",
       "      <td>499.502175</td>\n",
       "      <td>2017.044097</td>\n",
       "      <td>7.167746</td>\n",
       "      <td>45790.511965</td>\n",
       "    </tr>\n",
       "    <tr>\n",
       "      <th>std</th>\n",
       "      <td>200120.929873</td>\n",
       "      <td>1.494940e+04</td>\n",
       "      <td>3.996094</td>\n",
       "      <td>6.132138e+04</td>\n",
       "      <td>1506.955668</td>\n",
       "      <td>0.707349</td>\n",
       "      <td>3.486270</td>\n",
       "      <td>34414.962389</td>\n",
       "    </tr>\n",
       "    <tr>\n",
       "      <th>min</th>\n",
       "      <td>211131.000000</td>\n",
       "      <td>0.000000e+00</td>\n",
       "      <td>1.000000</td>\n",
       "      <td>-1.594000e+03</td>\n",
       "      <td>-599.500000</td>\n",
       "      <td>2016.000000</td>\n",
       "      <td>1.000000</td>\n",
       "      <td>1.000000</td>\n",
       "    </tr>\n",
       "    <tr>\n",
       "      <th>25%</th>\n",
       "      <td>394997.000000</td>\n",
       "      <td>3.600000e+02</td>\n",
       "      <td>1.000000</td>\n",
       "      <td>9.450000e+02</td>\n",
       "      <td>0.000000</td>\n",
       "      <td>2017.000000</td>\n",
       "      <td>4.000000</td>\n",
       "      <td>13516.000000</td>\n",
       "    </tr>\n",
       "    <tr>\n",
       "      <th>50%</th>\n",
       "      <td>568417.000000</td>\n",
       "      <td>8.990000e+02</td>\n",
       "      <td>1.000000</td>\n",
       "      <td>1.960400e+03</td>\n",
       "      <td>0.000000</td>\n",
       "      <td>2017.000000</td>\n",
       "      <td>7.000000</td>\n",
       "      <td>42856.000000</td>\n",
       "    </tr>\n",
       "    <tr>\n",
       "      <th>75%</th>\n",
       "      <td>739102.000000</td>\n",
       "      <td>4.070000e+03</td>\n",
       "      <td>1.000000</td>\n",
       "      <td>6.999000e+03</td>\n",
       "      <td>160.520000</td>\n",
       "      <td>2018.000000</td>\n",
       "      <td>11.000000</td>\n",
       "      <td>73536.000000</td>\n",
       "    </tr>\n",
       "    <tr>\n",
       "      <th>max</th>\n",
       "      <td>905208.000000</td>\n",
       "      <td>1.012626e+06</td>\n",
       "      <td>1000.000000</td>\n",
       "      <td>1.788800e+07</td>\n",
       "      <td>90300.000000</td>\n",
       "      <td>2018.000000</td>\n",
       "      <td>12.000000</td>\n",
       "      <td>115326.000000</td>\n",
       "    </tr>\n",
       "  </tbody>\n",
       "</table>\n",
       "</div>"
      ],
      "text/plain": [
       "             item_id         price    qty_ordered   grand_total  \\\n",
       "count  584513.000000  5.845130e+05  584513.000000  5.845130e+05   \n",
       "mean   565663.128495  6.348821e+03       1.296375  8.530676e+03   \n",
       "std    200120.929873  1.494940e+04       3.996094  6.132138e+04   \n",
       "min    211131.000000  0.000000e+00       1.000000 -1.594000e+03   \n",
       "25%    394997.000000  3.600000e+02       1.000000  9.450000e+02   \n",
       "50%    568417.000000  8.990000e+02       1.000000  1.960400e+03   \n",
       "75%    739102.000000  4.070000e+03       1.000000  6.999000e+03   \n",
       "max    905208.000000  1.012626e+06    1000.000000  1.788800e+07   \n",
       "\n",
       "       discount_amount           Year          Month    Customer ID  \n",
       "count    584513.000000  584513.000000  584513.000000  584513.000000  \n",
       "mean        499.502175    2017.044097       7.167746   45790.511965  \n",
       "std        1506.955668       0.707349       3.486270   34414.962389  \n",
       "min        -599.500000    2016.000000       1.000000       1.000000  \n",
       "25%           0.000000    2017.000000       4.000000   13516.000000  \n",
       "50%           0.000000    2017.000000       7.000000   42856.000000  \n",
       "75%         160.520000    2018.000000      11.000000   73536.000000  \n",
       "max       90300.000000    2018.000000      12.000000  115326.000000  "
      ]
     },
     "execution_count": 15,
     "metadata": {},
     "output_type": "execute_result"
    }
   ],
   "source": [
    "dataset.describe() #To find description of numerical data (statistcal analysis)"
   ]
  },
  {
   "cell_type": "code",
   "execution_count": 16,
   "id": "bd5c3869",
   "metadata": {
    "execution": {
     "iopub.execute_input": "2022-06-30T00:29:45.805235Z",
     "iopub.status.busy": "2022-06-30T00:29:45.804005Z",
     "iopub.status.idle": "2022-06-30T00:29:46.139504Z",
     "shell.execute_reply": "2022-06-30T00:29:46.138416Z"
    },
    "papermill": {
     "duration": 0.354477,
     "end_time": "2022-06-30T00:29:46.142254",
     "exception": false,
     "start_time": "2022-06-30T00:29:45.787777",
     "status": "completed"
    },
    "tags": []
   },
   "outputs": [
    {
     "data": {
      "text/plain": [
       "Text(0, 0.5, 'Count')"
      ]
     },
     "execution_count": 16,
     "metadata": {},
     "output_type": "execute_result"
    },
    {
     "data": {
      "image/png": "[encoded data removed]",
      "text/plain": [
       "<Figure size 1440x720 with 1 Axes>"
      ]
     },
     "metadata": {
      "needs_background": "light"
     },
     "output_type": "display_data"
    }
   ],
   "source": [
    "#To investigate the negatve value in grand total minimum\n",
    "gt = dataset[dataset.grand_total < 0].status.value_counts().to_dict() #checked the less than 0 i.e negative values, count them and convert the data set into dictionary\n",
    "gt_df = pd.DataFrame(list(gt.items()), columns=[\"Order Status\",\"Count\"])\n",
    "\n",
    "#Defining the figure size\n",
    "plt.figure(figsize=(20,10))\n",
    "\n",
    "#Creating a Bar Chart\n",
    "sns.set(font_scale = 3)\n",
    "ax = sns.barplot(data=gt_df, x = \"Order Status\", y=\"Count\", palette = \"bright\")\n",
    "ax.set(title='Bar plot for all Status result in negative grand total')\n",
    "ax.bar_label(container = ax.containers[0],padding = 0, fontsize = 22, color =\"black\")\n",
    "\n",
    "\n",
    "#Setting up axis label size and colours of axis label\n",
    "plt.xticks(fontsize=20)\n",
    "plt.yticks(fontsize=20)\n",
    "ax.tick_params(axis=\"x\",colors = \"black\")\n",
    "ax.tick_params(axis=\"y\",colors = \"black\")\n",
    "\n",
    "#setting up axis label name and size\n",
    "plt.xlabel(\"order status\",fontsize=24,labelpad=24,color = \"black\", fontweight='bold')\n",
    "plt.ylabel(\"Count\",fontsize=24,labelpad=24,color = \"black\",fontweight='bold')\n",
    "\n",
    "\n",
    "\n",
    "# it was giving error: AttributeError: 'AxesSubplot' object has no attribute 'bar_label' so updating matplotlib in 1st cell and removed that cell to avoid updating check again and again"
   ]
  },
  {
   "cell_type": "code",
   "execution_count": 17,
   "id": "30b2976b",
   "metadata": {
    "execution": {
     "iopub.execute_input": "2022-06-30T00:29:46.175972Z",
     "iopub.status.busy": "2022-06-30T00:29:46.175612Z",
     "iopub.status.idle": "2022-06-30T00:29:46.293855Z",
     "shell.execute_reply": "2022-06-30T00:29:46.292689Z"
    },
    "papermill": {
     "duration": 0.13843,
     "end_time": "2022-06-30T00:29:46.296556",
     "exception": false,
     "start_time": "2022-06-30T00:29:46.158126",
     "status": "completed"
    },
    "tags": []
   },
   "outputs": [],
   "source": [
    "dataset = dataset[dataset.grand_total > 0] #got rid of negative values"
   ]
  },
  {
   "cell_type": "code",
   "execution_count": 18,
   "id": "d233e622",
   "metadata": {
    "execution": {
     "iopub.execute_input": "2022-06-30T00:29:46.330554Z",
     "iopub.status.busy": "2022-06-30T00:29:46.330172Z",
     "iopub.status.idle": "2022-06-30T00:29:46.535594Z",
     "shell.execute_reply": "2022-06-30T00:29:46.534475Z"
    },
    "papermill": {
     "duration": 0.224977,
     "end_time": "2022-06-30T00:29:46.538119",
     "exception": false,
     "start_time": "2022-06-30T00:29:46.313142",
     "status": "completed"
    },
    "tags": []
   },
   "outputs": [
    {
     "data": {
      "text/html": [
       "<div>\n",
       "<style scoped>\n",
       "    .dataframe tbody tr th:only-of-type {\n",
       "        vertical-align: middle;\n",
       "    }\n",
       "\n",
       "    .dataframe tbody tr th {\n",
       "        vertical-align: top;\n",
       "    }\n",
       "\n",
       "    .dataframe thead th {\n",
       "        text-align: right;\n",
       "    }\n",
       "</style>\n",
       "<table border=\"1\" class=\"dataframe\">\n",
       "  <thead>\n",
       "    <tr style=\"text-align: right;\">\n",
       "      <th></th>\n",
       "      <th>item_id</th>\n",
       "      <th>price</th>\n",
       "      <th>qty_ordered</th>\n",
       "      <th>grand_total</th>\n",
       "      <th>discount_amount</th>\n",
       "      <th>Year</th>\n",
       "      <th>Month</th>\n",
       "      <th>Customer ID</th>\n",
       "    </tr>\n",
       "  </thead>\n",
       "  <tbody>\n",
       "    <tr>\n",
       "      <th>count</th>\n",
       "      <td>574805.000000</td>\n",
       "      <td>5.748050e+05</td>\n",
       "      <td>574805.000000</td>\n",
       "      <td>5.748050e+05</td>\n",
       "      <td>574805.000000</td>\n",
       "      <td>574805.000000</td>\n",
       "      <td>574805.000000</td>\n",
       "      <td>574805.000000</td>\n",
       "    </tr>\n",
       "    <tr>\n",
       "      <th>mean</th>\n",
       "      <td>565521.827281</td>\n",
       "      <td>6.401348e+03</td>\n",
       "      <td>1.298030</td>\n",
       "      <td>8.674791e+03</td>\n",
       "      <td>497.636419</td>\n",
       "      <td>2017.042552</td>\n",
       "      <td>7.181293</td>\n",
       "      <td>45787.779259</td>\n",
       "    </tr>\n",
       "    <tr>\n",
       "      <th>std</th>\n",
       "      <td>200135.939153</td>\n",
       "      <td>1.500883e+04</td>\n",
       "      <td>4.006866</td>\n",
       "      <td>6.182694e+04</td>\n",
       "      <td>1499.875464</td>\n",
       "      <td>0.707230</td>\n",
       "      <td>3.486686</td>\n",
       "      <td>34389.306168</td>\n",
       "    </tr>\n",
       "    <tr>\n",
       "      <th>min</th>\n",
       "      <td>211131.000000</td>\n",
       "      <td>0.000000e+00</td>\n",
       "      <td>1.000000</td>\n",
       "      <td>2.100000e-01</td>\n",
       "      <td>-599.500000</td>\n",
       "      <td>2016.000000</td>\n",
       "      <td>1.000000</td>\n",
       "      <td>1.000000</td>\n",
       "    </tr>\n",
       "    <tr>\n",
       "      <th>25%</th>\n",
       "      <td>394726.000000</td>\n",
       "      <td>3.600000e+02</td>\n",
       "      <td>1.000000</td>\n",
       "      <td>9.936500e+02</td>\n",
       "      <td>0.000000</td>\n",
       "      <td>2017.000000</td>\n",
       "      <td>4.000000</td>\n",
       "      <td>13575.000000</td>\n",
       "    </tr>\n",
       "    <tr>\n",
       "      <th>50%</th>\n",
       "      <td>568598.000000</td>\n",
       "      <td>9.000000e+02</td>\n",
       "      <td>1.000000</td>\n",
       "      <td>1.999000e+03</td>\n",
       "      <td>0.000000</td>\n",
       "      <td>2017.000000</td>\n",
       "      <td>7.000000</td>\n",
       "      <td>42846.000000</td>\n",
       "    </tr>\n",
       "    <tr>\n",
       "      <th>75%</th>\n",
       "      <td>738525.000000</td>\n",
       "      <td>4.312000e+03</td>\n",
       "      <td>1.000000</td>\n",
       "      <td>7.220800e+03</td>\n",
       "      <td>162.000000</td>\n",
       "      <td>2018.000000</td>\n",
       "      <td>11.000000</td>\n",
       "      <td>73512.000000</td>\n",
       "    </tr>\n",
       "    <tr>\n",
       "      <th>max</th>\n",
       "      <td>905208.000000</td>\n",
       "      <td>1.012626e+06</td>\n",
       "      <td>1000.000000</td>\n",
       "      <td>1.788800e+07</td>\n",
       "      <td>90300.000000</td>\n",
       "      <td>2018.000000</td>\n",
       "      <td>12.000000</td>\n",
       "      <td>115326.000000</td>\n",
       "    </tr>\n",
       "  </tbody>\n",
       "</table>\n",
       "</div>"
      ],
      "text/plain": [
       "             item_id         price    qty_ordered   grand_total  \\\n",
       "count  574805.000000  5.748050e+05  574805.000000  5.748050e+05   \n",
       "mean   565521.827281  6.401348e+03       1.298030  8.674791e+03   \n",
       "std    200135.939153  1.500883e+04       4.006866  6.182694e+04   \n",
       "min    211131.000000  0.000000e+00       1.000000  2.100000e-01   \n",
       "25%    394726.000000  3.600000e+02       1.000000  9.936500e+02   \n",
       "50%    568598.000000  9.000000e+02       1.000000  1.999000e+03   \n",
       "75%    738525.000000  4.312000e+03       1.000000  7.220800e+03   \n",
       "max    905208.000000  1.012626e+06    1000.000000  1.788800e+07   \n",
       "\n",
       "       discount_amount           Year          Month    Customer ID  \n",
       "count    574805.000000  574805.000000  574805.000000  574805.000000  \n",
       "mean        497.636419    2017.042552       7.181293   45787.779259  \n",
       "std        1499.875464       0.707230       3.486686   34389.306168  \n",
       "min        -599.500000    2016.000000       1.000000       1.000000  \n",
       "25%           0.000000    2017.000000       4.000000   13575.000000  \n",
       "50%           0.000000    2017.000000       7.000000   42846.000000  \n",
       "75%         162.000000    2018.000000      11.000000   73512.000000  \n",
       "max       90300.000000    2018.000000      12.000000  115326.000000  "
      ]
     },
     "execution_count": 18,
     "metadata": {},
     "output_type": "execute_result"
    }
   ],
   "source": [
    "dataset.describe() #checking the impact of removing negative values, now min grand_total has positive value"
   ]
  },
  {
   "cell_type": "code",
   "execution_count": 19,
   "id": "063955a5",
   "metadata": {
    "execution": {
     "iopub.execute_input": "2022-06-30T00:29:46.571657Z",
     "iopub.status.busy": "2022-06-30T00:29:46.571262Z",
     "iopub.status.idle": "2022-06-30T00:29:47.118918Z",
     "shell.execute_reply": "2022-06-30T00:29:47.117721Z"
    },
    "papermill": {
     "duration": 0.567983,
     "end_time": "2022-06-30T00:29:47.122089",
     "exception": false,
     "start_time": "2022-06-30T00:29:46.554106",
     "status": "completed"
    },
    "tags": []
   },
   "outputs": [
    {
     "data": {
      "image/png": "[encoded data removed]",
      "text/plain": [
       "<Figure size 1440x720 with 1 Axes>"
      ]
     },
     "metadata": {},
     "output_type": "display_data"
    }
   ],
   "source": [
    "plt.figure(figsize=(20,10))\n",
    "\n",
    "orderstatus = dataset.status.value_counts()\n",
    "orderstatus_df = pd.DataFrame(list(orderstatus.items()), columns=['Order Status', 'Counts'])\n",
    "\n",
    "#Creating a Bar Chart\n",
    "sns.set(font_scale = 3)\n",
    "ax = sns.barplot(data = orderstatus_df, x= 'Order Status', y = \"Counts\", palette = \"bright\") \n",
    "ax.bar_label(container = ax.containers[0], padding = 0, fontsize = 20, color='black')\n",
    "ax.set(title='Bar plot for number of orders on each status')\n",
    "\n",
    "#Setting up axis label size and colours of axis label\n",
    "plt.xticks( fontsize=20)\n",
    "plt.yticks( fontsize=20)\n",
    "ax.tick_params(axis='x', colors='black')\n",
    "ax.tick_params(axis='y', colors='black');\n",
    "\n",
    "#setting up axis label name and size\n",
    "plt.xlabel('Order Status', fontsize=24, labelpad=24, color='black',fontweight='bold')\n",
    "plt.ylabel('Counts', fontsize=24, labelpad=24, color='black',fontweight='bold');\n",
    "\n",
    "#setting up x axis labels verticaly and horizontalalignment to center\n",
    "plt.xticks(rotation=90, ha='center');\n"
   ]
  },
  {
   "cell_type": "code",
   "execution_count": 20,
   "id": "17976370",
   "metadata": {
    "execution": {
     "iopub.execute_input": "2022-06-30T00:29:47.159231Z",
     "iopub.status.busy": "2022-06-30T00:29:47.158865Z",
     "iopub.status.idle": "2022-06-30T00:29:47.674766Z",
     "shell.execute_reply": "2022-06-30T00:29:47.673394Z"
    },
    "papermill": {
     "duration": 0.53803,
     "end_time": "2022-06-30T00:29:47.677847",
     "exception": false,
     "start_time": "2022-06-30T00:29:47.139817",
     "status": "completed"
    },
    "tags": []
   },
   "outputs": [],
   "source": [
    "#orders with the status like complete, cod, paid, received, exchanged are completed orders in our point of view in handling this data so we will group them under completed. \n",
    "#Orders with cancelled, order refunded, refund and fraud statuses are grouped under cancelled\n",
    "#Orders with status like payment_review, pending, processing, holded and pending paypal are all grouped under pending\n",
    "\n",
    "dataset.status = dataset.status.replace({'complete': 'Completed',\n",
    "                                             'received': 'Completed',\n",
    "                                             'cod': 'Completed',\n",
    "                                             'paid': 'Completed',\n",
    "                                             'closed': 'Completed',\n",
    "                                             'exchange': 'Completed',\n",
    "                                             'canceled': 'Canceled',\n",
    "                                             'order_refunded': 'Canceled',\n",
    "                                             'refund': 'Canceled',\n",
    "                                             'fraud': 'Canceled',\n",
    "                                             'payment_review': 'Pending',\n",
    "                                             'pending': 'Pending',\n",
    "                                             'processing': 'Pending',\n",
    "                                             'holded': 'Pending',\n",
    "                                             'pending_paypal': 'Pending'})"
   ]
  },
  {
   "cell_type": "code",
   "execution_count": 21,
   "id": "ea40ee64",
   "metadata": {
    "execution": {
     "iopub.execute_input": "2022-06-30T00:29:47.718770Z",
     "iopub.status.busy": "2022-06-30T00:29:47.718197Z",
     "iopub.status.idle": "2022-06-30T00:29:48.060377Z",
     "shell.execute_reply": "2022-06-30T00:29:48.059549Z"
    },
    "papermill": {
     "duration": 0.364889,
     "end_time": "2022-06-30T00:29:48.062719",
     "exception": false,
     "start_time": "2022-06-30T00:29:47.697830",
     "status": "completed"
    },
    "tags": []
   },
   "outputs": [
    {
     "data": {
      "image/png": "[encoded data removed]",
      "text/plain": [
       "<Figure size 1440x720 with 1 Axes>"
      ]
     },
     "metadata": {},
     "output_type": "display_data"
    }
   ],
   "source": [
    "status_updated = dataset.status.value_counts()\n",
    "\n",
    "status_updated_df = pd.DataFrame(list(status_updated.items()), columns=['Order Status', 'Counts'])\n",
    "\n",
    "plt.figure(figsize=(20,10))\n",
    "\n",
    "#Creating a Bar Chart\n",
    "sns.set(font_scale = 3)\n",
    "ax = sns.barplot(data=status_updated_df, x='Order Status', y='Counts', palette='bright')\n",
    "ax.bar_label(container = ax.containers[0], padding = 0, fontsize = 20, color='black')\n",
    "ax.set(title='Bar plot for number of orders on grouped status')\n",
    "\n",
    "\n",
    "#Setting up axis label size and colours of axis label\n",
    "plt.xticks( fontsize=20)\n",
    "plt.yticks( fontsize=20)\n",
    "ax.tick_params(axis='x', colors='black')\n",
    "ax.tick_params(axis='y', colors='black');\n",
    "\n",
    "#setting up axis label name and size\n",
    "\n",
    "plt.xlabel('Order Staus', fontsize=24, labelpad=24, color='black', fontweight='bold')\n",
    "plt.ylabel('Counts', fontsize=24, labelpad=24, color='black', fontweight='bold');\n",
    "\n"
   ]
  },
  {
   "cell_type": "code",
   "execution_count": 22,
   "id": "ff515da2",
   "metadata": {
    "execution": {
     "iopub.execute_input": "2022-06-30T00:29:48.101975Z",
     "iopub.status.busy": "2022-06-30T00:29:48.101113Z",
     "iopub.status.idle": "2022-06-30T00:29:48.241018Z",
     "shell.execute_reply": "2022-06-30T00:29:48.239639Z"
    },
    "papermill": {
     "duration": 0.162541,
     "end_time": "2022-06-30T00:29:48.243917",
     "exception": false,
     "start_time": "2022-06-30T00:29:48.081376",
     "status": "completed"
    },
    "tags": []
   },
   "outputs": [],
   "source": [
    "#Saving cancelled orders seperately \n",
    "canceled = dataset[dataset.status == 'Canceled']"
   ]
  },
  {
   "cell_type": "code",
   "execution_count": 23,
   "id": "36280e0e",
   "metadata": {
    "execution": {
     "iopub.execute_input": "2022-06-30T00:29:48.284944Z",
     "iopub.status.busy": "2022-06-30T00:29:48.284045Z",
     "iopub.status.idle": "2022-06-30T00:29:48.812727Z",
     "shell.execute_reply": "2022-06-30T00:29:48.811558Z"
    },
    "papermill": {
     "duration": 0.552399,
     "end_time": "2022-06-30T00:29:48.815388",
     "exception": false,
     "start_time": "2022-06-30T00:29:48.262989",
     "status": "completed"
    },
    "tags": []
   },
   "outputs": [
    {
     "data": {
      "image/png": "[encoded data removed]",
      "text/plain": [
       "<Figure size 1440x720 with 1 Axes>"
      ]
     },
     "metadata": {},
     "output_type": "display_data"
    }
   ],
   "source": [
    "dataset = dataset[(dataset.status == 'Completed') | (dataset.status == 'Pending')]\n",
    "status_updated = dataset.status.value_counts()\n",
    "\n",
    "status_updated_df = pd.DataFrame(list(status_updated.items()), columns=['Order Status', 'Counts'])\n",
    "\n",
    "plt.figure(figsize=(20,10))\n",
    "\n",
    "#Creating a Bar Chart\n",
    "sns.set(font_scale = 3)\n",
    "ax = sns.barplot(data=status_updated_df, x='Order Status', y='Counts', palette='bright')\n",
    "ax.bar_label(container = ax.containers[0], padding = 0, fontsize = 20, color='black')\n",
    "ax.set(title='Bar plot for number of orders Completed or on Pending')\n",
    "\n",
    "\n",
    "#Setting up axis label size and colours of axis label\n",
    "plt.xticks( fontsize=20)\n",
    "plt.yticks( fontsize=20)\n",
    "ax.tick_params(axis='x', colors='black')\n",
    "ax.tick_params(axis='y', colors='black');\n",
    "\n",
    "#setting up axis label name and size\n",
    "plt.xlabel('Order Staus', fontsize=24, labelpad=24, color='black', fontweight='bold')\n",
    "plt.ylabel('Counts', fontsize=24, labelpad=24, color='black', fontweight='bold');\n",
    "\n",
    "#setting up x axis labels verticaly and horizontalalignment to center\n",
    "plt.xticks(rotation=90, ha='center');\n"
   ]
  },
  {
   "cell_type": "code",
   "execution_count": 24,
   "id": "c921cf3d",
   "metadata": {
    "execution": {
     "iopub.execute_input": "2022-06-30T00:29:48.857534Z",
     "iopub.status.busy": "2022-06-30T00:29:48.857115Z",
     "iopub.status.idle": "2022-06-30T00:29:49.815850Z",
     "shell.execute_reply": "2022-06-30T00:29:49.814690Z"
    },
    "papermill": {
     "duration": 0.982422,
     "end_time": "2022-06-30T00:29:49.818313",
     "exception": false,
     "start_time": "2022-06-30T00:29:48.835891",
     "status": "completed"
    },
    "tags": []
   },
   "outputs": [
    {
     "data": {
      "image/png": "[encoded data removed]",
      "text/plain": [
       "<Figure size 1440x720 with 1 Axes>"
      ]
     },
     "metadata": {},
     "output_type": "display_data"
    }
   ],
   "source": [
    "#Sorting out missing values\n",
    "missing_values = dataset.isna().sum().sort_values(ascending=False)\n",
    "\n",
    "missing_values_df = pd.DataFrame(list(missing_values.items()), columns=['Column', 'Missing_Values'])\n",
    "\n",
    "plt.figure(figsize=(20,10))\n",
    "\n",
    "#Creating a Bar Chart\n",
    "sns.set(font_scale = 3)\n",
    "ax = sns.barplot(data=missing_values_df, x = 'Column', y = 'Missing_Values', palette='bright')\n",
    "ax.bar_label(container = ax.containers[0], padding = 0, fontsize = 20, color='black')\n",
    "ax.set(title='Bar plot for number of orders on each status')\n",
    "\n",
    "\n",
    "#Setting up axis label size and colours of axis label\n",
    "plt.xticks( fontsize=20)\n",
    "plt.yticks( fontsize=20)\n",
    "ax.tick_params(axis='x', colors='black')\n",
    "ax.tick_params(axis='y', colors='black');\n",
    "\n",
    "#setting up axis label name and size\n",
    "ax.set_xlabel('Column', fontsize=24, labelpad=24, color='black', fontweight='bold')\n",
    "ax.set_ylabel('Missing Values', fontsize=24, labelpad=24, color='black', fontweight='bold');\n",
    "\n",
    "#setting up x axis labels verticaly and horizontalalignment to center\n",
    "plt.xticks(rotation=90, ha='center');\n"
   ]
  },
  {
   "cell_type": "code",
   "execution_count": 25,
   "id": "add512e6",
   "metadata": {
    "execution": {
     "iopub.execute_input": "2022-06-30T00:29:49.865724Z",
     "iopub.status.busy": "2022-06-30T00:29:49.864475Z",
     "iopub.status.idle": "2022-06-30T00:29:50.394872Z",
     "shell.execute_reply": "2022-06-30T00:29:50.393716Z"
    },
    "papermill": {
     "duration": 0.556724,
     "end_time": "2022-06-30T00:29:50.397482",
     "exception": false,
     "start_time": "2022-06-30T00:29:49.840758",
     "status": "completed"
    },
    "tags": []
   },
   "outputs": [
    {
     "data": {
      "text/plain": [
       "(308167, 20)"
      ]
     },
     "execution_count": 25,
     "metadata": {},
     "output_type": "execute_result"
    }
   ],
   "source": [
    "#In the above graph it is cleared that majorly missing values are in the sales commision column which is understandalbe. Anyways we dont need commsion code\n",
    "\n",
    "\n",
    "\n",
    "dataset = dataset.drop(columns=['sales_commission_code'])\n",
    "dataset=dataset.dropna()\n",
    "dataset.shape"
   ]
  },
  {
   "cell_type": "code",
   "execution_count": 26,
   "id": "d66364cf",
   "metadata": {
    "execution": {
     "iopub.execute_input": "2022-06-30T00:29:50.444817Z",
     "iopub.status.busy": "2022-06-30T00:29:50.443648Z",
     "iopub.status.idle": "2022-06-30T00:29:50.470548Z",
     "shell.execute_reply": "2022-06-30T00:29:50.469411Z"
    },
    "papermill": {
     "duration": 0.053248,
     "end_time": "2022-06-30T00:29:50.472956",
     "exception": false,
     "start_time": "2022-06-30T00:29:50.419708",
     "status": "completed"
    },
    "tags": []
   },
   "outputs": [
    {
     "data": {
      "text/html": [
       "<div>\n",
       "<style scoped>\n",
       "    .dataframe tbody tr th:only-of-type {\n",
       "        vertical-align: middle;\n",
       "    }\n",
       "\n",
       "    .dataframe tbody tr th {\n",
       "        vertical-align: top;\n",
       "    }\n",
       "\n",
       "    .dataframe thead th {\n",
       "        text-align: right;\n",
       "    }\n",
       "</style>\n",
       "<table border=\"1\" class=\"dataframe\">\n",
       "  <thead>\n",
       "    <tr style=\"text-align: right;\">\n",
       "      <th></th>\n",
       "      <th>item_id</th>\n",
       "      <th>status</th>\n",
       "      <th>created_at</th>\n",
       "      <th>sku</th>\n",
       "      <th>price</th>\n",
       "      <th>qty_ordered</th>\n",
       "      <th>grand_total</th>\n",
       "      <th>increment_id</th>\n",
       "      <th>category_name_1</th>\n",
       "      <th>discount_amount</th>\n",
       "      <th>payment_method</th>\n",
       "      <th>Working Date</th>\n",
       "      <th>BI Status</th>\n",
       "      <th>MV</th>\n",
       "      <th>Year</th>\n",
       "      <th>Month</th>\n",
       "      <th>Customer Since</th>\n",
       "      <th>M-Y</th>\n",
       "      <th>FY</th>\n",
       "      <th>Customer ID</th>\n",
       "    </tr>\n",
       "  </thead>\n",
       "  <tbody>\n",
       "    <tr>\n",
       "      <th>0</th>\n",
       "      <td>211131.0</td>\n",
       "      <td>Completed</td>\n",
       "      <td>7/1/2016</td>\n",
       "      <td>kreations_YI 06-L</td>\n",
       "      <td>1950.0</td>\n",
       "      <td>1.0</td>\n",
       "      <td>1950.0</td>\n",
       "      <td>100147443</td>\n",
       "      <td>Women's Fashion</td>\n",
       "      <td>0.0</td>\n",
       "      <td>cod</td>\n",
       "      <td>7/1/2016</td>\n",
       "      <td>#REF!</td>\n",
       "      <td>1,950</td>\n",
       "      <td>2016.0</td>\n",
       "      <td>7.0</td>\n",
       "      <td>2016-7</td>\n",
       "      <td>7-2016</td>\n",
       "      <td>FY17</td>\n",
       "      <td>1.0</td>\n",
       "    </tr>\n",
       "    <tr>\n",
       "      <th>3</th>\n",
       "      <td>211135.0</td>\n",
       "      <td>Completed</td>\n",
       "      <td>7/1/2016</td>\n",
       "      <td>kcc_krone deal</td>\n",
       "      <td>360.0</td>\n",
       "      <td>1.0</td>\n",
       "      <td>60.0</td>\n",
       "      <td>100147446</td>\n",
       "      <td>Beauty &amp; Grooming</td>\n",
       "      <td>300.0</td>\n",
       "      <td>cod</td>\n",
       "      <td>7/1/2016</td>\n",
       "      <td>Net</td>\n",
       "      <td>360</td>\n",
       "      <td>2016.0</td>\n",
       "      <td>7.0</td>\n",
       "      <td>2016-7</td>\n",
       "      <td>7-2016</td>\n",
       "      <td>FY17</td>\n",
       "      <td>4.0</td>\n",
       "    </tr>\n",
       "    <tr>\n",
       "      <th>6</th>\n",
       "      <td>211138.0</td>\n",
       "      <td>Completed</td>\n",
       "      <td>7/1/2016</td>\n",
       "      <td>kcc_krone deal</td>\n",
       "      <td>360.0</td>\n",
       "      <td>1.0</td>\n",
       "      <td>60.0</td>\n",
       "      <td>100147449</td>\n",
       "      <td>Beauty &amp; Grooming</td>\n",
       "      <td>300.0</td>\n",
       "      <td>cod</td>\n",
       "      <td>7/1/2016</td>\n",
       "      <td>Net</td>\n",
       "      <td>360</td>\n",
       "      <td>2016.0</td>\n",
       "      <td>7.0</td>\n",
       "      <td>2016-7</td>\n",
       "      <td>7-2016</td>\n",
       "      <td>FY17</td>\n",
       "      <td>7.0</td>\n",
       "    </tr>\n",
       "    <tr>\n",
       "      <th>7</th>\n",
       "      <td>211139.0</td>\n",
       "      <td>Completed</td>\n",
       "      <td>7/1/2016</td>\n",
       "      <td>UK_Namkino Mix Nimco 400 Gms</td>\n",
       "      <td>170.0</td>\n",
       "      <td>1.0</td>\n",
       "      <td>170.0</td>\n",
       "      <td>100147450</td>\n",
       "      <td>Soghaat</td>\n",
       "      <td>0.0</td>\n",
       "      <td>cod</td>\n",
       "      <td>7/1/2016</td>\n",
       "      <td>Net</td>\n",
       "      <td>170</td>\n",
       "      <td>2016.0</td>\n",
       "      <td>7.0</td>\n",
       "      <td>2016-7</td>\n",
       "      <td>7-2016</td>\n",
       "      <td>FY17</td>\n",
       "      <td>6.0</td>\n",
       "    </tr>\n",
       "    <tr>\n",
       "      <th>10</th>\n",
       "      <td>211142.0</td>\n",
       "      <td>Completed</td>\n",
       "      <td>7/1/2016</td>\n",
       "      <td>GFC_Pedestal Myga Cross Base (Special Guard) 24\"</td>\n",
       "      <td>5500.0</td>\n",
       "      <td>1.0</td>\n",
       "      <td>5500.0</td>\n",
       "      <td>100147453</td>\n",
       "      <td>Appliances</td>\n",
       "      <td>0.0</td>\n",
       "      <td>cod</td>\n",
       "      <td>7/1/2016</td>\n",
       "      <td>Net</td>\n",
       "      <td>5,500</td>\n",
       "      <td>2016.0</td>\n",
       "      <td>7.0</td>\n",
       "      <td>2016-7</td>\n",
       "      <td>7-2016</td>\n",
       "      <td>FY17</td>\n",
       "      <td>9.0</td>\n",
       "    </tr>\n",
       "  </tbody>\n",
       "</table>\n",
       "</div>"
      ],
      "text/plain": [
       "     item_id     status created_at  \\\n",
       "0   211131.0  Completed   7/1/2016   \n",
       "3   211135.0  Completed   7/1/2016   \n",
       "6   211138.0  Completed   7/1/2016   \n",
       "7   211139.0  Completed   7/1/2016   \n",
       "10  211142.0  Completed   7/1/2016   \n",
       "\n",
       "                                                 sku   price  qty_ordered  \\\n",
       "0                                  kreations_YI 06-L  1950.0          1.0   \n",
       "3                                     kcc_krone deal   360.0          1.0   \n",
       "6                                     kcc_krone deal   360.0          1.0   \n",
       "7                       UK_Namkino Mix Nimco 400 Gms   170.0          1.0   \n",
       "10  GFC_Pedestal Myga Cross Base (Special Guard) 24\"  5500.0          1.0   \n",
       "\n",
       "    grand_total increment_id    category_name_1  discount_amount  \\\n",
       "0        1950.0    100147443    Women's Fashion              0.0   \n",
       "3          60.0    100147446  Beauty & Grooming            300.0   \n",
       "6          60.0    100147449  Beauty & Grooming            300.0   \n",
       "7         170.0    100147450            Soghaat              0.0   \n",
       "10       5500.0    100147453         Appliances              0.0   \n",
       "\n",
       "   payment_method Working Date BI Status      MV     Year  Month  \\\n",
       "0             cod     7/1/2016     #REF!   1,950   2016.0    7.0   \n",
       "3             cod     7/1/2016       Net     360   2016.0    7.0   \n",
       "6             cod     7/1/2016       Net     360   2016.0    7.0   \n",
       "7             cod     7/1/2016       Net     170   2016.0    7.0   \n",
       "10            cod     7/1/2016       Net   5,500   2016.0    7.0   \n",
       "\n",
       "   Customer Since     M-Y    FY  Customer ID  \n",
       "0          2016-7  7-2016  FY17          1.0  \n",
       "3          2016-7  7-2016  FY17          4.0  \n",
       "6          2016-7  7-2016  FY17          7.0  \n",
       "7          2016-7  7-2016  FY17          6.0  \n",
       "10         2016-7  7-2016  FY17          9.0  "
      ]
     },
     "execution_count": 26,
     "metadata": {},
     "output_type": "execute_result"
    }
   ],
   "source": [
    "#checking how data looks now\n",
    "dataset.head()"
   ]
  },
  {
   "cell_type": "code",
   "execution_count": 27,
   "id": "f9245699",
   "metadata": {
    "execution": {
     "iopub.execute_input": "2022-06-30T00:29:50.520401Z",
     "iopub.status.busy": "2022-06-30T00:29:50.519885Z",
     "iopub.status.idle": "2022-06-30T00:29:53.106616Z",
     "shell.execute_reply": "2022-06-30T00:29:53.105535Z"
    },
    "papermill": {
     "duration": 2.614267,
     "end_time": "2022-06-30T00:29:53.109646",
     "exception": false,
     "start_time": "2022-06-30T00:29:50.495379",
     "status": "completed"
    },
    "tags": []
   },
   "outputs": [
    {
     "data": {
      "application/vnd.plotly.v1+json": {
       "config": {
        "plotlyServerURL": "https://plot.ly"
       },
       "data": [
        {
         "domain": {
          "x": [
           0.0,
           1.0
          ],
          "y": [
           0.0,
           1.0
          ]
         },
         "hovertemplate": "order=%{label}<br>Customer_Counts=%{value}<extra></extra>",
         "labels": [
          "Customers with Single orders",
          "Customers with Multiple orders"
         ],
         "legendgroup": "",
         "marker": {
          "line": {
           "color": "white",
           "width": 2
          }
         },
         "name": "",
         "showlegend": true,
         "textfont": {
          "size": 18
         },
         "textinfo": "percent+label",
         "textposition": "inside",
         "type": "pie",
         "values": [
          51626,
          27683
         ]
        }
       ],
       "layout": {
        "legend": {
         "tracegroupgap": 0
        },
        "margin": {
         "t": 60
        },
        "template": {
         "data": {
          "bar": [
           {
            "error_x": {
             "color": "#2a3f5f"
            },
            "error_y": {
             "color": "#2a3f5f"
            },
            "marker": {
             "line": {
              "color": "white",
              "width": 0.5
             },
             "pattern": {
              "fillmode": "overlay",
              "size": 10,
              "solidity": 0.2
             }
            },
            "type": "bar"
           }
          ],
          "barpolar": [
           {
            "marker": {
             "line": {
              "color": "white",
              "width": 0.5
             },
             "pattern": {
              "fillmode": "overlay",
              "size": 10,
              "solidity": 0.2
             }
            },
            "type": "barpolar"
           }
          ],
          "carpet": [
           {
            "aaxis": {
             "endlinecolor": "#2a3f5f",
             "gridcolor": "#C8D4E3",
             "linecolor": "#C8D4E3",
             "minorgridcolor": "#C8D4E3",
             "startlinecolor": "#2a3f5f"
            },
            "baxis": {
             "endlinecolor": "#2a3f5f",
             "gridcolor": "#C8D4E3",
             "linecolor": "#C8D4E3",
             "minorgridcolor": "#C8D4E3",
             "startlinecolor": "#2a3f5f"
            },
            "type": "carpet"
           }
          ],
          "choropleth": [
           {
            "colorbar": {
             "outlinewidth": 0,
             "ticks": ""
            },
            "type": "choropleth"
           }
          ],
          "contour": [
           {
            "colorbar": {
             "outlinewidth": 0,
             "ticks": ""
            },
            "colorscale": [
             [
              0.0,
              "#0d0887"
             ],
             [
              0.1111111111111111,
              "#46039f"
             ],
             [
              0.2222222222222222,
              "#7201a8"
             ],
             [
              0.3333333333333333,
              "#9c179e"
             ],
             [
              0.4444444444444444,
              "#bd3786"
             ],
             [
              0.5555555555555556,
              "#d8576b"
             ],
             [
              0.6666666666666666,
              "#ed7953"
             ],
             [
              0.7777777777777778,
              "#fb9f3a"
             ],
             [
              0.8888888888888888,
              "#fdca26"
             ],
             [
              1.0,
              "#f0f921"
             ]
            ],
            "type": "contour"
           }
          ],
          "contourcarpet": [
           {
            "colorbar": {
             "outlinewidth": 0,
             "ticks": ""
            },
            "type": "contourcarpet"
           }
          ],
          "heatmap": [
           {
            "colorbar": {
             "outlinewidth": 0,
             "ticks": ""
            },
            "colorscale": [
             [
              0.0,
              "#0d0887"
             ],
             [
              0.1111111111111111,
              "#46039f"
             ],
             [
              0.2222222222222222,
              "#7201a8"
             ],
             [
              0.3333333333333333,
              "#9c179e"
             ],
             [
              0.4444444444444444,
              "#bd3786"
             ],
             [
              0.5555555555555556,
              "#d8576b"
             ],
             [
              0.6666666666666666,
              "#ed7953"
             ],
             [
              0.7777777777777778,
              "#fb9f3a"
             ],
             [
              0.8888888888888888,
              "#fdca26"
             ],
             [
              1.0,
              "#f0f921"
             ]
            ],
            "type": "heatmap"
           }
          ],
          "heatmapgl": [
           {
            "colorbar": {
             "outlinewidth": 0,
             "ticks": ""
            },
            "colorscale": [
             [
              0.0,
              "#0d0887"
             ],
             [
              0.1111111111111111,
              "#46039f"
             ],
             [
              0.2222222222222222,
              "#7201a8"
             ],
             [
              0.3333333333333333,
              "#9c179e"
             ],
             [
              0.4444444444444444,
              "#bd3786"
             ],
             [
              0.5555555555555556,
              "#d8576b"
             ],
             [
              0.6666666666666666,
              "#ed7953"
             ],
             [
              0.7777777777777778,
              "#fb9f3a"
             ],
             [
              0.8888888888888888,
              "#fdca26"
             ],
             [
              1.0,
              "#f0f921"
             ]
            ],
            "type": "heatmapgl"
           }
          ],
          "histogram": [
           {
            "marker": {
             "pattern": {
              "fillmode": "overlay",
              "size": 10,
              "solidity": 0.2
             }
            },
            "type": "histogram"
           }
          ],
          "histogram2d": [
           {
            "colorbar": {
             "outlinewidth": 0,
             "ticks": ""
            },
            "colorscale": [
             [
              0.0,
              "#0d0887"
             ],
             [
              0.1111111111111111,
              "#46039f"
             ],
             [
              0.2222222222222222,
              "#7201a8"
             ],
             [
              0.3333333333333333,
              "#9c179e"
             ],
             [
              0.4444444444444444,
              "#bd3786"
             ],
             [
              0.5555555555555556,
              "#d8576b"
             ],
             [
              0.6666666666666666,
              "#ed7953"
             ],
             [
              0.7777777777777778,
              "#fb9f3a"
             ],
             [
              0.8888888888888888,
              "#fdca26"
             ],
             [
              1.0,
              "#f0f921"
             ]
            ],
            "type": "histogram2d"
           }
          ],
          "histogram2dcontour": [
           {
            "colorbar": {
             "outlinewidth": 0,
             "ticks": ""
            },
            "colorscale": [
             [
              0.0,
              "#0d0887"
             ],
             [
              0.1111111111111111,
              "#46039f"
             ],
             [
              0.2222222222222222,
              "#7201a8"
             ],
             [
              0.3333333333333333,
              "#9c179e"
             ],
             [
              0.4444444444444444,
              "#bd3786"
             ],
             [
              0.5555555555555556,
              "#d8576b"
             ],
             [
              0.6666666666666666,
              "#ed7953"
             ],
             [
              0.7777777777777778,
              "#fb9f3a"
             ],
             [
              0.8888888888888888,
              "#fdca26"
             ],
             [
              1.0,
              "#f0f921"
             ]
            ],
            "type": "histogram2dcontour"
           }
          ],
          "mesh3d": [
           {
            "colorbar": {
             "outlinewidth": 0,
             "ticks": ""
            },
            "type": "mesh3d"
           }
          ],
          "parcoords": [
           {
            "line": {
             "colorbar": {
              "outlinewidth": 0,
              "ticks": ""
             }
            },
            "type": "parcoords"
           }
          ],
          "pie": [
           {
            "automargin": true,
            "type": "pie"
           }
          ],
          "scatter": [
           {
            "fillpattern": {
             "fillmode": "overlay",
             "size": 10,
             "solidity": 0.2
            },
            "type": "scatter"
           }
          ],
          "scatter3d": [
           {
            "line": {
             "colorbar": {
              "outlinewidth": 0,
              "ticks": ""
             }
            },
            "marker": {
             "colorbar": {
              "outlinewidth": 0,
              "ticks": ""
             }
            },
            "type": "scatter3d"
           }
          ],
          "scattercarpet": [
           {
            "marker": {
             "colorbar": {
              "outlinewidth": 0,
              "ticks": ""
             }
            },
            "type": "scattercarpet"
           }
          ],
          "scattergeo": [
           {
            "marker": {
             "colorbar": {
              "outlinewidth": 0,
              "ticks": ""
             }
            },
            "type": "scattergeo"
           }
          ],
          "scattergl": [
           {
            "marker": {
             "colorbar": {
              "outlinewidth": 0,
              "ticks": ""
             }
            },
            "type": "scattergl"
           }
          ],
          "scattermapbox": [
           {
            "marker": {
             "colorbar": {
              "outlinewidth": 0,
              "ticks": ""
             }
            },
            "type": "scattermapbox"
           }
          ],
          "scatterpolar": [
           {
            "marker": {
             "colorbar": {
              "outlinewidth": 0,
              "ticks": ""
             }
            },
            "type": "scatterpolar"
           }
          ],
          "scatterpolargl": [
           {
            "marker": {
             "colorbar": {
              "outlinewidth": 0,
              "ticks": ""
             }
            },
            "type": "scatterpolargl"
           }
          ],
          "scatterternary": [
           {
            "marker": {
             "colorbar": {
              "outlinewidth": 0,
              "ticks": ""
             }
            },
            "type": "scatterternary"
           }
          ],
          "surface": [
           {
            "colorbar": {
             "outlinewidth": 0,
             "ticks": ""
            },
            "colorscale": [
             [
              0.0,
              "#0d0887"
             ],
             [
              0.1111111111111111,
              "#46039f"
             ],
             [
              0.2222222222222222,
              "#7201a8"
             ],
             [
              0.3333333333333333,
              "#9c179e"
             ],
             [
              0.4444444444444444,
              "#bd3786"
             ],
             [
              0.5555555555555556,
              "#d8576b"
             ],
             [
              0.6666666666666666,
              "#ed7953"
             ],
             [
              0.7777777777777778,
              "#fb9f3a"
             ],
             [
              0.8888888888888888,
              "#fdca26"
             ],
             [
              1.0,
              "#f0f921"
             ]
            ],
            "type": "surface"
           }
          ],
          "table": [
           {
            "cells": {
             "fill": {
              "color": "#EBF0F8"
             },
             "line": {
              "color": "white"
             }
            },
            "header": {
             "fill": {
              "color": "#C8D4E3"
             },
             "line": {
              "color": "white"
             }
            },
            "type": "table"
           }
          ]
         },
         "layout": {
          "annotationdefaults": {
           "arrowcolor": "#2a3f5f",
           "arrowhead": 0,
           "arrowwidth": 1
          },
          "autotypenumbers": "strict",
          "coloraxis": {
           "colorbar": {
            "outlinewidth": 0,
            "ticks": ""
           }
          },
          "colorscale": {
           "diverging": [
            [
             0,
             "#8e0152"
            ],
            [
             0.1,
             "#c51b7d"
            ],
            [
             0.2,
             "#de77ae"
            ],
            [
             0.3,
             "#f1b6da"
            ],
            [
             0.4,
             "#fde0ef"
            ],
            [
             0.5,
             "#f7f7f7"
            ],
            [
             0.6,
             "#e6f5d0"
            ],
            [
             0.7,
             "#b8e186"
            ],
            [
             0.8,
             "#7fbc41"
            ],
            [
             0.9,
             "#4d9221"
            ],
            [
             1,
             "#276419"
            ]
           ],
           "sequential": [
            [
             0.0,
             "#0d0887"
            ],
            [
             0.1111111111111111,
             "#46039f"
            ],
            [
             0.2222222222222222,
             "#7201a8"
            ],
            [
             0.3333333333333333,
             "#9c179e"
            ],
            [
             0.4444444444444444,
             "#bd3786"
            ],
            [
             0.5555555555555556,
             "#d8576b"
            ],
            [
             0.6666666666666666,
             "#ed7953"
            ],
            [
             0.7777777777777778,
             "#fb9f3a"
            ],
            [
             0.8888888888888888,
             "#fdca26"
            ],
            [
             1.0,
             "#f0f921"
            ]
           ],
           "sequentialminus": [
            [
             0.0,
             "#0d0887"
            ],
            [
             0.1111111111111111,
             "#46039f"
            ],
            [
             0.2222222222222222,
             "#7201a8"
            ],
            [
             0.3333333333333333,
             "#9c179e"
            ],
            [
             0.4444444444444444,
             "#bd3786"
            ],
            [
             0.5555555555555556,
             "#d8576b"
            ],
            [
             0.6666666666666666,
             "#ed7953"
            ],
            [
             0.7777777777777778,
             "#fb9f3a"
            ],
            [
             0.8888888888888888,
             "#fdca26"
            ],
            [
             1.0,
             "#f0f921"
            ]
           ]
          },
          "colorway": [
           "#636efa",
           "#EF553B",
           "#00cc96",
           "#ab63fa",
           "#FFA15A",
           "#19d3f3",
           "#FF6692",
           "#B6E880",
           "#FF97FF",
           "#FECB52"
          ],
          "font": {
           "color": "#2a3f5f"
          },
          "geo": {
           "bgcolor": "white",
           "lakecolor": "white",
           "landcolor": "white",
           "showlakes": true,
           "showland": true,
           "subunitcolor": "#C8D4E3"
          },
          "hoverlabel": {
           "align": "left"
          },
          "hovermode": "closest",
          "mapbox": {
           "style": "light"
          },
          "paper_bgcolor": "white",
          "plot_bgcolor": "white",
          "polar": {
           "angularaxis": {
            "gridcolor": "#EBF0F8",
            "linecolor": "#EBF0F8",
            "ticks": ""
           },
           "bgcolor": "white",
           "radialaxis": {
            "gridcolor": "#EBF0F8",
            "linecolor": "#EBF0F8",
            "ticks": ""
           }
          },
          "scene": {
           "xaxis": {
            "backgroundcolor": "white",
            "gridcolor": "#DFE8F3",
            "gridwidth": 2,
            "linecolor": "#EBF0F8",
            "showbackground": true,
            "ticks": "",
            "zerolinecolor": "#EBF0F8"
           },
           "yaxis": {
            "backgroundcolor": "white",
            "gridcolor": "#DFE8F3",
            "gridwidth": 2,
            "linecolor": "#EBF0F8",
            "showbackground": true,
            "ticks": "",
            "zerolinecolor": "#EBF0F8"
           },
           "zaxis": {
            "backgroundcolor": "white",
            "gridcolor": "#DFE8F3",
            "gridwidth": 2,
            "linecolor": "#EBF0F8",
            "showbackground": true,
            "ticks": "",
            "zerolinecolor": "#EBF0F8"
           }
          },
          "shapedefaults": {
           "line": {
            "color": "#2a3f5f"
           }
          },
          "ternary": {
           "aaxis": {
            "gridcolor": "#DFE8F3",
            "linecolor": "#A2B1C6",
            "ticks": ""
           },
           "baxis": {
            "gridcolor": "#DFE8F3",
            "linecolor": "#A2B1C6",
            "ticks": ""
           },
           "bgcolor": "white",
           "caxis": {
            "gridcolor": "#DFE8F3",
            "linecolor": "#A2B1C6",
            "ticks": ""
           }
          },
          "title": {
           "x": 0.05
          },
          "xaxis": {
           "automargin": true,
           "gridcolor": "#EBF0F8",
           "linecolor": "#EBF0F8",
           "ticks": "",
           "title": {
            "standoff": 15
           },
           "zerolinecolor": "#EBF0F8",
           "zerolinewidth": 2
          },
          "yaxis": {
           "automargin": true,
           "gridcolor": "#EBF0F8",
           "linecolor": "#EBF0F8",
           "ticks": "",
           "title": {
            "standoff": 15
           },
           "zerolinecolor": "#EBF0F8",
           "zerolinewidth": 2
          }
         }
        }
       }
      },
      "text/html": [
       "<div>                            <div id=\"bc42e1b4-ed46-40e1-b6cd-f52d6ce97da3\" class=\"plotly-graph-div\" style=\"height:525px; width:100%;\"></div>            <script type=\"text/javascript\">                require([\"plotly\"], function(Plotly) {                    window.PLOTLYENV=window.PLOTLYENV || {};                                    if (document.getElementById(\"bc42e1b4-ed46-40e1-b6cd-f52d6ce97da3\")) {                    Plotly.newPlot(                        \"bc42e1b4-ed46-40e1-b6cd-f52d6ce97da3\",                        [{\"domain\":{\"x\":[0.0,1.0],\"y\":[0.0,1.0]},\"hovertemplate\":\"order=%{label}<br>Customer_Counts=%{value}<extra></extra>\",\"labels\":[\"Customers with Single orders\",\"Customers with Multiple orders\"],\"legendgroup\":\"\",\"name\":\"\",\"showlegend\":true,\"values\":[51626,27683],\"type\":\"pie\",\"textfont\":{\"size\":18},\"marker\":{\"line\":{\"color\":\"white\",\"width\":2}},\"textinfo\":\"percent+label\",\"textposition\":\"inside\"}],                        {\"template\":{\"data\":{\"barpolar\":[{\"marker\":{\"line\":{\"color\":\"white\",\"width\":0.5},\"pattern\":{\"fillmode\":\"overlay\",\"size\":10,\"solidity\":0.2}},\"type\":\"barpolar\"}],\"bar\":[{\"error_x\":{\"color\":\"#2a3f5f\"},\"error_y\":{\"color\":\"#2a3f5f\"},\"marker\":{\"line\":{\"color\":\"white\",\"width\":0.5},\"pattern\":{\"fillmode\":\"overlay\",\"size\":10,\"solidity\":0.2}},\"type\":\"bar\"}],\"carpet\":[{\"aaxis\":{\"endlinecolor\":\"#2a3f5f\",\"gridcolor\":\"#C8D4E3\",\"linecolor\":\"#C8D4E3\",\"minorgridcolor\":\"#C8D4E3\",\"startlinecolor\":\"#2a3f5f\"},\"baxis\":{\"endlinecolor\":\"#2a3f5f\",\"gridcolor\":\"#C8D4E3\",\"linecolor\":\"#C8D4E3\",\"minorgridcolor\":\"#C8D4E3\",\"startlinecolor\":\"#2a3f5f\"},\"type\":\"carpet\"}],\"choropleth\":[{\"colorbar\":{\"outlinewidth\":0,\"ticks\":\"\"},\"type\":\"choropleth\"}],\"contourcarpet\":[{\"colorbar\":{\"outlinewidth\":0,\"ticks\":\"\"},\"type\":\"contourcarpet\"}],\"contour\":[{\"colorbar\":{\"outlinewidth\":0,\"ticks\":\"\"},\"colorscale\":[[0.0,\"#0d0887\"],[0.1111111111111111,\"#46039f\"],[0.2222222222222222,\"#7201a8\"],[0.3333333333333333,\"#9c179e\"],[0.4444444444444444,\"#bd3786\"],[0.5555555555555556,\"#d8576b\"],[0.6666666666666666,\"#ed7953\"],[0.7777777777777778,\"#fb9f3a\"],[0.8888888888888888,\"#fdca26\"],[1.0,\"#f0f921\"]],\"type\":\"contour\"}],\"heatmapgl\":[{\"colorbar\":{\"outlinewidth\":0,\"ticks\":\"\"},\"colorscale\":[[0.0,\"#0d0887\"],[0.1111111111111111,\"#46039f\"],[0.2222222222222222,\"#7201a8\"],[0.3333333333333333,\"#9c179e\"],[0.4444444444444444,\"#bd3786\"],[0.5555555555555556,\"#d8576b\"],[0.6666666666666666,\"#ed7953\"],[0.7777777777777778,\"#fb9f3a\"],[0.8888888888888888,\"#fdca26\"],[1.0,\"#f0f921\"]],\"type\":\"heatmapgl\"}],\"heatmap\":[{\"colorbar\":{\"outlinewidth\":0,\"ticks\":\"\"},\"colorscale\":[[0.0,\"#0d0887\"],[0.1111111111111111,\"#46039f\"],[0.2222222222222222,\"#7201a8\"],[0.3333333333333333,\"#9c179e\"],[0.4444444444444444,\"#bd3786\"],[0.5555555555555556,\"#d8576b\"],[0.6666666666666666,\"#ed7953\"],[0.7777777777777778,\"#fb9f3a\"],[0.8888888888888888,\"#fdca26\"],[1.0,\"#f0f921\"]],\"type\":\"heatmap\"}],\"histogram2dcontour\":[{\"colorbar\":{\"outlinewidth\":0,\"ticks\":\"\"},\"colorscale\":[[0.0,\"#0d0887\"],[0.1111111111111111,\"#46039f\"],[0.2222222222222222,\"#7201a8\"],[0.3333333333333333,\"#9c179e\"],[0.4444444444444444,\"#bd3786\"],[0.5555555555555556,\"#d8576b\"],[0.6666666666666666,\"#ed7953\"],[0.7777777777777778,\"#fb9f3a\"],[0.8888888888888888,\"#fdca26\"],[1.0,\"#f0f921\"]],\"type\":\"histogram2dcontour\"}],\"histogram2d\":[{\"colorbar\":{\"outlinewidth\":0,\"ticks\":\"\"},\"colorscale\":[[0.0,\"#0d0887\"],[0.1111111111111111,\"#46039f\"],[0.2222222222222222,\"#7201a8\"],[0.3333333333333333,\"#9c179e\"],[0.4444444444444444,\"#bd3786\"],[0.5555555555555556,\"#d8576b\"],[0.6666666666666666,\"#ed7953\"],[0.7777777777777778,\"#fb9f3a\"],[0.8888888888888888,\"#fdca26\"],[1.0,\"#f0f921\"]],\"type\":\"histogram2d\"}],\"histogram\":[{\"marker\":{\"pattern\":{\"fillmode\":\"overlay\",\"size\":10,\"solidity\":0.2}},\"type\":\"histogram\"}],\"mesh3d\":[{\"colorbar\":{\"outlinewidth\":0,\"ticks\":\"\"},\"type\":\"mesh3d\"}],\"parcoords\":[{\"line\":{\"colorbar\":{\"outlinewidth\":0,\"ticks\":\"\"}},\"type\":\"parcoords\"}],\"pie\":[{\"automargin\":true,\"type\":\"pie\"}],\"scatter3d\":[{\"line\":{\"colorbar\":{\"outlinewidth\":0,\"ticks\":\"\"}},\"marker\":{\"colorbar\":{\"outlinewidth\":0,\"ticks\":\"\"}},\"type\":\"scatter3d\"}],\"scattercarpet\":[{\"marker\":{\"colorbar\":{\"outlinewidth\":0,\"ticks\":\"\"}},\"type\":\"scattercarpet\"}],\"scattergeo\":[{\"marker\":{\"colorbar\":{\"outlinewidth\":0,\"ticks\":\"\"}},\"type\":\"scattergeo\"}],\"scattergl\":[{\"marker\":{\"colorbar\":{\"outlinewidth\":0,\"ticks\":\"\"}},\"type\":\"scattergl\"}],\"scattermapbox\":[{\"marker\":{\"colorbar\":{\"outlinewidth\":0,\"ticks\":\"\"}},\"type\":\"scattermapbox\"}],\"scatterpolargl\":[{\"marker\":{\"colorbar\":{\"outlinewidth\":0,\"ticks\":\"\"}},\"type\":\"scatterpolargl\"}],\"scatterpolar\":[{\"marker\":{\"colorbar\":{\"outlinewidth\":0,\"ticks\":\"\"}},\"type\":\"scatterpolar\"}],\"scatter\":[{\"fillpattern\":{\"fillmode\":\"overlay\",\"size\":10,\"solidity\":0.2},\"type\":\"scatter\"}],\"scatterternary\":[{\"marker\":{\"colorbar\":{\"outlinewidth\":0,\"ticks\":\"\"}},\"type\":\"scatterternary\"}],\"surface\":[{\"colorbar\":{\"outlinewidth\":0,\"ticks\":\"\"},\"colorscale\":[[0.0,\"#0d0887\"],[0.1111111111111111,\"#46039f\"],[0.2222222222222222,\"#7201a8\"],[0.3333333333333333,\"#9c179e\"],[0.4444444444444444,\"#bd3786\"],[0.5555555555555556,\"#d8576b\"],[0.6666666666666666,\"#ed7953\"],[0.7777777777777778,\"#fb9f3a\"],[0.8888888888888888,\"#fdca26\"],[1.0,\"#f0f921\"]],\"type\":\"surface\"}],\"table\":[{\"cells\":{\"fill\":{\"color\":\"#EBF0F8\"},\"line\":{\"color\":\"white\"}},\"header\":{\"fill\":{\"color\":\"#C8D4E3\"},\"line\":{\"color\":\"white\"}},\"type\":\"table\"}]},\"layout\":{\"annotationdefaults\":{\"arrowcolor\":\"#2a3f5f\",\"arrowhead\":0,\"arrowwidth\":1},\"autotypenumbers\":\"strict\",\"coloraxis\":{\"colorbar\":{\"outlinewidth\":0,\"ticks\":\"\"}},\"colorscale\":{\"diverging\":[[0,\"#8e0152\"],[0.1,\"#c51b7d\"],[0.2,\"#de77ae\"],[0.3,\"#f1b6da\"],[0.4,\"#fde0ef\"],[0.5,\"#f7f7f7\"],[0.6,\"#e6f5d0\"],[0.7,\"#b8e186\"],[0.8,\"#7fbc41\"],[0.9,\"#4d9221\"],[1,\"#276419\"]],\"sequential\":[[0.0,\"#0d0887\"],[0.1111111111111111,\"#46039f\"],[0.2222222222222222,\"#7201a8\"],[0.3333333333333333,\"#9c179e\"],[0.4444444444444444,\"#bd3786\"],[0.5555555555555556,\"#d8576b\"],[0.6666666666666666,\"#ed7953\"],[0.7777777777777778,\"#fb9f3a\"],[0.8888888888888888,\"#fdca26\"],[1.0,\"#f0f921\"]],\"sequentialminus\":[[0.0,\"#0d0887\"],[0.1111111111111111,\"#46039f\"],[0.2222222222222222,\"#7201a8\"],[0.3333333333333333,\"#9c179e\"],[0.4444444444444444,\"#bd3786\"],[0.5555555555555556,\"#d8576b\"],[0.6666666666666666,\"#ed7953\"],[0.7777777777777778,\"#fb9f3a\"],[0.8888888888888888,\"#fdca26\"],[1.0,\"#f0f921\"]]},\"colorway\":[\"#636efa\",\"#EF553B\",\"#00cc96\",\"#ab63fa\",\"#FFA15A\",\"#19d3f3\",\"#FF6692\",\"#B6E880\",\"#FF97FF\",\"#FECB52\"],\"font\":{\"color\":\"#2a3f5f\"},\"geo\":{\"bgcolor\":\"white\",\"lakecolor\":\"white\",\"landcolor\":\"white\",\"showlakes\":true,\"showland\":true,\"subunitcolor\":\"#C8D4E3\"},\"hoverlabel\":{\"align\":\"left\"},\"hovermode\":\"closest\",\"mapbox\":{\"style\":\"light\"},\"paper_bgcolor\":\"white\",\"plot_bgcolor\":\"white\",\"polar\":{\"angularaxis\":{\"gridcolor\":\"#EBF0F8\",\"linecolor\":\"#EBF0F8\",\"ticks\":\"\"},\"bgcolor\":\"white\",\"radialaxis\":{\"gridcolor\":\"#EBF0F8\",\"linecolor\":\"#EBF0F8\",\"ticks\":\"\"}},\"scene\":{\"xaxis\":{\"backgroundcolor\":\"white\",\"gridcolor\":\"#DFE8F3\",\"gridwidth\":2,\"linecolor\":\"#EBF0F8\",\"showbackground\":true,\"ticks\":\"\",\"zerolinecolor\":\"#EBF0F8\"},\"yaxis\":{\"backgroundcolor\":\"white\",\"gridcolor\":\"#DFE8F3\",\"gridwidth\":2,\"linecolor\":\"#EBF0F8\",\"showbackground\":true,\"ticks\":\"\",\"zerolinecolor\":\"#EBF0F8\"},\"zaxis\":{\"backgroundcolor\":\"white\",\"gridcolor\":\"#DFE8F3\",\"gridwidth\":2,\"linecolor\":\"#EBF0F8\",\"showbackground\":true,\"ticks\":\"\",\"zerolinecolor\":\"#EBF0F8\"}},\"shapedefaults\":{\"line\":{\"color\":\"#2a3f5f\"}},\"ternary\":{\"aaxis\":{\"gridcolor\":\"#DFE8F3\",\"linecolor\":\"#A2B1C6\",\"ticks\":\"\"},\"baxis\":{\"gridcolor\":\"#DFE8F3\",\"linecolor\":\"#A2B1C6\",\"ticks\":\"\"},\"bgcolor\":\"white\",\"caxis\":{\"gridcolor\":\"#DFE8F3\",\"linecolor\":\"#A2B1C6\",\"ticks\":\"\"}},\"title\":{\"x\":0.05},\"xaxis\":{\"automargin\":true,\"gridcolor\":\"#EBF0F8\",\"linecolor\":\"#EBF0F8\",\"ticks\":\"\",\"title\":{\"standoff\":15},\"zerolinecolor\":\"#EBF0F8\",\"zerolinewidth\":2},\"yaxis\":{\"automargin\":true,\"gridcolor\":\"#EBF0F8\",\"linecolor\":\"#EBF0F8\",\"ticks\":\"\",\"title\":{\"standoff\":15},\"zerolinecolor\":\"#EBF0F8\",\"zerolinewidth\":2}}},\"legend\":{\"tracegroupgap\":0},\"margin\":{\"t\":60}},                        {\"responsive\": true}                    ).then(function(){\n",
       "                            \n",
       "var gd = document.getElementById('bc42e1b4-ed46-40e1-b6cd-f52d6ce97da3');\n",
       "var x = new MutationObserver(function (mutations, observer) {{\n",
       "        var display = window.getComputedStyle(gd).display;\n",
       "        if (!display || display === 'none') {{\n",
       "            console.log([gd, 'removed!']);\n",
       "            Plotly.purge(gd);\n",
       "            observer.disconnect();\n",
       "        }}\n",
       "}});\n",
       "\n",
       "// Listen for the removal of the full notebook cells\n",
       "var notebookContainer = gd.closest('#notebook-container');\n",
       "if (notebookContainer) {{\n",
       "    x.observe(notebookContainer, {childList: true});\n",
       "}}\n",
       "\n",
       "// Listen for the clearing of the current output cell\n",
       "var outputEl = gd.closest('.output');\n",
       "if (outputEl) {{\n",
       "    x.observe(outputEl, {childList: true});\n",
       "}}\n",
       "\n",
       "                        })                };                });            </script>        </div>"
      ]
     },
     "metadata": {},
     "output_type": "display_data"
    }
   ],
   "source": [
    "#Number of Orders vs number of customers\n",
    "\n",
    "num_of_orders = dataset.groupby(\"Customer ID\")[\"increment_id\"].nunique().sort_values(ascending=False) #Grouping Customers with increment ids and counting unique values\n",
    "num_of_orders_df = pd.DataFrame(list(num_of_orders.items()),columns = [\"Customer ID\",\"Number of Orders\"])\n",
    "\n",
    "x = num_of_orders_df[num_of_orders_df[\"Number of Orders\"] == 1].value_counts().sum()\n",
    "y = num_of_orders_df[num_of_orders_df[\"Number of Orders\"] != 1].value_counts().sum()\n",
    "\n",
    "\n",
    "data = {\"order\" : [\"Customers with Single orders\", \"Customers with Multiple orders\"], \"Customer_Counts\": [x,y]}\n",
    "\n",
    "order_counts = pd.DataFrame.from_dict(data)\n",
    "\n",
    "import plotly.express as px #Needed this to create piechart \n",
    "\n",
    "#Creating a pie chart\n",
    "fig = px.pie(order_counts, \n",
    "             values = order_counts.Customer_Counts, \n",
    "             names = order_counts.order,\n",
    "             template = 'plotly_white')\n",
    "\n",
    "#Setting up the pie chart cosmetics\n",
    "fig.update_traces(textposition='inside', textinfo='percent+label', textfont_size=18,\n",
    "                  marker = dict(line = dict(color = 'white', width = 2)))\n",
    "fig.show()"
   ]
  },
  {
   "cell_type": "code",
   "execution_count": 28,
   "id": "c473f1ea",
   "metadata": {
    "execution": {
     "iopub.execute_input": "2022-06-30T00:29:53.166587Z",
     "iopub.status.busy": "2022-06-30T00:29:53.166209Z",
     "iopub.status.idle": "2022-06-30T00:29:53.435685Z",
     "shell.execute_reply": "2022-06-30T00:29:53.434549Z"
    },
    "papermill": {
     "duration": 0.300654,
     "end_time": "2022-06-30T00:29:53.438558",
     "exception": false,
     "start_time": "2022-06-30T00:29:53.137904",
     "status": "completed"
    },
    "tags": []
   },
   "outputs": [
    {
     "data": {
      "application/vnd.plotly.v1+json": {
       "config": {
        "plotlyServerURL": "https://plot.ly"
       },
       "data": [
        {
         "domain": {
          "x": [
           0.0,
           1.0
          ],
          "y": [
           0.0,
           1.0
          ]
         },
         "hovertemplate": "Order=%{label}<br>Customer_Counts=%{value}<extra></extra>",
         "labels": [
          "One Category",
          "More than One Category"
         ],
         "legendgroup": "",
         "marker": {
          "line": {
           "color": "white",
           "width": 2
          }
         },
         "name": "",
         "showlegend": true,
         "textfont": {
          "size": 18
         },
         "textinfo": "percent+label",
         "textposition": "inside",
         "type": "pie",
         "values": [
          57459,
          21850
         ]
        }
       ],
       "layout": {
        "legend": {
         "tracegroupgap": 0
        },
        "margin": {
         "t": 60
        },
        "template": {
         "data": {
          "bar": [
           {
            "error_x": {
             "color": "#2a3f5f"
            },
            "error_y": {
             "color": "#2a3f5f"
            },
            "marker": {
             "line": {
              "color": "white",
              "width": 0.5
             },
             "pattern": {
              "fillmode": "overlay",
              "size": 10,
              "solidity": 0.2
             }
            },
            "type": "bar"
           }
          ],
          "barpolar": [
           {
            "marker": {
             "line": {
              "color": "white",
              "width": 0.5
             },
             "pattern": {
              "fillmode": "overlay",
              "size": 10,
              "solidity": 0.2
             }
            },
            "type": "barpolar"
           }
          ],
          "carpet": [
           {
            "aaxis": {
             "endlinecolor": "#2a3f5f",
             "gridcolor": "#C8D4E3",
             "linecolor": "#C8D4E3",
             "minorgridcolor": "#C8D4E3",
             "startlinecolor": "#2a3f5f"
            },
            "baxis": {
             "endlinecolor": "#2a3f5f",
             "gridcolor": "#C8D4E3",
             "linecolor": "#C8D4E3",
             "minorgridcolor": "#C8D4E3",
             "startlinecolor": "#2a3f5f"
            },
            "type": "carpet"
           }
          ],
          "choropleth": [
           {
            "colorbar": {
             "outlinewidth": 0,
             "ticks": ""
            },
            "type": "choropleth"
           }
          ],
          "contour": [
           {
            "colorbar": {
             "outlinewidth": 0,
             "ticks": ""
            },
            "colorscale": [
             [
              0.0,
              "#0d0887"
             ],
             [
              0.1111111111111111,
              "#46039f"
             ],
             [
              0.2222222222222222,
              "#7201a8"
             ],
             [
              0.3333333333333333,
              "#9c179e"
             ],
             [
              0.4444444444444444,
              "#bd3786"
             ],
             [
              0.5555555555555556,
              "#d8576b"
             ],
             [
              0.6666666666666666,
              "#ed7953"
             ],
             [
              0.7777777777777778,
              "#fb9f3a"
             ],
             [
              0.8888888888888888,
              "#fdca26"
             ],
             [
              1.0,
              "#f0f921"
             ]
            ],
            "type": "contour"
           }
          ],
          "contourcarpet": [
           {
            "colorbar": {
             "outlinewidth": 0,
             "ticks": ""
            },
            "type": "contourcarpet"
           }
          ],
          "heatmap": [
           {
            "colorbar": {
             "outlinewidth": 0,
             "ticks": ""
            },
            "colorscale": [
             [
              0.0,
              "#0d0887"
             ],
             [
              0.1111111111111111,
              "#46039f"
             ],
             [
              0.2222222222222222,
              "#7201a8"
             ],
             [
              0.3333333333333333,
              "#9c179e"
             ],
             [
              0.4444444444444444,
              "#bd3786"
             ],
             [
              0.5555555555555556,
              "#d8576b"
             ],
             [
              0.6666666666666666,
              "#ed7953"
             ],
             [
              0.7777777777777778,
              "#fb9f3a"
             ],
             [
              0.8888888888888888,
              "#fdca26"
             ],
             [
              1.0,
              "#f0f921"
             ]
            ],
            "type": "heatmap"
           }
          ],
          "heatmapgl": [
           {
            "colorbar": {
             "outlinewidth": 0,
             "ticks": ""
            },
            "colorscale": [
             [
              0.0,
              "#0d0887"
             ],
             [
              0.1111111111111111,
              "#46039f"
             ],
             [
              0.2222222222222222,
              "#7201a8"
             ],
             [
              0.3333333333333333,
              "#9c179e"
             ],
             [
              0.4444444444444444,
              "#bd3786"
             ],
             [
              0.5555555555555556,
              "#d8576b"
             ],
             [
              0.6666666666666666,
              "#ed7953"
             ],
             [
              0.7777777777777778,
              "#fb9f3a"
             ],
             [
              0.8888888888888888,
              "#fdca26"
             ],
             [
              1.0,
              "#f0f921"
             ]
            ],
            "type": "heatmapgl"
           }
          ],
          "histogram": [
           {
            "marker": {
             "pattern": {
              "fillmode": "overlay",
              "size": 10,
              "solidity": 0.2
             }
            },
            "type": "histogram"
           }
          ],
          "histogram2d": [
           {
            "colorbar": {
             "outlinewidth": 0,
             "ticks": ""
            },
            "colorscale": [
             [
              0.0,
              "#0d0887"
             ],
             [
              0.1111111111111111,
              "#46039f"
             ],
             [
              0.2222222222222222,
              "#7201a8"
             ],
             [
              0.3333333333333333,
              "#9c179e"
             ],
             [
              0.4444444444444444,
              "#bd3786"
             ],
             [
              0.5555555555555556,
              "#d8576b"
             ],
             [
              0.6666666666666666,
              "#ed7953"
             ],
             [
              0.7777777777777778,
              "#fb9f3a"
             ],
             [
              0.8888888888888888,
              "#fdca26"
             ],
             [
              1.0,
              "#f0f921"
             ]
            ],
            "type": "histogram2d"
           }
          ],
          "histogram2dcontour": [
           {
            "colorbar": {
             "outlinewidth": 0,
             "ticks": ""
            },
            "colorscale": [
             [
              0.0,
              "#0d0887"
             ],
             [
              0.1111111111111111,
              "#46039f"
             ],
             [
              0.2222222222222222,
              "#7201a8"
             ],
             [
              0.3333333333333333,
              "#9c179e"
             ],
             [
              0.4444444444444444,
              "#bd3786"
             ],
             [
              0.5555555555555556,
              "#d8576b"
             ],
             [
              0.6666666666666666,
              "#ed7953"
             ],
             [
              0.7777777777777778,
              "#fb9f3a"
             ],
             [
              0.8888888888888888,
              "#fdca26"
             ],
             [
              1.0,
              "#f0f921"
             ]
            ],
            "type": "histogram2dcontour"
           }
          ],
          "mesh3d": [
           {
            "colorbar": {
             "outlinewidth": 0,
             "ticks": ""
            },
            "type": "mesh3d"
           }
          ],
          "parcoords": [
           {
            "line": {
             "colorbar": {
              "outlinewidth": 0,
              "ticks": ""
             }
            },
            "type": "parcoords"
           }
          ],
          "pie": [
           {
            "automargin": true,
            "type": "pie"
           }
          ],
          "scatter": [
           {
            "fillpattern": {
             "fillmode": "overlay",
             "size": 10,
             "solidity": 0.2
            },
            "type": "scatter"
           }
          ],
          "scatter3d": [
           {
            "line": {
             "colorbar": {
              "outlinewidth": 0,
              "ticks": ""
             }
            },
            "marker": {
             "colorbar": {
              "outlinewidth": 0,
              "ticks": ""
             }
            },
            "type": "scatter3d"
           }
          ],
          "scattercarpet": [
           {
            "marker": {
             "colorbar": {
              "outlinewidth": 0,
              "ticks": ""
             }
            },
            "type": "scattercarpet"
           }
          ],
          "scattergeo": [
           {
            "marker": {
             "colorbar": {
              "outlinewidth": 0,
              "ticks": ""
             }
            },
            "type": "scattergeo"
           }
          ],
          "scattergl": [
           {
            "marker": {
             "colorbar": {
              "outlinewidth": 0,
              "ticks": ""
             }
            },
            "type": "scattergl"
           }
          ],
          "scattermapbox": [
           {
            "marker": {
             "colorbar": {
              "outlinewidth": 0,
              "ticks": ""
             }
            },
            "type": "scattermapbox"
           }
          ],
          "scatterpolar": [
           {
            "marker": {
             "colorbar": {
              "outlinewidth": 0,
              "ticks": ""
             }
            },
            "type": "scatterpolar"
           }
          ],
          "scatterpolargl": [
           {
            "marker": {
             "colorbar": {
              "outlinewidth": 0,
              "ticks": ""
             }
            },
            "type": "scatterpolargl"
           }
          ],
          "scatterternary": [
           {
            "marker": {
             "colorbar": {
              "outlinewidth": 0,
              "ticks": ""
             }
            },
            "type": "scatterternary"
           }
          ],
          "surface": [
           {
            "colorbar": {
             "outlinewidth": 0,
             "ticks": ""
            },
            "colorscale": [
             [
              0.0,
              "#0d0887"
             ],
             [
              0.1111111111111111,
              "#46039f"
             ],
             [
              0.2222222222222222,
              "#7201a8"
             ],
             [
              0.3333333333333333,
              "#9c179e"
             ],
             [
              0.4444444444444444,
              "#bd3786"
             ],
             [
              0.5555555555555556,
              "#d8576b"
             ],
             [
              0.6666666666666666,
              "#ed7953"
             ],
             [
              0.7777777777777778,
              "#fb9f3a"
             ],
             [
              0.8888888888888888,
              "#fdca26"
             ],
             [
              1.0,
              "#f0f921"
             ]
            ],
            "type": "surface"
           }
          ],
          "table": [
           {
            "cells": {
             "fill": {
              "color": "#EBF0F8"
             },
             "line": {
              "color": "white"
             }
            },
            "header": {
             "fill": {
              "color": "#C8D4E3"
             },
             "line": {
              "color": "white"
             }
            },
            "type": "table"
           }
          ]
         },
         "layout": {
          "annotationdefaults": {
           "arrowcolor": "#2a3f5f",
           "arrowhead": 0,
           "arrowwidth": 1
          },
          "autotypenumbers": "strict",
          "coloraxis": {
           "colorbar": {
            "outlinewidth": 0,
            "ticks": ""
           }
          },
          "colorscale": {
           "diverging": [
            [
             0,
             "#8e0152"
            ],
            [
             0.1,
             "#c51b7d"
            ],
            [
             0.2,
             "#de77ae"
            ],
            [
             0.3,
             "#f1b6da"
            ],
            [
             0.4,
             "#fde0ef"
            ],
            [
             0.5,
             "#f7f7f7"
            ],
            [
             0.6,
             "#e6f5d0"
            ],
            [
             0.7,
             "#b8e186"
            ],
            [
             0.8,
             "#7fbc41"
            ],
            [
             0.9,
             "#4d9221"
            ],
            [
             1,
             "#276419"
            ]
           ],
           "sequential": [
            [
             0.0,
             "#0d0887"
            ],
            [
             0.1111111111111111,
             "#46039f"
            ],
            [
             0.2222222222222222,
             "#7201a8"
            ],
            [
             0.3333333333333333,
             "#9c179e"
            ],
            [
             0.4444444444444444,
             "#bd3786"
            ],
            [
             0.5555555555555556,
             "#d8576b"
            ],
            [
             0.6666666666666666,
             "#ed7953"
            ],
            [
             0.7777777777777778,
             "#fb9f3a"
            ],
            [
             0.8888888888888888,
             "#fdca26"
            ],
            [
             1.0,
             "#f0f921"
            ]
           ],
           "sequentialminus": [
            [
             0.0,
             "#0d0887"
            ],
            [
             0.1111111111111111,
             "#46039f"
            ],
            [
             0.2222222222222222,
             "#7201a8"
            ],
            [
             0.3333333333333333,
             "#9c179e"
            ],
            [
             0.4444444444444444,
             "#bd3786"
            ],
            [
             0.5555555555555556,
             "#d8576b"
            ],
            [
             0.6666666666666666,
             "#ed7953"
            ],
            [
             0.7777777777777778,
             "#fb9f3a"
            ],
            [
             0.8888888888888888,
             "#fdca26"
            ],
            [
             1.0,
             "#f0f921"
            ]
           ]
          },
          "colorway": [
           "#636efa",
           "#EF553B",
           "#00cc96",
           "#ab63fa",
           "#FFA15A",
           "#19d3f3",
           "#FF6692",
           "#B6E880",
           "#FF97FF",
           "#FECB52"
          ],
          "font": {
           "color": "#2a3f5f"
          },
          "geo": {
           "bgcolor": "white",
           "lakecolor": "white",
           "landcolor": "white",
           "showlakes": true,
           "showland": true,
           "subunitcolor": "#C8D4E3"
          },
          "hoverlabel": {
           "align": "left"
          },
          "hovermode": "closest",
          "mapbox": {
           "style": "light"
          },
          "paper_bgcolor": "white",
          "plot_bgcolor": "white",
          "polar": {
           "angularaxis": {
            "gridcolor": "#EBF0F8",
            "linecolor": "#EBF0F8",
            "ticks": ""
           },
           "bgcolor": "white",
           "radialaxis": {
            "gridcolor": "#EBF0F8",
            "linecolor": "#EBF0F8",
            "ticks": ""
           }
          },
          "scene": {
           "xaxis": {
            "backgroundcolor": "white",
            "gridcolor": "#DFE8F3",
            "gridwidth": 2,
            "linecolor": "#EBF0F8",
            "showbackground": true,
            "ticks": "",
            "zerolinecolor": "#EBF0F8"
           },
           "yaxis": {
            "backgroundcolor": "white",
            "gridcolor": "#DFE8F3",
            "gridwidth": 2,
            "linecolor": "#EBF0F8",
            "showbackground": true,
            "ticks": "",
            "zerolinecolor": "#EBF0F8"
           },
           "zaxis": {
            "backgroundcolor": "white",
            "gridcolor": "#DFE8F3",
            "gridwidth": 2,
            "linecolor": "#EBF0F8",
            "showbackground": true,
            "ticks": "",
            "zerolinecolor": "#EBF0F8"
           }
          },
          "shapedefaults": {
           "line": {
            "color": "#2a3f5f"
           }
          },
          "ternary": {
           "aaxis": {
            "gridcolor": "#DFE8F3",
            "linecolor": "#A2B1C6",
            "ticks": ""
           },
           "baxis": {
            "gridcolor": "#DFE8F3",
            "linecolor": "#A2B1C6",
            "ticks": ""
           },
           "bgcolor": "white",
           "caxis": {
            "gridcolor": "#DFE8F3",
            "linecolor": "#A2B1C6",
            "ticks": ""
           }
          },
          "title": {
           "x": 0.05
          },
          "xaxis": {
           "automargin": true,
           "gridcolor": "#EBF0F8",
           "linecolor": "#EBF0F8",
           "ticks": "",
           "title": {
            "standoff": 15
           },
           "zerolinecolor": "#EBF0F8",
           "zerolinewidth": 2
          },
          "yaxis": {
           "automargin": true,
           "gridcolor": "#EBF0F8",
           "linecolor": "#EBF0F8",
           "ticks": "",
           "title": {
            "standoff": 15
           },
           "zerolinecolor": "#EBF0F8",
           "zerolinewidth": 2
          }
         }
        }
       }
      },
      "text/html": [
       "<div>                            <div id=\"8dc1486f-5b97-4846-91f7-4f696e88112c\" class=\"plotly-graph-div\" style=\"height:525px; width:100%;\"></div>            <script type=\"text/javascript\">                require([\"plotly\"], function(Plotly) {                    window.PLOTLYENV=window.PLOTLYENV || {};                                    if (document.getElementById(\"8dc1486f-5b97-4846-91f7-4f696e88112c\")) {                    Plotly.newPlot(                        \"8dc1486f-5b97-4846-91f7-4f696e88112c\",                        [{\"domain\":{\"x\":[0.0,1.0],\"y\":[0.0,1.0]},\"hovertemplate\":\"Order=%{label}<br>Customer_Counts=%{value}<extra></extra>\",\"labels\":[\"One Category\",\"More than One Category\"],\"legendgroup\":\"\",\"name\":\"\",\"showlegend\":true,\"values\":[57459,21850],\"type\":\"pie\",\"textfont\":{\"size\":18},\"marker\":{\"line\":{\"color\":\"white\",\"width\":2}},\"textinfo\":\"percent+label\",\"textposition\":\"inside\"}],                        {\"template\":{\"data\":{\"barpolar\":[{\"marker\":{\"line\":{\"color\":\"white\",\"width\":0.5},\"pattern\":{\"fillmode\":\"overlay\",\"size\":10,\"solidity\":0.2}},\"type\":\"barpolar\"}],\"bar\":[{\"error_x\":{\"color\":\"#2a3f5f\"},\"error_y\":{\"color\":\"#2a3f5f\"},\"marker\":{\"line\":{\"color\":\"white\",\"width\":0.5},\"pattern\":{\"fillmode\":\"overlay\",\"size\":10,\"solidity\":0.2}},\"type\":\"bar\"}],\"carpet\":[{\"aaxis\":{\"endlinecolor\":\"#2a3f5f\",\"gridcolor\":\"#C8D4E3\",\"linecolor\":\"#C8D4E3\",\"minorgridcolor\":\"#C8D4E3\",\"startlinecolor\":\"#2a3f5f\"},\"baxis\":{\"endlinecolor\":\"#2a3f5f\",\"gridcolor\":\"#C8D4E3\",\"linecolor\":\"#C8D4E3\",\"minorgridcolor\":\"#C8D4E3\",\"startlinecolor\":\"#2a3f5f\"},\"type\":\"carpet\"}],\"choropleth\":[{\"colorbar\":{\"outlinewidth\":0,\"ticks\":\"\"},\"type\":\"choropleth\"}],\"contourcarpet\":[{\"colorbar\":{\"outlinewidth\":0,\"ticks\":\"\"},\"type\":\"contourcarpet\"}],\"contour\":[{\"colorbar\":{\"outlinewidth\":0,\"ticks\":\"\"},\"colorscale\":[[0.0,\"#0d0887\"],[0.1111111111111111,\"#46039f\"],[0.2222222222222222,\"#7201a8\"],[0.3333333333333333,\"#9c179e\"],[0.4444444444444444,\"#bd3786\"],[0.5555555555555556,\"#d8576b\"],[0.6666666666666666,\"#ed7953\"],[0.7777777777777778,\"#fb9f3a\"],[0.8888888888888888,\"#fdca26\"],[1.0,\"#f0f921\"]],\"type\":\"contour\"}],\"heatmapgl\":[{\"colorbar\":{\"outlinewidth\":0,\"ticks\":\"\"},\"colorscale\":[[0.0,\"#0d0887\"],[0.1111111111111111,\"#46039f\"],[0.2222222222222222,\"#7201a8\"],[0.3333333333333333,\"#9c179e\"],[0.4444444444444444,\"#bd3786\"],[0.5555555555555556,\"#d8576b\"],[0.6666666666666666,\"#ed7953\"],[0.7777777777777778,\"#fb9f3a\"],[0.8888888888888888,\"#fdca26\"],[1.0,\"#f0f921\"]],\"type\":\"heatmapgl\"}],\"heatmap\":[{\"colorbar\":{\"outlinewidth\":0,\"ticks\":\"\"},\"colorscale\":[[0.0,\"#0d0887\"],[0.1111111111111111,\"#46039f\"],[0.2222222222222222,\"#7201a8\"],[0.3333333333333333,\"#9c179e\"],[0.4444444444444444,\"#bd3786\"],[0.5555555555555556,\"#d8576b\"],[0.6666666666666666,\"#ed7953\"],[0.7777777777777778,\"#fb9f3a\"],[0.8888888888888888,\"#fdca26\"],[1.0,\"#f0f921\"]],\"type\":\"heatmap\"}],\"histogram2dcontour\":[{\"colorbar\":{\"outlinewidth\":0,\"ticks\":\"\"},\"colorscale\":[[0.0,\"#0d0887\"],[0.1111111111111111,\"#46039f\"],[0.2222222222222222,\"#7201a8\"],[0.3333333333333333,\"#9c179e\"],[0.4444444444444444,\"#bd3786\"],[0.5555555555555556,\"#d8576b\"],[0.6666666666666666,\"#ed7953\"],[0.7777777777777778,\"#fb9f3a\"],[0.8888888888888888,\"#fdca26\"],[1.0,\"#f0f921\"]],\"type\":\"histogram2dcontour\"}],\"histogram2d\":[{\"colorbar\":{\"outlinewidth\":0,\"ticks\":\"\"},\"colorscale\":[[0.0,\"#0d0887\"],[0.1111111111111111,\"#46039f\"],[0.2222222222222222,\"#7201a8\"],[0.3333333333333333,\"#9c179e\"],[0.4444444444444444,\"#bd3786\"],[0.5555555555555556,\"#d8576b\"],[0.6666666666666666,\"#ed7953\"],[0.7777777777777778,\"#fb9f3a\"],[0.8888888888888888,\"#fdca26\"],[1.0,\"#f0f921\"]],\"type\":\"histogram2d\"}],\"histogram\":[{\"marker\":{\"pattern\":{\"fillmode\":\"overlay\",\"size\":10,\"solidity\":0.2}},\"type\":\"histogram\"}],\"mesh3d\":[{\"colorbar\":{\"outlinewidth\":0,\"ticks\":\"\"},\"type\":\"mesh3d\"}],\"parcoords\":[{\"line\":{\"colorbar\":{\"outlinewidth\":0,\"ticks\":\"\"}},\"type\":\"parcoords\"}],\"pie\":[{\"automargin\":true,\"type\":\"pie\"}],\"scatter3d\":[{\"line\":{\"colorbar\":{\"outlinewidth\":0,\"ticks\":\"\"}},\"marker\":{\"colorbar\":{\"outlinewidth\":0,\"ticks\":\"\"}},\"type\":\"scatter3d\"}],\"scattercarpet\":[{\"marker\":{\"colorbar\":{\"outlinewidth\":0,\"ticks\":\"\"}},\"type\":\"scattercarpet\"}],\"scattergeo\":[{\"marker\":{\"colorbar\":{\"outlinewidth\":0,\"ticks\":\"\"}},\"type\":\"scattergeo\"}],\"scattergl\":[{\"marker\":{\"colorbar\":{\"outlinewidth\":0,\"ticks\":\"\"}},\"type\":\"scattergl\"}],\"scattermapbox\":[{\"marker\":{\"colorbar\":{\"outlinewidth\":0,\"ticks\":\"\"}},\"type\":\"scattermapbox\"}],\"scatterpolargl\":[{\"marker\":{\"colorbar\":{\"outlinewidth\":0,\"ticks\":\"\"}},\"type\":\"scatterpolargl\"}],\"scatterpolar\":[{\"marker\":{\"colorbar\":{\"outlinewidth\":0,\"ticks\":\"\"}},\"type\":\"scatterpolar\"}],\"scatter\":[{\"fillpattern\":{\"fillmode\":\"overlay\",\"size\":10,\"solidity\":0.2},\"type\":\"scatter\"}],\"scatterternary\":[{\"marker\":{\"colorbar\":{\"outlinewidth\":0,\"ticks\":\"\"}},\"type\":\"scatterternary\"}],\"surface\":[{\"colorbar\":{\"outlinewidth\":0,\"ticks\":\"\"},\"colorscale\":[[0.0,\"#0d0887\"],[0.1111111111111111,\"#46039f\"],[0.2222222222222222,\"#7201a8\"],[0.3333333333333333,\"#9c179e\"],[0.4444444444444444,\"#bd3786\"],[0.5555555555555556,\"#d8576b\"],[0.6666666666666666,\"#ed7953\"],[0.7777777777777778,\"#fb9f3a\"],[0.8888888888888888,\"#fdca26\"],[1.0,\"#f0f921\"]],\"type\":\"surface\"}],\"table\":[{\"cells\":{\"fill\":{\"color\":\"#EBF0F8\"},\"line\":{\"color\":\"white\"}},\"header\":{\"fill\":{\"color\":\"#C8D4E3\"},\"line\":{\"color\":\"white\"}},\"type\":\"table\"}]},\"layout\":{\"annotationdefaults\":{\"arrowcolor\":\"#2a3f5f\",\"arrowhead\":0,\"arrowwidth\":1},\"autotypenumbers\":\"strict\",\"coloraxis\":{\"colorbar\":{\"outlinewidth\":0,\"ticks\":\"\"}},\"colorscale\":{\"diverging\":[[0,\"#8e0152\"],[0.1,\"#c51b7d\"],[0.2,\"#de77ae\"],[0.3,\"#f1b6da\"],[0.4,\"#fde0ef\"],[0.5,\"#f7f7f7\"],[0.6,\"#e6f5d0\"],[0.7,\"#b8e186\"],[0.8,\"#7fbc41\"],[0.9,\"#4d9221\"],[1,\"#276419\"]],\"sequential\":[[0.0,\"#0d0887\"],[0.1111111111111111,\"#46039f\"],[0.2222222222222222,\"#7201a8\"],[0.3333333333333333,\"#9c179e\"],[0.4444444444444444,\"#bd3786\"],[0.5555555555555556,\"#d8576b\"],[0.6666666666666666,\"#ed7953\"],[0.7777777777777778,\"#fb9f3a\"],[0.8888888888888888,\"#fdca26\"],[1.0,\"#f0f921\"]],\"sequentialminus\":[[0.0,\"#0d0887\"],[0.1111111111111111,\"#46039f\"],[0.2222222222222222,\"#7201a8\"],[0.3333333333333333,\"#9c179e\"],[0.4444444444444444,\"#bd3786\"],[0.5555555555555556,\"#d8576b\"],[0.6666666666666666,\"#ed7953\"],[0.7777777777777778,\"#fb9f3a\"],[0.8888888888888888,\"#fdca26\"],[1.0,\"#f0f921\"]]},\"colorway\":[\"#636efa\",\"#EF553B\",\"#00cc96\",\"#ab63fa\",\"#FFA15A\",\"#19d3f3\",\"#FF6692\",\"#B6E880\",\"#FF97FF\",\"#FECB52\"],\"font\":{\"color\":\"#2a3f5f\"},\"geo\":{\"bgcolor\":\"white\",\"lakecolor\":\"white\",\"landcolor\":\"white\",\"showlakes\":true,\"showland\":true,\"subunitcolor\":\"#C8D4E3\"},\"hoverlabel\":{\"align\":\"left\"},\"hovermode\":\"closest\",\"mapbox\":{\"style\":\"light\"},\"paper_bgcolor\":\"white\",\"plot_bgcolor\":\"white\",\"polar\":{\"angularaxis\":{\"gridcolor\":\"#EBF0F8\",\"linecolor\":\"#EBF0F8\",\"ticks\":\"\"},\"bgcolor\":\"white\",\"radialaxis\":{\"gridcolor\":\"#EBF0F8\",\"linecolor\":\"#EBF0F8\",\"ticks\":\"\"}},\"scene\":{\"xaxis\":{\"backgroundcolor\":\"white\",\"gridcolor\":\"#DFE8F3\",\"gridwidth\":2,\"linecolor\":\"#EBF0F8\",\"showbackground\":true,\"ticks\":\"\",\"zerolinecolor\":\"#EBF0F8\"},\"yaxis\":{\"backgroundcolor\":\"white\",\"gridcolor\":\"#DFE8F3\",\"gridwidth\":2,\"linecolor\":\"#EBF0F8\",\"showbackground\":true,\"ticks\":\"\",\"zerolinecolor\":\"#EBF0F8\"},\"zaxis\":{\"backgroundcolor\":\"white\",\"gridcolor\":\"#DFE8F3\",\"gridwidth\":2,\"linecolor\":\"#EBF0F8\",\"showbackground\":true,\"ticks\":\"\",\"zerolinecolor\":\"#EBF0F8\"}},\"shapedefaults\":{\"line\":{\"color\":\"#2a3f5f\"}},\"ternary\":{\"aaxis\":{\"gridcolor\":\"#DFE8F3\",\"linecolor\":\"#A2B1C6\",\"ticks\":\"\"},\"baxis\":{\"gridcolor\":\"#DFE8F3\",\"linecolor\":\"#A2B1C6\",\"ticks\":\"\"},\"bgcolor\":\"white\",\"caxis\":{\"gridcolor\":\"#DFE8F3\",\"linecolor\":\"#A2B1C6\",\"ticks\":\"\"}},\"title\":{\"x\":0.05},\"xaxis\":{\"automargin\":true,\"gridcolor\":\"#EBF0F8\",\"linecolor\":\"#EBF0F8\",\"ticks\":\"\",\"title\":{\"standoff\":15},\"zerolinecolor\":\"#EBF0F8\",\"zerolinewidth\":2},\"yaxis\":{\"automargin\":true,\"gridcolor\":\"#EBF0F8\",\"linecolor\":\"#EBF0F8\",\"ticks\":\"\",\"title\":{\"standoff\":15},\"zerolinecolor\":\"#EBF0F8\",\"zerolinewidth\":2}}},\"legend\":{\"tracegroupgap\":0},\"margin\":{\"t\":60}},                        {\"responsive\": true}                    ).then(function(){\n",
       "                            \n",
       "var gd = document.getElementById('8dc1486f-5b97-4846-91f7-4f696e88112c');\n",
       "var x = new MutationObserver(function (mutations, observer) {{\n",
       "        var display = window.getComputedStyle(gd).display;\n",
       "        if (!display || display === 'none') {{\n",
       "            console.log([gd, 'removed!']);\n",
       "            Plotly.purge(gd);\n",
       "            observer.disconnect();\n",
       "        }}\n",
       "}});\n",
       "\n",
       "// Listen for the removal of the full notebook cells\n",
       "var notebookContainer = gd.closest('#notebook-container');\n",
       "if (notebookContainer) {{\n",
       "    x.observe(notebookContainer, {childList: true});\n",
       "}}\n",
       "\n",
       "// Listen for the clearing of the current output cell\n",
       "var outputEl = gd.closest('.output');\n",
       "if (outputEl) {{\n",
       "    x.observe(outputEl, {childList: true});\n",
       "}}\n",
       "\n",
       "                        })                };                });            </script>        </div>"
      ]
     },
     "metadata": {},
     "output_type": "display_data"
    }
   ],
   "source": [
    "#Number of Orders vs Categories\n",
    "\n",
    "num_of_prod = dataset.groupby('Customer ID')['category_name_1'].nunique().sort_values(ascending=False) #Grouping Customers with categories and counting unique values\n",
    "\n",
    "num_of_prod_df = pd.DataFrame(list(num_of_prod.items()), columns=['Customer ID', 'Number of Products'])\n",
    "\n",
    "a = num_of_prod_df[num_of_prod_df['Number of Products'] == 1].value_counts().sum()\n",
    "b = num_of_prod_df[num_of_prod_df['Number of Products'] != 1].value_counts().sum()\n",
    "\n",
    "data = {'Order': ['One Category', 'More than One Category'], 'Customer_Counts': [a, b]}\n",
    "\n",
    "category_counts = pd.DataFrame.from_dict(data)\n",
    "\n",
    "\n",
    "#Creating a pie chart\n",
    "fig = px.pie(category_counts, \n",
    "             values = category_counts.Customer_Counts, \n",
    "             names = category_counts.Order,\n",
    "             template = 'plotly_white')\n",
    "\n",
    "#Setting up the pie chart cosmetics\n",
    "fig.update_traces(textposition='inside', textinfo='percent+label', textfont_size=18,\n",
    "                  marker = dict(line = dict(color = 'white', width = 2)))\n",
    "fig.show()\n"
   ]
  },
  {
   "cell_type": "code",
   "execution_count": 29,
   "id": "9e4e5f15",
   "metadata": {
    "execution": {
     "iopub.execute_input": "2022-06-30T00:29:53.507612Z",
     "iopub.status.busy": "2022-06-30T00:29:53.507239Z",
     "iopub.status.idle": "2022-06-30T00:29:54.148216Z",
     "shell.execute_reply": "2022-06-30T00:29:54.147064Z"
    },
    "papermill": {
     "duration": 0.679122,
     "end_time": "2022-06-30T00:29:54.150742",
     "exception": false,
     "start_time": "2022-06-30T00:29:53.471620",
     "status": "completed"
    },
    "tags": []
   },
   "outputs": [
    {
     "data": {
      "image/png": "[encoded data removed]",
      "text/plain": [
       "<Figure size 1440x720 with 2 Axes>"
      ]
     },
     "metadata": {},
     "output_type": "display_data"
    }
   ],
   "source": [
    "a = dataset['Customer ID'].nunique() + canceled ['Customer ID'].nunique()\n",
    "b = canceled ['Customer ID'].nunique()\n",
    "\n",
    "data = {'Customers': ['Total Customers', 'Those Who Canceled'], 'Customer_Counts': [a, b]}\n",
    "\n",
    "customer_counts = pd.DataFrame.from_dict(data)\n",
    "\n",
    "\n",
    "c = dataset['increment_id'].nunique() + canceled['increment_id'].nunique()\n",
    "d = canceled ['increment_id'].nunique()\n",
    "\n",
    "data = {'Orders': ['Total Orders', 'Canceled Orders'], 'Order_Counts': [c, d]}\n",
    "\n",
    "order_counts = pd.DataFrame.from_dict(data)\n",
    "\n",
    "#Setting up background colour of figures, and grid\n",
    "sns.set(rc={'axes.facecolor':'white', 'figure.facecolor':'white', 'axes.grid' : True,\"grid.color\": \"black\"})\n",
    "\n",
    "#Creating 2 bar plots one for customer who cancelled and the orders which got cancelled\n",
    "fig, ax = plt.subplots(1,2, figsize = (20,10))\n",
    "sns.barplot(ax = ax[0], data = customer_counts, x=customer_counts.Customers, y=customer_counts.Customer_Counts, palette= 'bright')\n",
    "sns.barplot(ax = ax[1], data = order_counts, x=order_counts.Orders, y=order_counts.Order_Counts, palette= 'bright')\n",
    "\n",
    "#Setting 1st barchart cosmetics\n",
    "ax[0].set_title(\"Customers Who Canceled\", fontsize = 26, pad = 30, color='black', fontweight='bold')\n",
    "ax[0].set_xlabel(\"Customers\", fontsize = 24, labelpad = 15, color='black', fontweight='bold')\n",
    "ax[0].set_ylabel(\"Counts\", fontsize = 24, labelpad = 15, color='black', fontweight='bold')\n",
    "ax[0].tick_params(axis='x', colors='black', labelsize=20)\n",
    "ax[0].tick_params(axis='y', colors='black', labelsize=20)\n",
    "\n",
    "#Setting 2nd barchart cosmetics\n",
    "ax[1].set_title(\"Canceled Orders\", fontsize = 28, pad = 30, color='black', fontweight='bold')\n",
    "ax[1].set_xlabel(\"Orders\", fontsize = 24, labelpad = 15, color='black', fontweight='bold')\n",
    "ax[1].set_ylabel(\"Counts\", fontsize = 24, labelpad = 15, color='black', fontweight='bold')\n",
    "ax[1].tick_params(axis='x', colors='black', labelsize=20)\n",
    "ax[1].tick_params(axis='y', colors='black', labelsize=20);\n",
    "\n",
    "plt.tight_layout(pad=2);\n"
   ]
  },
  {
   "cell_type": "code",
   "execution_count": 30,
   "id": "6a0fa28c",
   "metadata": {
    "execution": {
     "iopub.execute_input": "2022-06-30T00:29:54.222057Z",
     "iopub.status.busy": "2022-06-30T00:29:54.221665Z",
     "iopub.status.idle": "2022-06-30T00:29:58.197556Z",
     "shell.execute_reply": "2022-06-30T00:29:58.196401Z"
    },
    "papermill": {
     "duration": 4.015258,
     "end_time": "2022-06-30T00:29:58.200539",
     "exception": false,
     "start_time": "2022-06-30T00:29:54.185281",
     "status": "completed"
    },
    "tags": []
   },
   "outputs": [
    {
     "data": {
      "application/vnd.plotly.v1+json": {
       "config": {
        "plotlyServerURL": "https://plot.ly"
       },
       "data": [
        {
         "branchvalues": "total",
         "domain": {
          "x": [
           0.0,
           1.0
          ],
          "y": [
           0.0,
           1.0
          ]
         },
         "hovertemplate": "labels=%{label}<br>count=%{value}<br>parent=%{parent}<br>id=%{id}<extra></extra>",
         "ids": [
          "Appliances",
          "Beauty & Grooming",
          "Books",
          "Computing",
          "Entertainment",
          "Health & Sports",
          "Home & Living",
          "Kids & Baby",
          "Men's Fashion",
          "Mobiles & Tablets",
          "Others",
          "School & Education",
          "Soghaat",
          "Superstore",
          "Women's Fashion",
          "\\N"
         ],
         "labels": [
          "Appliances",
          "Beauty & Grooming",
          "Books",
          "Computing",
          "Entertainment",
          "Health & Sports",
          "Home & Living",
          "Kids & Baby",
          "Men's Fashion",
          "Mobiles & Tablets",
          "Others",
          "School & Education",
          "Soghaat",
          "Superstore",
          "Women's Fashion",
          "\\N"
         ],
         "name": "",
         "parents": [
          "",
          "",
          "",
          "",
          "",
          "",
          "",
          "",
          "",
          "",
          "",
          "",
          "",
          "",
          "",
          ""
         ],
         "textfont": {
          "color": "black",
          "size": 20
         },
         "type": "treemap",
         "values": [
          20206,
          10645,
          376,
          6517,
          11418,
          4115,
          7995,
          4883,
          31101,
          48216,
          3326,
          936,
          8150,
          13177,
          18943,
          4399
         ]
        }
       ],
       "layout": {
        "height": 1000,
        "legend": {
         "tracegroupgap": 0
        },
        "margin": {
         "t": 60
        },
        "template": {
         "data": {
          "bar": [
           {
            "error_x": {
             "color": "rgb(36,36,36)"
            },
            "error_y": {
             "color": "rgb(36,36,36)"
            },
            "marker": {
             "line": {
              "color": "rgb(234,234,242)",
              "width": 0.5
             },
             "pattern": {
              "fillmode": "overlay",
              "size": 10,
              "solidity": 0.2
             }
            },
            "type": "bar"
           }
          ],
          "barpolar": [
           {
            "marker": {
             "line": {
              "color": "rgb(234,234,242)",
              "width": 0.5
             },
             "pattern": {
              "fillmode": "overlay",
              "size": 10,
              "solidity": 0.2
             }
            },
            "type": "barpolar"
           }
          ],
          "carpet": [
           {
            "aaxis": {
             "endlinecolor": "rgb(36,36,36)",
             "gridcolor": "white",
             "linecolor": "white",
             "minorgridcolor": "white",
             "startlinecolor": "rgb(36,36,36)"
            },
            "baxis": {
             "endlinecolor": "rgb(36,36,36)",
             "gridcolor": "white",
             "linecolor": "white",
             "minorgridcolor": "white",
             "startlinecolor": "rgb(36,36,36)"
            },
            "type": "carpet"
           }
          ],
          "choropleth": [
           {
            "colorbar": {
             "outlinewidth": 0,
             "tickcolor": "rgb(36,36,36)",
             "ticklen": 8,
             "ticks": "outside",
             "tickwidth": 2
            },
            "type": "choropleth"
           }
          ],
          "contour": [
           {
            "colorbar": {
             "outlinewidth": 0,
             "tickcolor": "rgb(36,36,36)",
             "ticklen": 8,
             "ticks": "outside",
             "tickwidth": 2
            },
            "colorscale": [
             [
              0.0,
              "rgb(2,4,25)"
             ],
             [
              0.06274509803921569,
              "rgb(24,15,41)"
             ],
             [
              0.12549019607843137,
              "rgb(47,23,57)"
             ],
             [
              0.18823529411764706,
              "rgb(71,28,72)"
             ],
             [
              0.25098039215686274,
              "rgb(97,30,82)"
             ],
             [
              0.3137254901960784,
              "rgb(123,30,89)"
             ],
             [
              0.3764705882352941,
              "rgb(150,27,91)"
             ],
             [
              0.4392156862745098,
              "rgb(177,22,88)"
             ],
             [
              0.5019607843137255,
              "rgb(203,26,79)"
             ],
             [
              0.5647058823529412,
              "rgb(223,47,67)"
             ],
             [
              0.6274509803921569,
              "rgb(236,76,61)"
             ],
             [
              0.6901960784313725,
              "rgb(242,107,73)"
             ],
             [
              0.7529411764705882,
              "rgb(244,135,95)"
             ],
             [
              0.8156862745098039,
              "rgb(245,162,122)"
             ],
             [
              0.8784313725490196,
              "rgb(246,188,153)"
             ],
             [
              0.9411764705882353,
              "rgb(247,212,187)"
             ],
             [
              1.0,
              "rgb(250,234,220)"
             ]
            ],
            "type": "contour"
           }
          ],
          "contourcarpet": [
           {
            "colorbar": {
             "outlinewidth": 0,
             "tickcolor": "rgb(36,36,36)",
             "ticklen": 8,
             "ticks": "outside",
             "tickwidth": 2
            },
            "type": "contourcarpet"
           }
          ],
          "heatmap": [
           {
            "colorbar": {
             "outlinewidth": 0,
             "tickcolor": "rgb(36,36,36)",
             "ticklen": 8,
             "ticks": "outside",
             "tickwidth": 2
            },
            "colorscale": [
             [
              0.0,
              "rgb(2,4,25)"
             ],
             [
              0.06274509803921569,
              "rgb(24,15,41)"
             ],
             [
              0.12549019607843137,
              "rgb(47,23,57)"
             ],
             [
              0.18823529411764706,
              "rgb(71,28,72)"
             ],
             [
              0.25098039215686274,
              "rgb(97,30,82)"
             ],
             [
              0.3137254901960784,
              "rgb(123,30,89)"
             ],
             [
              0.3764705882352941,
              "rgb(150,27,91)"
             ],
             [
              0.4392156862745098,
              "rgb(177,22,88)"
             ],
             [
              0.5019607843137255,
              "rgb(203,26,79)"
             ],
             [
              0.5647058823529412,
              "rgb(223,47,67)"
             ],
             [
              0.6274509803921569,
              "rgb(236,76,61)"
             ],
             [
              0.6901960784313725,
              "rgb(242,107,73)"
             ],
             [
              0.7529411764705882,
              "rgb(244,135,95)"
             ],
             [
              0.8156862745098039,
              "rgb(245,162,122)"
             ],
             [
              0.8784313725490196,
              "rgb(246,188,153)"
             ],
             [
              0.9411764705882353,
              "rgb(247,212,187)"
             ],
             [
              1.0,
              "rgb(250,234,220)"
             ]
            ],
            "type": "heatmap"
           }
          ],
          "heatmapgl": [
           {
            "colorbar": {
             "outlinewidth": 0,
             "tickcolor": "rgb(36,36,36)",
             "ticklen": 8,
             "ticks": "outside",
             "tickwidth": 2
            },
            "colorscale": [
             [
              0.0,
              "rgb(2,4,25)"
             ],
             [
              0.06274509803921569,
              "rgb(24,15,41)"
             ],
             [
              0.12549019607843137,
              "rgb(47,23,57)"
             ],
             [
              0.18823529411764706,
              "rgb(71,28,72)"
             ],
             [
              0.25098039215686274,
              "rgb(97,30,82)"
             ],
             [
              0.3137254901960784,
              "rgb(123,30,89)"
             ],
             [
              0.3764705882352941,
              "rgb(150,27,91)"
             ],
             [
              0.4392156862745098,
              "rgb(177,22,88)"
             ],
             [
              0.5019607843137255,
              "rgb(203,26,79)"
             ],
             [
              0.5647058823529412,
              "rgb(223,47,67)"
             ],
             [
              0.6274509803921569,
              "rgb(236,76,61)"
             ],
             [
              0.6901960784313725,
              "rgb(242,107,73)"
             ],
             [
              0.7529411764705882,
              "rgb(244,135,95)"
             ],
             [
              0.8156862745098039,
              "rgb(245,162,122)"
             ],
             [
              0.8784313725490196,
              "rgb(246,188,153)"
             ],
             [
              0.9411764705882353,
              "rgb(247,212,187)"
             ],
             [
              1.0,
              "rgb(250,234,220)"
             ]
            ],
            "type": "heatmapgl"
           }
          ],
          "histogram": [
           {
            "marker": {
             "pattern": {
              "fillmode": "overlay",
              "size": 10,
              "solidity": 0.2
             }
            },
            "type": "histogram"
           }
          ],
          "histogram2d": [
           {
            "colorbar": {
             "outlinewidth": 0,
             "tickcolor": "rgb(36,36,36)",
             "ticklen": 8,
             "ticks": "outside",
             "tickwidth": 2
            },
            "colorscale": [
             [
              0.0,
              "rgb(2,4,25)"
             ],
             [
              0.06274509803921569,
              "rgb(24,15,41)"
             ],
             [
              0.12549019607843137,
              "rgb(47,23,57)"
             ],
             [
              0.18823529411764706,
              "rgb(71,28,72)"
             ],
             [
              0.25098039215686274,
              "rgb(97,30,82)"
             ],
             [
              0.3137254901960784,
              "rgb(123,30,89)"
             ],
             [
              0.3764705882352941,
              "rgb(150,27,91)"
             ],
             [
              0.4392156862745098,
              "rgb(177,22,88)"
             ],
             [
              0.5019607843137255,
              "rgb(203,26,79)"
             ],
             [
              0.5647058823529412,
              "rgb(223,47,67)"
             ],
             [
              0.6274509803921569,
              "rgb(236,76,61)"
             ],
             [
              0.6901960784313725,
              "rgb(242,107,73)"
             ],
             [
              0.7529411764705882,
              "rgb(244,135,95)"
             ],
             [
              0.8156862745098039,
              "rgb(245,162,122)"
             ],
             [
              0.8784313725490196,
              "rgb(246,188,153)"
             ],
             [
              0.9411764705882353,
              "rgb(247,212,187)"
             ],
             [
              1.0,
              "rgb(250,234,220)"
             ]
            ],
            "type": "histogram2d"
           }
          ],
          "histogram2dcontour": [
           {
            "colorbar": {
             "outlinewidth": 0,
             "tickcolor": "rgb(36,36,36)",
             "ticklen": 8,
             "ticks": "outside",
             "tickwidth": 2
            },
            "colorscale": [
             [
              0.0,
              "rgb(2,4,25)"
             ],
             [
              0.06274509803921569,
              "rgb(24,15,41)"
             ],
             [
              0.12549019607843137,
              "rgb(47,23,57)"
             ],
             [
              0.18823529411764706,
              "rgb(71,28,72)"
             ],
             [
              0.25098039215686274,
              "rgb(97,30,82)"
             ],
             [
              0.3137254901960784,
              "rgb(123,30,89)"
             ],
             [
              0.3764705882352941,
              "rgb(150,27,91)"
             ],
             [
              0.4392156862745098,
              "rgb(177,22,88)"
             ],
             [
              0.5019607843137255,
              "rgb(203,26,79)"
             ],
             [
              0.5647058823529412,
              "rgb(223,47,67)"
             ],
             [
              0.6274509803921569,
              "rgb(236,76,61)"
             ],
             [
              0.6901960784313725,
              "rgb(242,107,73)"
             ],
             [
              0.7529411764705882,
              "rgb(244,135,95)"
             ],
             [
              0.8156862745098039,
              "rgb(245,162,122)"
             ],
             [
              0.8784313725490196,
              "rgb(246,188,153)"
             ],
             [
              0.9411764705882353,
              "rgb(247,212,187)"
             ],
             [
              1.0,
              "rgb(250,234,220)"
             ]
            ],
            "type": "histogram2dcontour"
           }
          ],
          "mesh3d": [
           {
            "colorbar": {
             "outlinewidth": 0,
             "tickcolor": "rgb(36,36,36)",
             "ticklen": 8,
             "ticks": "outside",
             "tickwidth": 2
            },
            "type": "mesh3d"
           }
          ],
          "parcoords": [
           {
            "line": {
             "colorbar": {
              "outlinewidth": 0,
              "tickcolor": "rgb(36,36,36)",
              "ticklen": 8,
              "ticks": "outside",
              "tickwidth": 2
             }
            },
            "type": "parcoords"
           }
          ],
          "pie": [
           {
            "automargin": true,
            "type": "pie"
           }
          ],
          "scatter": [
           {
            "fillpattern": {
             "fillmode": "overlay",
             "size": 10,
             "solidity": 0.2
            },
            "type": "scatter"
           }
          ],
          "scatter3d": [
           {
            "line": {
             "colorbar": {
              "outlinewidth": 0,
              "tickcolor": "rgb(36,36,36)",
              "ticklen": 8,
              "ticks": "outside",
              "tickwidth": 2
             }
            },
            "marker": {
             "colorbar": {
              "outlinewidth": 0,
              "tickcolor": "rgb(36,36,36)",
              "ticklen": 8,
              "ticks": "outside",
              "tickwidth": 2
             }
            },
            "type": "scatter3d"
           }
          ],
          "scattercarpet": [
           {
            "marker": {
             "colorbar": {
              "outlinewidth": 0,
              "tickcolor": "rgb(36,36,36)",
              "ticklen": 8,
              "ticks": "outside",
              "tickwidth": 2
             }
            },
            "type": "scattercarpet"
           }
          ],
          "scattergeo": [
           {
            "marker": {
             "colorbar": {
              "outlinewidth": 0,
              "tickcolor": "rgb(36,36,36)",
              "ticklen": 8,
              "ticks": "outside",
              "tickwidth": 2
             }
            },
            "type": "scattergeo"
           }
          ],
          "scattergl": [
           {
            "marker": {
             "colorbar": {
              "outlinewidth": 0,
              "tickcolor": "rgb(36,36,36)",
              "ticklen": 8,
              "ticks": "outside",
              "tickwidth": 2
             }
            },
            "type": "scattergl"
           }
          ],
          "scattermapbox": [
           {
            "marker": {
             "colorbar": {
              "outlinewidth": 0,
              "tickcolor": "rgb(36,36,36)",
              "ticklen": 8,
              "ticks": "outside",
              "tickwidth": 2
             }
            },
            "type": "scattermapbox"
           }
          ],
          "scatterpolar": [
           {
            "marker": {
             "colorbar": {
              "outlinewidth": 0,
              "tickcolor": "rgb(36,36,36)",
              "ticklen": 8,
              "ticks": "outside",
              "tickwidth": 2
             }
            },
            "type": "scatterpolar"
           }
          ],
          "scatterpolargl": [
           {
            "marker": {
             "colorbar": {
              "outlinewidth": 0,
              "tickcolor": "rgb(36,36,36)",
              "ticklen": 8,
              "ticks": "outside",
              "tickwidth": 2
             }
            },
            "type": "scatterpolargl"
           }
          ],
          "scatterternary": [
           {
            "marker": {
             "colorbar": {
              "outlinewidth": 0,
              "tickcolor": "rgb(36,36,36)",
              "ticklen": 8,
              "ticks": "outside",
              "tickwidth": 2
             }
            },
            "type": "scatterternary"
           }
          ],
          "surface": [
           {
            "colorbar": {
             "outlinewidth": 0,
             "tickcolor": "rgb(36,36,36)",
             "ticklen": 8,
             "ticks": "outside",
             "tickwidth": 2
            },
            "colorscale": [
             [
              0.0,
              "rgb(2,4,25)"
             ],
             [
              0.06274509803921569,
              "rgb(24,15,41)"
             ],
             [
              0.12549019607843137,
              "rgb(47,23,57)"
             ],
             [
              0.18823529411764706,
              "rgb(71,28,72)"
             ],
             [
              0.25098039215686274,
              "rgb(97,30,82)"
             ],
             [
              0.3137254901960784,
              "rgb(123,30,89)"
             ],
             [
              0.3764705882352941,
              "rgb(150,27,91)"
             ],
             [
              0.4392156862745098,
              "rgb(177,22,88)"
             ],
             [
              0.5019607843137255,
              "rgb(203,26,79)"
             ],
             [
              0.5647058823529412,
              "rgb(223,47,67)"
             ],
             [
              0.6274509803921569,
              "rgb(236,76,61)"
             ],
             [
              0.6901960784313725,
              "rgb(242,107,73)"
             ],
             [
              0.7529411764705882,
              "rgb(244,135,95)"
             ],
             [
              0.8156862745098039,
              "rgb(245,162,122)"
             ],
             [
              0.8784313725490196,
              "rgb(246,188,153)"
             ],
             [
              0.9411764705882353,
              "rgb(247,212,187)"
             ],
             [
              1.0,
              "rgb(250,234,220)"
             ]
            ],
            "type": "surface"
           }
          ],
          "table": [
           {
            "cells": {
             "fill": {
              "color": "rgb(231,231,240)"
             },
             "line": {
              "color": "white"
             }
            },
            "header": {
             "fill": {
              "color": "rgb(183,183,191)"
             },
             "line": {
              "color": "white"
             }
            },
            "type": "table"
           }
          ]
         },
         "layout": {
          "annotationdefaults": {
           "arrowcolor": "rgb(67,103,167)"
          },
          "autotypenumbers": "strict",
          "coloraxis": {
           "colorbar": {
            "outlinewidth": 0,
            "tickcolor": "rgb(36,36,36)",
            "ticklen": 8,
            "ticks": "outside",
            "tickwidth": 2
           }
          },
          "colorscale": {
           "sequential": [
            [
             0.0,
             "rgb(2,4,25)"
            ],
            [
             0.06274509803921569,
             "rgb(24,15,41)"
            ],
            [
             0.12549019607843137,
             "rgb(47,23,57)"
            ],
            [
             0.18823529411764706,
             "rgb(71,28,72)"
            ],
            [
             0.25098039215686274,
             "rgb(97,30,82)"
            ],
            [
             0.3137254901960784,
             "rgb(123,30,89)"
            ],
            [
             0.3764705882352941,
             "rgb(150,27,91)"
            ],
            [
             0.4392156862745098,
             "rgb(177,22,88)"
            ],
            [
             0.5019607843137255,
             "rgb(203,26,79)"
            ],
            [
             0.5647058823529412,
             "rgb(223,47,67)"
            ],
            [
             0.6274509803921569,
             "rgb(236,76,61)"
            ],
            [
             0.6901960784313725,
             "rgb(242,107,73)"
            ],
            [
             0.7529411764705882,
             "rgb(244,135,95)"
            ],
            [
             0.8156862745098039,
             "rgb(245,162,122)"
            ],
            [
             0.8784313725490196,
             "rgb(246,188,153)"
            ],
            [
             0.9411764705882353,
             "rgb(247,212,187)"
            ],
            [
             1.0,
             "rgb(250,234,220)"
            ]
           ],
           "sequentialminus": [
            [
             0.0,
             "rgb(2,4,25)"
            ],
            [
             0.06274509803921569,
             "rgb(24,15,41)"
            ],
            [
             0.12549019607843137,
             "rgb(47,23,57)"
            ],
            [
             0.18823529411764706,
             "rgb(71,28,72)"
            ],
            [
             0.25098039215686274,
             "rgb(97,30,82)"
            ],
            [
             0.3137254901960784,
             "rgb(123,30,89)"
            ],
            [
             0.3764705882352941,
             "rgb(150,27,91)"
            ],
            [
             0.4392156862745098,
             "rgb(177,22,88)"
            ],
            [
             0.5019607843137255,
             "rgb(203,26,79)"
            ],
            [
             0.5647058823529412,
             "rgb(223,47,67)"
            ],
            [
             0.6274509803921569,
             "rgb(236,76,61)"
            ],
            [
             0.6901960784313725,
             "rgb(242,107,73)"
            ],
            [
             0.7529411764705882,
             "rgb(244,135,95)"
            ],
            [
             0.8156862745098039,
             "rgb(245,162,122)"
            ],
            [
             0.8784313725490196,
             "rgb(246,188,153)"
            ],
            [
             0.9411764705882353,
             "rgb(247,212,187)"
            ],
            [
             1.0,
             "rgb(250,234,220)"
            ]
           ]
          },
          "colorway": [
           "rgb(76,114,176)",
           "rgb(221,132,82)",
           "rgb(85,168,104)",
           "rgb(196,78,82)",
           "rgb(129,114,179)",
           "rgb(147,120,96)",
           "rgb(218,139,195)",
           "rgb(140,140,140)",
           "rgb(204,185,116)",
           "rgb(100,181,205)"
          ],
          "font": {
           "color": "rgb(36,36,36)"
          },
          "geo": {
           "bgcolor": "white",
           "lakecolor": "white",
           "landcolor": "rgb(234,234,242)",
           "showlakes": true,
           "showland": true,
           "subunitcolor": "white"
          },
          "hoverlabel": {
           "align": "left"
          },
          "hovermode": "closest",
          "paper_bgcolor": "white",
          "plot_bgcolor": "rgb(234,234,242)",
          "polar": {
           "angularaxis": {
            "gridcolor": "white",
            "linecolor": "white",
            "showgrid": true,
            "ticks": ""
           },
           "bgcolor": "rgb(234,234,242)",
           "radialaxis": {
            "gridcolor": "white",
            "linecolor": "white",
            "showgrid": true,
            "ticks": ""
           }
          },
          "scene": {
           "xaxis": {
            "backgroundcolor": "rgb(234,234,242)",
            "gridcolor": "white",
            "gridwidth": 2,
            "linecolor": "white",
            "showbackground": true,
            "showgrid": true,
            "ticks": "",
            "zerolinecolor": "white"
           },
           "yaxis": {
            "backgroundcolor": "rgb(234,234,242)",
            "gridcolor": "white",
            "gridwidth": 2,
            "linecolor": "white",
            "showbackground": true,
            "showgrid": true,
            "ticks": "",
            "zerolinecolor": "white"
           },
           "zaxis": {
            "backgroundcolor": "rgb(234,234,242)",
            "gridcolor": "white",
            "gridwidth": 2,
            "linecolor": "white",
            "showbackground": true,
            "showgrid": true,
            "ticks": "",
            "zerolinecolor": "white"
           }
          },
          "shapedefaults": {
           "fillcolor": "rgb(67,103,167)",
           "line": {
            "width": 0
           },
           "opacity": 0.5
          },
          "ternary": {
           "aaxis": {
            "gridcolor": "white",
            "linecolor": "white",
            "showgrid": true,
            "ticks": ""
           },
           "baxis": {
            "gridcolor": "white",
            "linecolor": "white",
            "showgrid": true,
            "ticks": ""
           },
           "bgcolor": "rgb(234,234,242)",
           "caxis": {
            "gridcolor": "white",
            "linecolor": "white",
            "showgrid": true,
            "ticks": ""
           }
          },
          "xaxis": {
           "automargin": true,
           "gridcolor": "white",
           "linecolor": "white",
           "showgrid": true,
           "ticks": "",
           "title": {
            "standoff": 15
           },
           "zerolinecolor": "white"
          },
          "yaxis": {
           "automargin": true,
           "gridcolor": "white",
           "linecolor": "white",
           "showgrid": true,
           "ticks": "",
           "title": {
            "standoff": 15
           },
           "zerolinecolor": "white"
          }
         }
        },
        "width": 1000
       }
      },
      "text/html": [
       "<div>                            <div id=\"43e703bf-86cc-4dd8-81fb-4ea0fc737d05\" class=\"plotly-graph-div\" style=\"height:1000px; width:1000px;\"></div>            <script type=\"text/javascript\">                require([\"plotly\"], function(Plotly) {                    window.PLOTLYENV=window.PLOTLYENV || {};                                    if (document.getElementById(\"43e703bf-86cc-4dd8-81fb-4ea0fc737d05\")) {                    Plotly.newPlot(                        \"43e703bf-86cc-4dd8-81fb-4ea0fc737d05\",                        [{\"branchvalues\":\"total\",\"domain\":{\"x\":[0.0,1.0],\"y\":[0.0,1.0]},\"hovertemplate\":\"labels=%{label}<br>count=%{value}<br>parent=%{parent}<br>id=%{id}<extra></extra>\",\"ids\":[\"Appliances\",\"Beauty & Grooming\",\"Books\",\"Computing\",\"Entertainment\",\"Health & Sports\",\"Home & Living\",\"Kids & Baby\",\"Men's Fashion\",\"Mobiles & Tablets\",\"Others\",\"School & Education\",\"Soghaat\",\"Superstore\",\"Women's Fashion\",\"\\\\N\"],\"labels\":[\"Appliances\",\"Beauty & Grooming\",\"Books\",\"Computing\",\"Entertainment\",\"Health & Sports\",\"Home & Living\",\"Kids & Baby\",\"Men's Fashion\",\"Mobiles & Tablets\",\"Others\",\"School & Education\",\"Soghaat\",\"Superstore\",\"Women's Fashion\",\"\\\\N\"],\"name\":\"\",\"parents\":[\"\",\"\",\"\",\"\",\"\",\"\",\"\",\"\",\"\",\"\",\"\",\"\",\"\",\"\",\"\",\"\"],\"values\":[20206,10645,376,6517,11418,4115,7995,4883,31101,48216,3326,936,8150,13177,18943,4399],\"type\":\"treemap\",\"textfont\":{\"color\":\"black\",\"size\":20}}],                        {\"template\":{\"data\":{\"barpolar\":[{\"marker\":{\"line\":{\"color\":\"rgb(234,234,242)\",\"width\":0.5},\"pattern\":{\"fillmode\":\"overlay\",\"size\":10,\"solidity\":0.2}},\"type\":\"barpolar\"}],\"bar\":[{\"error_x\":{\"color\":\"rgb(36,36,36)\"},\"error_y\":{\"color\":\"rgb(36,36,36)\"},\"marker\":{\"line\":{\"color\":\"rgb(234,234,242)\",\"width\":0.5},\"pattern\":{\"fillmode\":\"overlay\",\"size\":10,\"solidity\":0.2}},\"type\":\"bar\"}],\"carpet\":[{\"aaxis\":{\"endlinecolor\":\"rgb(36,36,36)\",\"gridcolor\":\"white\",\"linecolor\":\"white\",\"minorgridcolor\":\"white\",\"startlinecolor\":\"rgb(36,36,36)\"},\"baxis\":{\"endlinecolor\":\"rgb(36,36,36)\",\"gridcolor\":\"white\",\"linecolor\":\"white\",\"minorgridcolor\":\"white\",\"startlinecolor\":\"rgb(36,36,36)\"},\"type\":\"carpet\"}],\"choropleth\":[{\"colorbar\":{\"outlinewidth\":0,\"tickcolor\":\"rgb(36,36,36)\",\"ticklen\":8,\"ticks\":\"outside\",\"tickwidth\":2},\"type\":\"choropleth\"}],\"contourcarpet\":[{\"colorbar\":{\"outlinewidth\":0,\"tickcolor\":\"rgb(36,36,36)\",\"ticklen\":8,\"ticks\":\"outside\",\"tickwidth\":2},\"type\":\"contourcarpet\"}],\"contour\":[{\"colorbar\":{\"outlinewidth\":0,\"tickcolor\":\"rgb(36,36,36)\",\"ticklen\":8,\"ticks\":\"outside\",\"tickwidth\":2},\"colorscale\":[[0.0,\"rgb(2,4,25)\"],[0.06274509803921569,\"rgb(24,15,41)\"],[0.12549019607843137,\"rgb(47,23,57)\"],[0.18823529411764706,\"rgb(71,28,72)\"],[0.25098039215686274,\"rgb(97,30,82)\"],[0.3137254901960784,\"rgb(123,30,89)\"],[0.3764705882352941,\"rgb(150,27,91)\"],[0.4392156862745098,\"rgb(177,22,88)\"],[0.5019607843137255,\"rgb(203,26,79)\"],[0.5647058823529412,\"rgb(223,47,67)\"],[0.6274509803921569,\"rgb(236,76,61)\"],[0.6901960784313725,\"rgb(242,107,73)\"],[0.7529411764705882,\"rgb(244,135,95)\"],[0.8156862745098039,\"rgb(245,162,122)\"],[0.8784313725490196,\"rgb(246,188,153)\"],[0.9411764705882353,\"rgb(247,212,187)\"],[1.0,\"rgb(250,234,220)\"]],\"type\":\"contour\"}],\"heatmapgl\":[{\"colorbar\":{\"outlinewidth\":0,\"tickcolor\":\"rgb(36,36,36)\",\"ticklen\":8,\"ticks\":\"outside\",\"tickwidth\":2},\"colorscale\":[[0.0,\"rgb(2,4,25)\"],[0.06274509803921569,\"rgb(24,15,41)\"],[0.12549019607843137,\"rgb(47,23,57)\"],[0.18823529411764706,\"rgb(71,28,72)\"],[0.25098039215686274,\"rgb(97,30,82)\"],[0.3137254901960784,\"rgb(123,30,89)\"],[0.3764705882352941,\"rgb(150,27,91)\"],[0.4392156862745098,\"rgb(177,22,88)\"],[0.5019607843137255,\"rgb(203,26,79)\"],[0.5647058823529412,\"rgb(223,47,67)\"],[0.6274509803921569,\"rgb(236,76,61)\"],[0.6901960784313725,\"rgb(242,107,73)\"],[0.7529411764705882,\"rgb(244,135,95)\"],[0.8156862745098039,\"rgb(245,162,122)\"],[0.8784313725490196,\"rgb(246,188,153)\"],[0.9411764705882353,\"rgb(247,212,187)\"],[1.0,\"rgb(250,234,220)\"]],\"type\":\"heatmapgl\"}],\"heatmap\":[{\"colorbar\":{\"outlinewidth\":0,\"tickcolor\":\"rgb(36,36,36)\",\"ticklen\":8,\"ticks\":\"outside\",\"tickwidth\":2},\"colorscale\":[[0.0,\"rgb(2,4,25)\"],[0.06274509803921569,\"rgb(24,15,41)\"],[0.12549019607843137,\"rgb(47,23,57)\"],[0.18823529411764706,\"rgb(71,28,72)\"],[0.25098039215686274,\"rgb(97,30,82)\"],[0.3137254901960784,\"rgb(123,30,89)\"],[0.3764705882352941,\"rgb(150,27,91)\"],[0.4392156862745098,\"rgb(177,22,88)\"],[0.5019607843137255,\"rgb(203,26,79)\"],[0.5647058823529412,\"rgb(223,47,67)\"],[0.6274509803921569,\"rgb(236,76,61)\"],[0.6901960784313725,\"rgb(242,107,73)\"],[0.7529411764705882,\"rgb(244,135,95)\"],[0.8156862745098039,\"rgb(245,162,122)\"],[0.8784313725490196,\"rgb(246,188,153)\"],[0.9411764705882353,\"rgb(247,212,187)\"],[1.0,\"rgb(250,234,220)\"]],\"type\":\"heatmap\"}],\"histogram2dcontour\":[{\"colorbar\":{\"outlinewidth\":0,\"tickcolor\":\"rgb(36,36,36)\",\"ticklen\":8,\"ticks\":\"outside\",\"tickwidth\":2},\"colorscale\":[[0.0,\"rgb(2,4,25)\"],[0.06274509803921569,\"rgb(24,15,41)\"],[0.12549019607843137,\"rgb(47,23,57)\"],[0.18823529411764706,\"rgb(71,28,72)\"],[0.25098039215686274,\"rgb(97,30,82)\"],[0.3137254901960784,\"rgb(123,30,89)\"],[0.3764705882352941,\"rgb(150,27,91)\"],[0.4392156862745098,\"rgb(177,22,88)\"],[0.5019607843137255,\"rgb(203,26,79)\"],[0.5647058823529412,\"rgb(223,47,67)\"],[0.6274509803921569,\"rgb(236,76,61)\"],[0.6901960784313725,\"rgb(242,107,73)\"],[0.7529411764705882,\"rgb(244,135,95)\"],[0.8156862745098039,\"rgb(245,162,122)\"],[0.8784313725490196,\"rgb(246,188,153)\"],[0.9411764705882353,\"rgb(247,212,187)\"],[1.0,\"rgb(250,234,220)\"]],\"type\":\"histogram2dcontour\"}],\"histogram2d\":[{\"colorbar\":{\"outlinewidth\":0,\"tickcolor\":\"rgb(36,36,36)\",\"ticklen\":8,\"ticks\":\"outside\",\"tickwidth\":2},\"colorscale\":[[0.0,\"rgb(2,4,25)\"],[0.06274509803921569,\"rgb(24,15,41)\"],[0.12549019607843137,\"rgb(47,23,57)\"],[0.18823529411764706,\"rgb(71,28,72)\"],[0.25098039215686274,\"rgb(97,30,82)\"],[0.3137254901960784,\"rgb(123,30,89)\"],[0.3764705882352941,\"rgb(150,27,91)\"],[0.4392156862745098,\"rgb(177,22,88)\"],[0.5019607843137255,\"rgb(203,26,79)\"],[0.5647058823529412,\"rgb(223,47,67)\"],[0.6274509803921569,\"rgb(236,76,61)\"],[0.6901960784313725,\"rgb(242,107,73)\"],[0.7529411764705882,\"rgb(244,135,95)\"],[0.8156862745098039,\"rgb(245,162,122)\"],[0.8784313725490196,\"rgb(246,188,153)\"],[0.9411764705882353,\"rgb(247,212,187)\"],[1.0,\"rgb(250,234,220)\"]],\"type\":\"histogram2d\"}],\"histogram\":[{\"marker\":{\"pattern\":{\"fillmode\":\"overlay\",\"size\":10,\"solidity\":0.2}},\"type\":\"histogram\"}],\"mesh3d\":[{\"colorbar\":{\"outlinewidth\":0,\"tickcolor\":\"rgb(36,36,36)\",\"ticklen\":8,\"ticks\":\"outside\",\"tickwidth\":2},\"type\":\"mesh3d\"}],\"parcoords\":[{\"line\":{\"colorbar\":{\"outlinewidth\":0,\"tickcolor\":\"rgb(36,36,36)\",\"ticklen\":8,\"ticks\":\"outside\",\"tickwidth\":2}},\"type\":\"parcoords\"}],\"pie\":[{\"automargin\":true,\"type\":\"pie\"}],\"scatter3d\":[{\"line\":{\"colorbar\":{\"outlinewidth\":0,\"tickcolor\":\"rgb(36,36,36)\",\"ticklen\":8,\"ticks\":\"outside\",\"tickwidth\":2}},\"marker\":{\"colorbar\":{\"outlinewidth\":0,\"tickcolor\":\"rgb(36,36,36)\",\"ticklen\":8,\"ticks\":\"outside\",\"tickwidth\":2}},\"type\":\"scatter3d\"}],\"scattercarpet\":[{\"marker\":{\"colorbar\":{\"outlinewidth\":0,\"tickcolor\":\"rgb(36,36,36)\",\"ticklen\":8,\"ticks\":\"outside\",\"tickwidth\":2}},\"type\":\"scattercarpet\"}],\"scattergeo\":[{\"marker\":{\"colorbar\":{\"outlinewidth\":0,\"tickcolor\":\"rgb(36,36,36)\",\"ticklen\":8,\"ticks\":\"outside\",\"tickwidth\":2}},\"type\":\"scattergeo\"}],\"scattergl\":[{\"marker\":{\"colorbar\":{\"outlinewidth\":0,\"tickcolor\":\"rgb(36,36,36)\",\"ticklen\":8,\"ticks\":\"outside\",\"tickwidth\":2}},\"type\":\"scattergl\"}],\"scattermapbox\":[{\"marker\":{\"colorbar\":{\"outlinewidth\":0,\"tickcolor\":\"rgb(36,36,36)\",\"ticklen\":8,\"ticks\":\"outside\",\"tickwidth\":2}},\"type\":\"scattermapbox\"}],\"scatterpolargl\":[{\"marker\":{\"colorbar\":{\"outlinewidth\":0,\"tickcolor\":\"rgb(36,36,36)\",\"ticklen\":8,\"ticks\":\"outside\",\"tickwidth\":2}},\"type\":\"scatterpolargl\"}],\"scatterpolar\":[{\"marker\":{\"colorbar\":{\"outlinewidth\":0,\"tickcolor\":\"rgb(36,36,36)\",\"ticklen\":8,\"ticks\":\"outside\",\"tickwidth\":2}},\"type\":\"scatterpolar\"}],\"scatter\":[{\"fillpattern\":{\"fillmode\":\"overlay\",\"size\":10,\"solidity\":0.2},\"type\":\"scatter\"}],\"scatterternary\":[{\"marker\":{\"colorbar\":{\"outlinewidth\":0,\"tickcolor\":\"rgb(36,36,36)\",\"ticklen\":8,\"ticks\":\"outside\",\"tickwidth\":2}},\"type\":\"scatterternary\"}],\"surface\":[{\"colorbar\":{\"outlinewidth\":0,\"tickcolor\":\"rgb(36,36,36)\",\"ticklen\":8,\"ticks\":\"outside\",\"tickwidth\":2},\"colorscale\":[[0.0,\"rgb(2,4,25)\"],[0.06274509803921569,\"rgb(24,15,41)\"],[0.12549019607843137,\"rgb(47,23,57)\"],[0.18823529411764706,\"rgb(71,28,72)\"],[0.25098039215686274,\"rgb(97,30,82)\"],[0.3137254901960784,\"rgb(123,30,89)\"],[0.3764705882352941,\"rgb(150,27,91)\"],[0.4392156862745098,\"rgb(177,22,88)\"],[0.5019607843137255,\"rgb(203,26,79)\"],[0.5647058823529412,\"rgb(223,47,67)\"],[0.6274509803921569,\"rgb(236,76,61)\"],[0.6901960784313725,\"rgb(242,107,73)\"],[0.7529411764705882,\"rgb(244,135,95)\"],[0.8156862745098039,\"rgb(245,162,122)\"],[0.8784313725490196,\"rgb(246,188,153)\"],[0.9411764705882353,\"rgb(247,212,187)\"],[1.0,\"rgb(250,234,220)\"]],\"type\":\"surface\"}],\"table\":[{\"cells\":{\"fill\":{\"color\":\"rgb(231,231,240)\"},\"line\":{\"color\":\"white\"}},\"header\":{\"fill\":{\"color\":\"rgb(183,183,191)\"},\"line\":{\"color\":\"white\"}},\"type\":\"table\"}]},\"layout\":{\"annotationdefaults\":{\"arrowcolor\":\"rgb(67,103,167)\"},\"autotypenumbers\":\"strict\",\"coloraxis\":{\"colorbar\":{\"outlinewidth\":0,\"tickcolor\":\"rgb(36,36,36)\",\"ticklen\":8,\"ticks\":\"outside\",\"tickwidth\":2}},\"colorscale\":{\"sequential\":[[0.0,\"rgb(2,4,25)\"],[0.06274509803921569,\"rgb(24,15,41)\"],[0.12549019607843137,\"rgb(47,23,57)\"],[0.18823529411764706,\"rgb(71,28,72)\"],[0.25098039215686274,\"rgb(97,30,82)\"],[0.3137254901960784,\"rgb(123,30,89)\"],[0.3764705882352941,\"rgb(150,27,91)\"],[0.4392156862745098,\"rgb(177,22,88)\"],[0.5019607843137255,\"rgb(203,26,79)\"],[0.5647058823529412,\"rgb(223,47,67)\"],[0.6274509803921569,\"rgb(236,76,61)\"],[0.6901960784313725,\"rgb(242,107,73)\"],[0.7529411764705882,\"rgb(244,135,95)\"],[0.8156862745098039,\"rgb(245,162,122)\"],[0.8784313725490196,\"rgb(246,188,153)\"],[0.9411764705882353,\"rgb(247,212,187)\"],[1.0,\"rgb(250,234,220)\"]],\"sequentialminus\":[[0.0,\"rgb(2,4,25)\"],[0.06274509803921569,\"rgb(24,15,41)\"],[0.12549019607843137,\"rgb(47,23,57)\"],[0.18823529411764706,\"rgb(71,28,72)\"],[0.25098039215686274,\"rgb(97,30,82)\"],[0.3137254901960784,\"rgb(123,30,89)\"],[0.3764705882352941,\"rgb(150,27,91)\"],[0.4392156862745098,\"rgb(177,22,88)\"],[0.5019607843137255,\"rgb(203,26,79)\"],[0.5647058823529412,\"rgb(223,47,67)\"],[0.6274509803921569,\"rgb(236,76,61)\"],[0.6901960784313725,\"rgb(242,107,73)\"],[0.7529411764705882,\"rgb(244,135,95)\"],[0.8156862745098039,\"rgb(245,162,122)\"],[0.8784313725490196,\"rgb(246,188,153)\"],[0.9411764705882353,\"rgb(247,212,187)\"],[1.0,\"rgb(250,234,220)\"]]},\"colorway\":[\"rgb(76,114,176)\",\"rgb(221,132,82)\",\"rgb(85,168,104)\",\"rgb(196,78,82)\",\"rgb(129,114,179)\",\"rgb(147,120,96)\",\"rgb(218,139,195)\",\"rgb(140,140,140)\",\"rgb(204,185,116)\",\"rgb(100,181,205)\"],\"font\":{\"color\":\"rgb(36,36,36)\"},\"geo\":{\"bgcolor\":\"white\",\"lakecolor\":\"white\",\"landcolor\":\"rgb(234,234,242)\",\"showlakes\":true,\"showland\":true,\"subunitcolor\":\"white\"},\"hoverlabel\":{\"align\":\"left\"},\"hovermode\":\"closest\",\"paper_bgcolor\":\"white\",\"plot_bgcolor\":\"rgb(234,234,242)\",\"polar\":{\"angularaxis\":{\"gridcolor\":\"white\",\"linecolor\":\"white\",\"showgrid\":true,\"ticks\":\"\"},\"bgcolor\":\"rgb(234,234,242)\",\"radialaxis\":{\"gridcolor\":\"white\",\"linecolor\":\"white\",\"showgrid\":true,\"ticks\":\"\"}},\"scene\":{\"xaxis\":{\"backgroundcolor\":\"rgb(234,234,242)\",\"gridcolor\":\"white\",\"gridwidth\":2,\"linecolor\":\"white\",\"showbackground\":true,\"showgrid\":true,\"ticks\":\"\",\"zerolinecolor\":\"white\"},\"yaxis\":{\"backgroundcolor\":\"rgb(234,234,242)\",\"gridcolor\":\"white\",\"gridwidth\":2,\"linecolor\":\"white\",\"showbackground\":true,\"showgrid\":true,\"ticks\":\"\",\"zerolinecolor\":\"white\"},\"zaxis\":{\"backgroundcolor\":\"rgb(234,234,242)\",\"gridcolor\":\"white\",\"gridwidth\":2,\"linecolor\":\"white\",\"showbackground\":true,\"showgrid\":true,\"ticks\":\"\",\"zerolinecolor\":\"white\"}},\"shapedefaults\":{\"fillcolor\":\"rgb(67,103,167)\",\"line\":{\"width\":0},\"opacity\":0.5},\"ternary\":{\"aaxis\":{\"gridcolor\":\"white\",\"linecolor\":\"white\",\"showgrid\":true,\"ticks\":\"\"},\"baxis\":{\"gridcolor\":\"white\",\"linecolor\":\"white\",\"showgrid\":true,\"ticks\":\"\"},\"bgcolor\":\"rgb(234,234,242)\",\"caxis\":{\"gridcolor\":\"white\",\"linecolor\":\"white\",\"showgrid\":true,\"ticks\":\"\"}},\"xaxis\":{\"automargin\":true,\"gridcolor\":\"white\",\"linecolor\":\"white\",\"showgrid\":true,\"ticks\":\"\",\"title\":{\"standoff\":15},\"zerolinecolor\":\"white\"},\"yaxis\":{\"automargin\":true,\"gridcolor\":\"white\",\"linecolor\":\"white\",\"showgrid\":true,\"ticks\":\"\",\"title\":{\"standoff\":15},\"zerolinecolor\":\"white\"}}},\"legend\":{\"tracegroupgap\":0},\"margin\":{\"t\":60},\"height\":1000,\"width\":1000},                        {\"responsive\": true}                    ).then(function(){\n",
       "                            \n",
       "var gd = document.getElementById('43e703bf-86cc-4dd8-81fb-4ea0fc737d05');\n",
       "var x = new MutationObserver(function (mutations, observer) {{\n",
       "        var display = window.getComputedStyle(gd).display;\n",
       "        if (!display || display === 'none') {{\n",
       "            console.log([gd, 'removed!']);\n",
       "            Plotly.purge(gd);\n",
       "            observer.disconnect();\n",
       "        }}\n",
       "}});\n",
       "\n",
       "// Listen for the removal of the full notebook cells\n",
       "var notebookContainer = gd.closest('#notebook-container');\n",
       "if (notebookContainer) {{\n",
       "    x.observe(notebookContainer, {childList: true});\n",
       "}}\n",
       "\n",
       "// Listen for the clearing of the current output cell\n",
       "var outputEl = gd.closest('.output');\n",
       "if (outputEl) {{\n",
       "    x.observe(outputEl, {childList: true});\n",
       "}}\n",
       "\n",
       "                        })                };                });            </script>        </div>"
      ]
     },
     "metadata": {},
     "output_type": "display_data"
    }
   ],
   "source": [
    "#Finding Categories whose orders got cancelled most\n",
    "\n",
    "canceled = canceled.dropna() #Dropping NaN values\n",
    "\n",
    "\n",
    "fig = px.treemap(canceled, \n",
    "                 path=['category_name_1'], template='seaborn',width=1000, height=1000)\n",
    "fig.update_traces(textfont_color='black',textfont_size=20, selector=dict(type='treemap'))\n",
    "fig.show()"
   ]
  },
  {
   "cell_type": "code",
   "execution_count": 31,
   "id": "a800215d",
   "metadata": {
    "execution": {
     "iopub.execute_input": "2022-06-30T00:29:58.285640Z",
     "iopub.status.busy": "2022-06-30T00:29:58.285234Z",
     "iopub.status.idle": "2022-06-30T00:29:58.344327Z",
     "shell.execute_reply": "2022-06-30T00:29:58.342809Z"
    },
    "papermill": {
     "duration": 0.104644,
     "end_time": "2022-06-30T00:29:58.347006",
     "exception": false,
     "start_time": "2022-06-30T00:29:58.242362",
     "status": "completed"
    },
    "tags": []
   },
   "outputs": [
    {
     "name": "stdout",
     "output_type": "stream",
     "text": [
      "All categories in the dataset = [\"Women's Fashion\" 'Beauty & Grooming' 'Soghaat' 'Appliances'\n",
      " 'Home & Living' 'Kids & Baby' 'Mobiles & Tablets' '\\\\N' \"Men's Fashion\"\n",
      " 'Superstore' 'Others' 'Health & Sports' 'Computing' 'Books'\n",
      " 'School & Education' 'Entertainment']\n",
      "number of categories n = 16\n"
     ]
    }
   ],
   "source": [
    "#Total categories in a dataset\n",
    "category=dataset[\"category_name_1\"].unique()\n",
    "print(\"All categories in the dataset =\",category)\n",
    "\n",
    "n=dataset[\"category_name_1\"].nunique()\n",
    "print(\"number of categories n =\",n)"
   ]
  },
  {
   "cell_type": "code",
   "execution_count": 32,
   "id": "6cfc6e51",
   "metadata": {
    "execution": {
     "iopub.execute_input": "2022-06-30T00:29:58.431780Z",
     "iopub.status.busy": "2022-06-30T00:29:58.430581Z",
     "iopub.status.idle": "2022-06-30T00:29:58.516903Z",
     "shell.execute_reply": "2022-06-30T00:29:58.515626Z"
    },
    "papermill": {
     "duration": 0.13141,
     "end_time": "2022-06-30T00:29:58.519633",
     "exception": false,
     "start_time": "2022-06-30T00:29:58.388223",
     "status": "completed"
    },
    "tags": []
   },
   "outputs": [
    {
     "data": {
      "text/html": [
       "<div>\n",
       "<style scoped>\n",
       "    .dataframe tbody tr th:only-of-type {\n",
       "        vertical-align: middle;\n",
       "    }\n",
       "\n",
       "    .dataframe tbody tr th {\n",
       "        vertical-align: top;\n",
       "    }\n",
       "\n",
       "    .dataframe thead th {\n",
       "        text-align: right;\n",
       "    }\n",
       "</style>\n",
       "<table border=\"1\" class=\"dataframe\">\n",
       "  <thead>\n",
       "    <tr style=\"text-align: right;\">\n",
       "      <th></th>\n",
       "      <th>item_id</th>\n",
       "      <th>status</th>\n",
       "      <th>created_at</th>\n",
       "      <th>sku</th>\n",
       "      <th>price</th>\n",
       "      <th>qty_ordered</th>\n",
       "      <th>grand_total</th>\n",
       "      <th>increment_id</th>\n",
       "      <th>category_name_1</th>\n",
       "      <th>discount_amount</th>\n",
       "      <th>payment_method</th>\n",
       "      <th>Working Date</th>\n",
       "      <th>BI Status</th>\n",
       "      <th>MV</th>\n",
       "      <th>Year</th>\n",
       "      <th>Month</th>\n",
       "      <th>Customer Since</th>\n",
       "      <th>M-Y</th>\n",
       "      <th>FY</th>\n",
       "      <th>Customer ID</th>\n",
       "    </tr>\n",
       "  </thead>\n",
       "  <tbody>\n",
       "    <tr>\n",
       "      <th>99</th>\n",
       "      <td>211242.0</td>\n",
       "      <td>Completed</td>\n",
       "      <td>7/1/2016</td>\n",
       "      <td>urban_ PT004-L</td>\n",
       "      <td>550.0</td>\n",
       "      <td>1.0</td>\n",
       "      <td>550.00</td>\n",
       "      <td>100147518</td>\n",
       "      <td>\\N</td>\n",
       "      <td>0.0</td>\n",
       "      <td>cod</td>\n",
       "      <td>7/1/2016</td>\n",
       "      <td>Net</td>\n",
       "      <td>550</td>\n",
       "      <td>2016.0</td>\n",
       "      <td>7.0</td>\n",
       "      <td>2016-7</td>\n",
       "      <td>7-2016</td>\n",
       "      <td>FY17</td>\n",
       "      <td>47.0</td>\n",
       "    </tr>\n",
       "    <tr>\n",
       "      <th>361</th>\n",
       "      <td>211524.0</td>\n",
       "      <td>Completed</td>\n",
       "      <td>7/1/2016</td>\n",
       "      <td>WE_ni72_parrot-veet-gift</td>\n",
       "      <td>1330.0</td>\n",
       "      <td>1.0</td>\n",
       "      <td>1330.00</td>\n",
       "      <td>100147732</td>\n",
       "      <td>\\N</td>\n",
       "      <td>0.0</td>\n",
       "      <td>marketingexpense</td>\n",
       "      <td>7/1/2016</td>\n",
       "      <td>Net</td>\n",
       "      <td>1,330</td>\n",
       "      <td>2016.0</td>\n",
       "      <td>7.0</td>\n",
       "      <td>2016-7</td>\n",
       "      <td>7-2016</td>\n",
       "      <td>FY17</td>\n",
       "      <td>116.0</td>\n",
       "    </tr>\n",
       "    <tr>\n",
       "      <th>483</th>\n",
       "      <td>211660.0</td>\n",
       "      <td>Completed</td>\n",
       "      <td>7/1/2016</td>\n",
       "      <td>E TCF_Educate a child for a month-PKR 1250</td>\n",
       "      <td>1250.0</td>\n",
       "      <td>1.0</td>\n",
       "      <td>994.00</td>\n",
       "      <td>100147840</td>\n",
       "      <td>\\N</td>\n",
       "      <td>0.0</td>\n",
       "      <td>cod</td>\n",
       "      <td>7/1/2016</td>\n",
       "      <td>Net</td>\n",
       "      <td>1,250</td>\n",
       "      <td>2016.0</td>\n",
       "      <td>7.0</td>\n",
       "      <td>2016-7</td>\n",
       "      <td>7-2016</td>\n",
       "      <td>FY17</td>\n",
       "      <td>16.0</td>\n",
       "    </tr>\n",
       "    <tr>\n",
       "      <th>768</th>\n",
       "      <td>212023.0</td>\n",
       "      <td>Completed</td>\n",
       "      <td>7/2/2016</td>\n",
       "      <td>Gasonline-MPT-524-BEIGE-36</td>\n",
       "      <td>1099.0</td>\n",
       "      <td>1.0</td>\n",
       "      <td>1099.00</td>\n",
       "      <td>100148063</td>\n",
       "      <td>\\N</td>\n",
       "      <td>0.0</td>\n",
       "      <td>cod</td>\n",
       "      <td>7/2/2016</td>\n",
       "      <td>Net</td>\n",
       "      <td>1,099</td>\n",
       "      <td>2016.0</td>\n",
       "      <td>7.0</td>\n",
       "      <td>2016-7</td>\n",
       "      <td>7-2016</td>\n",
       "      <td>FY17</td>\n",
       "      <td>284.0</td>\n",
       "    </tr>\n",
       "    <tr>\n",
       "      <th>793</th>\n",
       "      <td>212055.0</td>\n",
       "      <td>Completed</td>\n",
       "      <td>7/2/2016</td>\n",
       "      <td>Gasonline-MPT-560-GREY-30</td>\n",
       "      <td>1099.0</td>\n",
       "      <td>1.0</td>\n",
       "      <td>1099.00</td>\n",
       "      <td>100148078</td>\n",
       "      <td>\\N</td>\n",
       "      <td>0.0</td>\n",
       "      <td>cod</td>\n",
       "      <td>7/2/2016</td>\n",
       "      <td>Net</td>\n",
       "      <td>1,099</td>\n",
       "      <td>2016.0</td>\n",
       "      <td>7.0</td>\n",
       "      <td>2016-7</td>\n",
       "      <td>7-2016</td>\n",
       "      <td>FY17</td>\n",
       "      <td>284.0</td>\n",
       "    </tr>\n",
       "    <tr>\n",
       "      <th>...</th>\n",
       "      <td>...</td>\n",
       "      <td>...</td>\n",
       "      <td>...</td>\n",
       "      <td>...</td>\n",
       "      <td>...</td>\n",
       "      <td>...</td>\n",
       "      <td>...</td>\n",
       "      <td>...</td>\n",
       "      <td>...</td>\n",
       "      <td>...</td>\n",
       "      <td>...</td>\n",
       "      <td>...</td>\n",
       "      <td>...</td>\n",
       "      <td>...</td>\n",
       "      <td>...</td>\n",
       "      <td>...</td>\n",
       "      <td>...</td>\n",
       "      <td>...</td>\n",
       "      <td>...</td>\n",
       "      <td>...</td>\n",
       "    </tr>\n",
       "    <tr>\n",
       "      <th>389624</th>\n",
       "      <td>682965.0</td>\n",
       "      <td>Completed</td>\n",
       "      <td>11/24/2017</td>\n",
       "      <td>OTHOTH5A0945D0A72F4</td>\n",
       "      <td>90.0</td>\n",
       "      <td>2.0</td>\n",
       "      <td>1308.75</td>\n",
       "      <td>100418767</td>\n",
       "      <td>\\N</td>\n",
       "      <td>0.0</td>\n",
       "      <td>cod</td>\n",
       "      <td>11/24/2017</td>\n",
       "      <td>Valid</td>\n",
       "      <td>180</td>\n",
       "      <td>2017.0</td>\n",
       "      <td>11.0</td>\n",
       "      <td>2017-11</td>\n",
       "      <td>11-2017</td>\n",
       "      <td>FY18</td>\n",
       "      <td>78466.0</td>\n",
       "    </tr>\n",
       "    <tr>\n",
       "      <th>412385</th>\n",
       "      <td>709595.0</td>\n",
       "      <td>Completed</td>\n",
       "      <td>12/6/2017</td>\n",
       "      <td>OTHOTH5A0945D0A72F4</td>\n",
       "      <td>90.0</td>\n",
       "      <td>1.0</td>\n",
       "      <td>1185.00</td>\n",
       "      <td>100433636</td>\n",
       "      <td>\\N</td>\n",
       "      <td>0.0</td>\n",
       "      <td>Easypay</td>\n",
       "      <td>12/6/2017</td>\n",
       "      <td>Valid</td>\n",
       "      <td>90</td>\n",
       "      <td>2017.0</td>\n",
       "      <td>12.0</td>\n",
       "      <td>2017-11</td>\n",
       "      <td>12-2017</td>\n",
       "      <td>FY18</td>\n",
       "      <td>71907.0</td>\n",
       "    </tr>\n",
       "    <tr>\n",
       "      <th>422952</th>\n",
       "      <td>721912.0</td>\n",
       "      <td>Completed</td>\n",
       "      <td>12/26/2017</td>\n",
       "      <td>OTHOTH5A2F72DBBB0C9</td>\n",
       "      <td>100.0</td>\n",
       "      <td>1.0</td>\n",
       "      <td>250.00</td>\n",
       "      <td>100440407</td>\n",
       "      <td>\\N</td>\n",
       "      <td>0.0</td>\n",
       "      <td>cod</td>\n",
       "      <td>12/26/2017</td>\n",
       "      <td>Valid</td>\n",
       "      <td>100</td>\n",
       "      <td>2017.0</td>\n",
       "      <td>12.0</td>\n",
       "      <td>2017-8</td>\n",
       "      <td>12-2017</td>\n",
       "      <td>FY18</td>\n",
       "      <td>59587.0</td>\n",
       "    </tr>\n",
       "    <tr>\n",
       "      <th>423231</th>\n",
       "      <td>722242.0</td>\n",
       "      <td>Completed</td>\n",
       "      <td>12/27/2017</td>\n",
       "      <td>MEFQMO59B0942707B79-L</td>\n",
       "      <td>99.0</td>\n",
       "      <td>1.0</td>\n",
       "      <td>249.00</td>\n",
       "      <td>100440593</td>\n",
       "      <td>\\N</td>\n",
       "      <td>0.0</td>\n",
       "      <td>cod</td>\n",
       "      <td>12/27/2017</td>\n",
       "      <td>Valid</td>\n",
       "      <td>99</td>\n",
       "      <td>2017.0</td>\n",
       "      <td>12.0</td>\n",
       "      <td>2017-11</td>\n",
       "      <td>12-2017</td>\n",
       "      <td>FY18</td>\n",
       "      <td>66884.0</td>\n",
       "    </tr>\n",
       "    <tr>\n",
       "      <th>423830</th>\n",
       "      <td>722920.0</td>\n",
       "      <td>Completed</td>\n",
       "      <td>12/29/2017</td>\n",
       "      <td>MEFQMO59B0942707B79-L</td>\n",
       "      <td>99.0</td>\n",
       "      <td>2.0</td>\n",
       "      <td>348.00</td>\n",
       "      <td>100440971</td>\n",
       "      <td>\\N</td>\n",
       "      <td>0.0</td>\n",
       "      <td>cod</td>\n",
       "      <td>12/29/2017</td>\n",
       "      <td>Valid</td>\n",
       "      <td>198</td>\n",
       "      <td>2017.0</td>\n",
       "      <td>12.0</td>\n",
       "      <td>2017-8</td>\n",
       "      <td>12-2017</td>\n",
       "      <td>FY18</td>\n",
       "      <td>59587.0</td>\n",
       "    </tr>\n",
       "  </tbody>\n",
       "</table>\n",
       "<p>3336 rows × 20 columns</p>\n",
       "</div>"
      ],
      "text/plain": [
       "         item_id     status  created_at  \\\n",
       "99      211242.0  Completed    7/1/2016   \n",
       "361     211524.0  Completed    7/1/2016   \n",
       "483     211660.0  Completed    7/1/2016   \n",
       "768     212023.0  Completed    7/2/2016   \n",
       "793     212055.0  Completed    7/2/2016   \n",
       "...          ...        ...         ...   \n",
       "389624  682965.0  Completed  11/24/2017   \n",
       "412385  709595.0  Completed   12/6/2017   \n",
       "422952  721912.0  Completed  12/26/2017   \n",
       "423231  722242.0  Completed  12/27/2017   \n",
       "423830  722920.0  Completed  12/29/2017   \n",
       "\n",
       "                                               sku   price  qty_ordered  \\\n",
       "99                                  urban_ PT004-L   550.0          1.0   \n",
       "361                       WE_ni72_parrot-veet-gift  1330.0          1.0   \n",
       "483     E TCF_Educate a child for a month-PKR 1250  1250.0          1.0   \n",
       "768                     Gasonline-MPT-524-BEIGE-36  1099.0          1.0   \n",
       "793                      Gasonline-MPT-560-GREY-30  1099.0          1.0   \n",
       "...                                            ...     ...          ...   \n",
       "389624                         OTHOTH5A0945D0A72F4    90.0          2.0   \n",
       "412385                         OTHOTH5A0945D0A72F4    90.0          1.0   \n",
       "422952                         OTHOTH5A2F72DBBB0C9   100.0          1.0   \n",
       "423231                       MEFQMO59B0942707B79-L    99.0          1.0   \n",
       "423830                       MEFQMO59B0942707B79-L    99.0          2.0   \n",
       "\n",
       "        grand_total increment_id category_name_1  discount_amount  \\\n",
       "99           550.00    100147518              \\N              0.0   \n",
       "361         1330.00    100147732              \\N              0.0   \n",
       "483          994.00    100147840              \\N              0.0   \n",
       "768         1099.00    100148063              \\N              0.0   \n",
       "793         1099.00    100148078              \\N              0.0   \n",
       "...             ...          ...             ...              ...   \n",
       "389624      1308.75    100418767              \\N              0.0   \n",
       "412385      1185.00    100433636              \\N              0.0   \n",
       "422952       250.00    100440407              \\N              0.0   \n",
       "423231       249.00    100440593              \\N              0.0   \n",
       "423830       348.00    100440971              \\N              0.0   \n",
       "\n",
       "          payment_method Working Date BI Status      MV     Year  Month  \\\n",
       "99                   cod     7/1/2016       Net     550   2016.0    7.0   \n",
       "361     marketingexpense     7/1/2016       Net   1,330   2016.0    7.0   \n",
       "483                  cod     7/1/2016       Net   1,250   2016.0    7.0   \n",
       "768                  cod     7/2/2016       Net   1,099   2016.0    7.0   \n",
       "793                  cod     7/2/2016       Net   1,099   2016.0    7.0   \n",
       "...                  ...          ...       ...      ...     ...    ...   \n",
       "389624               cod   11/24/2017     Valid     180   2017.0   11.0   \n",
       "412385           Easypay    12/6/2017     Valid      90   2017.0   12.0   \n",
       "422952               cod   12/26/2017     Valid     100   2017.0   12.0   \n",
       "423231               cod   12/27/2017     Valid      99   2017.0   12.0   \n",
       "423830               cod   12/29/2017     Valid     198   2017.0   12.0   \n",
       "\n",
       "       Customer Since      M-Y    FY  Customer ID  \n",
       "99             2016-7   7-2016  FY17         47.0  \n",
       "361            2016-7   7-2016  FY17        116.0  \n",
       "483            2016-7   7-2016  FY17         16.0  \n",
       "768            2016-7   7-2016  FY17        284.0  \n",
       "793            2016-7   7-2016  FY17        284.0  \n",
       "...               ...      ...   ...          ...  \n",
       "389624        2017-11  11-2017  FY18      78466.0  \n",
       "412385        2017-11  12-2017  FY18      71907.0  \n",
       "422952         2017-8  12-2017  FY18      59587.0  \n",
       "423231        2017-11  12-2017  FY18      66884.0  \n",
       "423830         2017-8  12-2017  FY18      59587.0  \n",
       "\n",
       "[3336 rows x 20 columns]"
      ]
     },
     "execution_count": 32,
     "metadata": {},
     "output_type": "execute_result"
    }
   ],
   "source": [
    "#Exploring category //N \n",
    "dataset[dataset[\"category_name_1\"]==\"\\\\N\"]"
   ]
  },
  {
   "cell_type": "code",
   "execution_count": 33,
   "id": "32478bec",
   "metadata": {
    "execution": {
     "iopub.execute_input": "2022-06-30T00:29:58.606142Z",
     "iopub.status.busy": "2022-06-30T00:29:58.605788Z",
     "iopub.status.idle": "2022-06-30T00:29:58.662102Z",
     "shell.execute_reply": "2022-06-30T00:29:58.660867Z"
    },
    "papermill": {
     "duration": 0.103037,
     "end_time": "2022-06-30T00:29:58.664657",
     "exception": false,
     "start_time": "2022-06-30T00:29:58.561620",
     "status": "completed"
    },
    "tags": []
   },
   "outputs": [],
   "source": [
    "#it seems it is just like others category so we will merge both under others\n",
    "dataset[\"category_name_1\"]=dataset[\"category_name_1\"].replace(['\\\\N'], \"Others\")"
   ]
  },
  {
   "cell_type": "code",
   "execution_count": 34,
   "id": "ee89af49",
   "metadata": {
    "execution": {
     "iopub.execute_input": "2022-06-30T00:29:58.751724Z",
     "iopub.status.busy": "2022-06-30T00:29:58.751101Z",
     "iopub.status.idle": "2022-06-30T00:29:58.763931Z",
     "shell.execute_reply": "2022-06-30T00:29:58.763039Z"
    },
    "papermill": {
     "duration": 0.059557,
     "end_time": "2022-06-30T00:29:58.766089",
     "exception": false,
     "start_time": "2022-06-30T00:29:58.706532",
     "status": "completed"
    },
    "tags": []
   },
   "outputs": [],
   "source": [
    "is_noun = lambda pos: pos[:2] == 'NN'\n",
    "\n",
    "def keywords_inventory(dataframe, colonne = 'sku'):\n",
    "    stemmer = nltk.stem.SnowballStemmer(\"english\")\n",
    "    keywords_roots  = dict()  # collect the words / root\n",
    "    keywords_select = dict()  # association: root <-> keyword\n",
    "    category_keys   = []\n",
    "    count_keywords  = dict()\n",
    "    icount = 0\n",
    "    for s in dataframe[colonne]:\n",
    "        if pd.isnull(s): continue\n",
    "        lines = s.lower()\n",
    "        tokenized = nltk.word_tokenize(lines)\n",
    "        nouns = [word for (word, pos) in nltk.pos_tag(tokenized) if is_noun(pos)] \n",
    "        \n",
    "        for t in nouns:\n",
    "            t = t.lower() ; racine = stemmer.stem(t)\n",
    "            if racine in keywords_roots:                \n",
    "                keywords_roots[racine].add(t)\n",
    "                count_keywords[racine] += 1                \n",
    "            else:\n",
    "                keywords_roots[racine] = {t}\n",
    "                count_keywords[racine] = 1\n",
    "    \n",
    "    for s in keywords_roots.keys():\n",
    "        if len(keywords_roots[s]) > 1:  \n",
    "            min_length = 1000\n",
    "            for k in keywords_roots[s]:\n",
    "                if len(k) < min_length:\n",
    "                    clef = k ; min_length = len(k)            \n",
    "            category_keys.append(clef)\n",
    "            keywords_select[s] = clef\n",
    "        else:\n",
    "            category_keys.append(list(keywords_roots[s])[0])\n",
    "            keywords_select[s] = list(keywords_roots[s])[0]\n",
    "                   \n",
    "    print(\"Nb of keywords in variable '{}': {}\".format(colonne,len(category_keys)))\n",
    "    return category_keys, keywords_roots, keywords_select, count_keywords"
   ]
  },
  {
   "cell_type": "code",
   "execution_count": 35,
   "id": "91d4af2f",
   "metadata": {
    "execution": {
     "iopub.execute_input": "2022-06-30T00:29:58.854544Z",
     "iopub.status.busy": "2022-06-30T00:29:58.854130Z",
     "iopub.status.idle": "2022-06-30T00:29:58.901742Z",
     "shell.execute_reply": "2022-06-30T00:29:58.900584Z"
    },
    "papermill": {
     "duration": 0.094114,
     "end_time": "2022-06-30T00:29:58.904419",
     "exception": false,
     "start_time": "2022-06-30T00:29:58.810305",
     "status": "completed"
    },
    "tags": []
   },
   "outputs": [],
   "source": [
    "df_produits = pd.DataFrame(dataset['sku'].unique()).rename(columns = {0:'sku'})"
   ]
  },
  {
   "cell_type": "code",
   "execution_count": 36,
   "id": "cf58b1af",
   "metadata": {
    "execution": {
     "iopub.execute_input": "2022-06-30T00:29:58.991758Z",
     "iopub.status.busy": "2022-06-30T00:29:58.991170Z",
     "iopub.status.idle": "2022-06-30T00:30:24.474800Z",
     "shell.execute_reply": "2022-06-30T00:30:24.473475Z"
    },
    "papermill": {
     "duration": 25.530389,
     "end_time": "2022-06-30T00:30:24.477268",
     "exception": false,
     "start_time": "2022-06-30T00:29:58.946879",
     "status": "completed"
    },
    "tags": []
   },
   "outputs": [
    {
     "name": "stdout",
     "output_type": "stream",
     "text": [
      "Nb of keywords in variable 'sku': 58280\n"
     ]
    }
   ],
   "source": [
    "keywords, keywords_roots, keywords_select, count_keywords = keywords_inventory(df_produits)"
   ]
  },
  {
   "cell_type": "code",
   "execution_count": 37,
   "id": "e53cb1b9",
   "metadata": {
    "execution": {
     "iopub.execute_input": "2022-06-30T00:30:24.563467Z",
     "iopub.status.busy": "2022-06-30T00:30:24.563082Z",
     "iopub.status.idle": "2022-06-30T00:30:24.614472Z",
     "shell.execute_reply": "2022-06-30T00:30:24.613608Z"
    },
    "papermill": {
     "duration": 0.097315,
     "end_time": "2022-06-30T00:30:24.616686",
     "exception": false,
     "start_time": "2022-06-30T00:30:24.519371",
     "status": "completed"
    },
    "tags": []
   },
   "outputs": [],
   "source": [
    "list_products = []\n",
    "for k,v in count_keywords.items():\n",
    "    list_products.append([keywords_select[k],v])\n",
    "list_products.sort(key = lambda x:x[1], reverse = True)"
   ]
  },
  {
   "cell_type": "code",
   "execution_count": 38,
   "id": "726da41c",
   "metadata": {
    "execution": {
     "iopub.execute_input": "2022-06-30T00:30:24.703558Z",
     "iopub.status.busy": "2022-06-30T00:30:24.703139Z",
     "iopub.status.idle": "2022-06-30T00:30:26.304842Z",
     "shell.execute_reply": "2022-06-30T00:30:26.303582Z"
    },
    "papermill": {
     "duration": 1.648904,
     "end_time": "2022-06-30T00:30:26.308008",
     "exception": false,
     "start_time": "2022-06-30T00:30:24.659104",
     "status": "completed"
    },
    "tags": []
   },
   "outputs": [
    {
     "data": {
      "image/png": "[encoded data removed]",
      "text/plain": [
       "<Figure size 504x1800 with 1 Axes>"
      ]
     },
     "metadata": {},
     "output_type": "display_data"
    }
   ],
   "source": [
    "liste = sorted(list_products, key = lambda x:x[1], reverse = True)\n",
    "#_______________________________\n",
    "plt.rc('font', weight='normal')\n",
    "fig, ax = plt.subplots(figsize=(7, 25))\n",
    "y_axis = [i[1] for i in liste[:125]]\n",
    "x_axis = [k for k,i in enumerate(liste[:125])]\n",
    "x_label = [i[0] for i in liste[:125]]\n",
    "plt.xticks(fontsize = 15)\n",
    "plt.yticks(fontsize = 13)\n",
    "plt.yticks(x_axis, x_label)\n",
    "plt.xlabel(\"Nb. of occurences\", fontsize = 18, labelpad = 10)\n",
    "ax.barh(x_axis, y_axis, align = 'center')\n",
    "ax = plt.gca()\n",
    "ax.invert_yaxis()\n",
    "#_______________________________________________________________________________________\n",
    "plt.title(\"Words occurence\",bbox={'facecolor':'k', 'pad':5}, color='w',fontsize = 25)\n",
    "plt.show()"
   ]
  },
  {
   "cell_type": "code",
   "execution_count": 39,
   "id": "d7e37738",
   "metadata": {
    "execution": {
     "iopub.execute_input": "2022-06-30T00:30:26.398778Z",
     "iopub.status.busy": "2022-06-30T00:30:26.398027Z",
     "iopub.status.idle": "2022-06-30T00:30:26.446025Z",
     "shell.execute_reply": "2022-06-30T00:30:26.444643Z"
    },
    "papermill": {
     "duration": 0.095845,
     "end_time": "2022-06-30T00:30:26.448477",
     "exception": false,
     "start_time": "2022-06-30T00:30:26.352632",
     "status": "completed"
    },
    "tags": []
   },
   "outputs": [
    {
     "name": "stdout",
     "output_type": "stream",
     "text": [
      "mots conservés: 126\n"
     ]
    }
   ],
   "source": [
    "list_products = []\n",
    "for k,v in count_keywords.items():\n",
    "    word = keywords_select[k]\n",
    "    if word in ['pink', 'blue', 'tag', 'green', 'orange']: continue\n",
    "    if len(word) < 3 or v < 13: continue\n",
    "    if ('+' in word) or ('/' in word): continue\n",
    "    list_products.append([word, v])\n",
    "#______________________________________________________    \n",
    "list_products.sort(key = lambda x:x[1], reverse = True)\n",
    "print('mots conservés:', len(list_products))"
   ]
  },
  {
   "cell_type": "code",
   "execution_count": 40,
   "id": "880dccac",
   "metadata": {
    "execution": {
     "iopub.execute_input": "2022-06-30T00:30:26.539906Z",
     "iopub.status.busy": "2022-06-30T00:30:26.538897Z",
     "iopub.status.idle": "2022-06-30T00:30:32.682615Z",
     "shell.execute_reply": "2022-06-30T00:30:32.681351Z"
    },
    "papermill": {
     "duration": 6.192651,
     "end_time": "2022-06-30T00:30:32.685581",
     "exception": false,
     "start_time": "2022-06-30T00:30:26.492930",
     "status": "completed"
    },
    "tags": []
   },
   "outputs": [],
   "source": [
    "liste_produits = dataset['sku'].unique()\n",
    "X = pd.DataFrame()\n",
    "for key, occurence in list_products:\n",
    "    X.loc[:, key] = list(map(lambda x:int(key.upper() in x), liste_produits))"
   ]
  },
  {
   "cell_type": "code",
   "execution_count": 41,
   "id": "2f369ee2",
   "metadata": {
    "execution": {
     "iopub.execute_input": "2022-06-30T00:30:32.779208Z",
     "iopub.status.busy": "2022-06-30T00:30:32.778320Z",
     "iopub.status.idle": "2022-06-30T01:19:48.384755Z",
     "shell.execute_reply": "2022-06-30T01:19:48.383578Z"
    },
    "papermill": {
     "duration": 2955.657723,
     "end_time": "2022-06-30T01:19:48.387914",
     "exception": false,
     "start_time": "2022-06-30T00:30:32.730191",
     "status": "completed"
    },
    "tags": []
   },
   "outputs": [],
   "source": [
    "threshold = [0, 1, 2, 3, 5, 10]\n",
    "label_col = []\n",
    "for i in range(len(threshold)):\n",
    "    if i == len(threshold)-1:\n",
    "        col = '.>{}'.format(threshold[i])\n",
    "    else:\n",
    "        col = '{}<.<{}'.format(threshold[i],threshold[i+1])\n",
    "    label_col.append(col)\n",
    "    X.loc[:, col] = 0\n",
    "\n",
    "for i, prod in enumerate(liste_produits):\n",
    "    prix = dataset[ dataset['sku'] == prod]['price'].mean()\n",
    "    j = 0\n",
    "    while prix > threshold[j]:\n",
    "        j+=1\n",
    "        if j == len(threshold): break\n",
    "    X.loc[i, label_col[j-1]] = 1"
   ]
  },
  {
   "cell_type": "code",
   "execution_count": 42,
   "id": "b4fbc8e7",
   "metadata": {
    "execution": {
     "iopub.execute_input": "2022-06-30T01:19:48.480686Z",
     "iopub.status.busy": "2022-06-30T01:19:48.480281Z",
     "iopub.status.idle": "2022-06-30T01:19:48.490282Z",
     "shell.execute_reply": "2022-06-30T01:19:48.489539Z"
    },
    "papermill": {
     "duration": 0.058198,
     "end_time": "2022-06-30T01:19:48.492553",
     "exception": false,
     "start_time": "2022-06-30T01:19:48.434355",
     "status": "completed"
    },
    "tags": []
   },
   "outputs": [
    {
     "name": "stdout",
     "output_type": "stream",
     "text": [
      "gamme    nb. produits         \n",
      "--------------------\n",
      "0<.<1       15                  \n",
      "1<.<2       11                  \n",
      "2<.<3       1                   \n",
      "3<.<5       13                  \n",
      "5<.<10      13                  \n",
      ".>10        62478               \n"
     ]
    }
   ],
   "source": [
    "print(\"{:<8} {:<20} \\n\".format('gamme', 'nb. produits') + 20*'-')\n",
    "for i in range(len(threshold)):\n",
    "    if i == len(threshold)-1:\n",
    "        col = '.>{}'.format(threshold[i])\n",
    "    else:\n",
    "        col = '{}<.<{}'.format(threshold[i],threshold[i+1])    \n",
    "    print(\"{:<10}  {:<20}\".format(col, X.loc[:, col].sum()))"
   ]
  }
 ],
 "metadata": {
  "kernelspec": {
   "display_name": "Python 3",
   "language": "python",
   "name": "python3"
  },
  "language_info": {
   "codemirror_mode": {
    "name": "ipython",
    "version": 3
   },
   "file_extension": ".py",
   "mimetype": "text/x-python",
   "name": "python",
   "nbconvert_exporter": "python",
   "pygments_lexer": "ipython3",
   "version": "3.7.12"
  },
  "papermill": {
   "default_parameters": {},
   "duration": 3034.625131,
   "end_time": "2022-06-30T01:19:49.666560",
   "environment_variables": {},
   "exception": null,
   "input_path": "__notebook__.ipynb",
   "output_path": "__notebook__.ipynb",
   "parameters": {},
   "start_time": "2022-06-30T00:29:15.041429",
   "version": "2.3.4"
  }
 },
 "nbformat": 4,
 "nbformat_minor": 5
}
