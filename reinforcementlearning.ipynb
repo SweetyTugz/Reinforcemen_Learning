{
 "cells": [
  {
   "cell_type": "code",
   "execution_count": 1,
   "id": "16935be9",
   "metadata": {
    "_cell_guid": "b1076dfc-b9ad-4769-8c92-a6c4dae69d19",
    "_uuid": "8f2839f25d086af736a60e9eeb907d3b93b6e0e5",
    "execution": {
     "iopub.execute_input": "2021-12-30T15:06:53.500185Z",
     "iopub.status.busy": "2021-12-30T15:06:53.499011Z",
     "iopub.status.idle": "2021-12-30T15:07:11.837752Z",
     "shell.execute_reply": "2021-12-30T15:07:11.837043Z",
     "shell.execute_reply.started": "2021-12-30T14:50:09.796405Z"
    },
    "papermill": {
     "duration": 18.353885,
     "end_time": "2021-12-30T15:07:11.837930",
     "exception": false,
     "start_time": "2021-12-30T15:06:53.484045",
     "status": "completed"
    },
    "tags": []
   },
   "outputs": [
    {
     "name": "stdout",
     "output_type": "stream",
     "text": [
      "Collecting stable-baselines3[extra]\r\n",
      "  Downloading stable_baselines3-1.3.0-py3-none-any.whl (174 kB)\r\n",
      "     |████████████████████████████████| 174 kB 295 kB/s            \r\n",
      "\u001b[?25hCollecting gym<0.20,>=0.17\r\n",
      "  Downloading gym-0.19.0.tar.gz (1.6 MB)\r\n",
      "     |████████████████████████████████| 1.6 MB 1.2 MB/s            \r\n",
      "\u001b[?25h  Preparing metadata (setup.py) ... \u001b[?25l-\b \bdone\r\n",
      "\u001b[?25hRequirement already satisfied: pandas in /opt/conda/lib/python3.7/site-packages (from stable-baselines3[extra]) (1.3.4)\r\n",
      "Requirement already satisfied: cloudpickle in /opt/conda/lib/python3.7/site-packages (from stable-baselines3[extra]) (2.0.0)\r\n",
      "Requirement already satisfied: matplotlib in /opt/conda/lib/python3.7/site-packages (from stable-baselines3[extra]) (3.5.0)\r\n",
      "Requirement already satisfied: numpy in /opt/conda/lib/python3.7/site-packages (from stable-baselines3[extra]) (1.19.5)\r\n",
      "Requirement already satisfied: torch>=1.8.1 in /opt/conda/lib/python3.7/site-packages (from stable-baselines3[extra]) (1.9.1+cpu)\r\n",
      "Collecting atari-py~=0.2.0\r\n",
      "  Downloading atari_py-0.2.9-cp37-cp37m-manylinux_2_17_x86_64.manylinux2014_x86_64.whl (2.8 MB)\r\n",
      "     |████████████████████████████████| 2.8 MB 15.1 MB/s            \r\n",
      "\u001b[?25hRequirement already satisfied: tensorboard>=2.2.0 in /opt/conda/lib/python3.7/site-packages (from stable-baselines3[extra]) (2.6.0)\r\n",
      "Requirement already satisfied: pillow in /opt/conda/lib/python3.7/site-packages (from stable-baselines3[extra]) (8.2.0)\r\n",
      "Requirement already satisfied: opencv-python in /opt/conda/lib/python3.7/site-packages (from stable-baselines3[extra]) (4.5.4.60)\r\n",
      "Requirement already satisfied: psutil in /opt/conda/lib/python3.7/site-packages (from stable-baselines3[extra]) (5.8.0)\r\n",
      "Requirement already satisfied: six in /opt/conda/lib/python3.7/site-packages (from atari-py~=0.2.0->stable-baselines3[extra]) (1.16.0)\r\n",
      "Collecting cloudpickle\r\n",
      "  Downloading cloudpickle-1.6.0-py3-none-any.whl (23 kB)\r\n",
      "Requirement already satisfied: google-auth-oauthlib<0.5,>=0.4.1 in /opt/conda/lib/python3.7/site-packages (from tensorboard>=2.2.0->stable-baselines3[extra]) (0.4.6)\r\n",
      "Requirement already satisfied: absl-py>=0.4 in /opt/conda/lib/python3.7/site-packages (from tensorboard>=2.2.0->stable-baselines3[extra]) (0.15.0)\r\n",
      "Requirement already satisfied: markdown>=2.6.8 in /opt/conda/lib/python3.7/site-packages (from tensorboard>=2.2.0->stable-baselines3[extra]) (3.3.6)\r\n",
      "Requirement already satisfied: tensorboard-plugin-wit>=1.6.0 in /opt/conda/lib/python3.7/site-packages (from tensorboard>=2.2.0->stable-baselines3[extra]) (1.8.0)\r\n",
      "Requirement already satisfied: werkzeug>=0.11.15 in /opt/conda/lib/python3.7/site-packages (from tensorboard>=2.2.0->stable-baselines3[extra]) (2.0.2)\r\n",
      "Requirement already satisfied: wheel>=0.26 in /opt/conda/lib/python3.7/site-packages (from tensorboard>=2.2.0->stable-baselines3[extra]) (0.37.0)\r\n",
      "Requirement already satisfied: tensorboard-data-server<0.7.0,>=0.6.0 in /opt/conda/lib/python3.7/site-packages (from tensorboard>=2.2.0->stable-baselines3[extra]) (0.6.1)\r\n",
      "Requirement already satisfied: requests<3,>=2.21.0 in /opt/conda/lib/python3.7/site-packages (from tensorboard>=2.2.0->stable-baselines3[extra]) (2.25.1)\r\n",
      "Requirement already satisfied: protobuf>=3.6.0 in /opt/conda/lib/python3.7/site-packages (from tensorboard>=2.2.0->stable-baselines3[extra]) (3.19.1)\r\n",
      "Requirement already satisfied: grpcio>=1.24.3 in /opt/conda/lib/python3.7/site-packages (from tensorboard>=2.2.0->stable-baselines3[extra]) (1.42.0)\r\n",
      "Requirement already satisfied: google-auth<2,>=1.6.3 in /opt/conda/lib/python3.7/site-packages (from tensorboard>=2.2.0->stable-baselines3[extra]) (1.35.0)\r\n",
      "Requirement already satisfied: setuptools>=41.0.0 in /opt/conda/lib/python3.7/site-packages (from tensorboard>=2.2.0->stable-baselines3[extra]) (59.1.1)\r\n",
      "Requirement already satisfied: typing-extensions in /opt/conda/lib/python3.7/site-packages (from torch>=1.8.1->stable-baselines3[extra]) (3.10.0.2)\r\n",
      "Requirement already satisfied: packaging>=20.0 in /opt/conda/lib/python3.7/site-packages (from matplotlib->stable-baselines3[extra]) (21.0)\r\n",
      "Requirement already satisfied: pyparsing>=2.2.1 in /opt/conda/lib/python3.7/site-packages (from matplotlib->stable-baselines3[extra]) (3.0.6)\r\n",
      "Requirement already satisfied: fonttools>=4.22.0 in /opt/conda/lib/python3.7/site-packages (from matplotlib->stable-baselines3[extra]) (4.28.2)\r\n",
      "Requirement already satisfied: kiwisolver>=1.0.1 in /opt/conda/lib/python3.7/site-packages (from matplotlib->stable-baselines3[extra]) (1.3.2)\r\n",
      "Requirement already satisfied: cycler>=0.10 in /opt/conda/lib/python3.7/site-packages (from matplotlib->stable-baselines3[extra]) (0.11.0)\r\n",
      "Requirement already satisfied: setuptools-scm>=4 in /opt/conda/lib/python3.7/site-packages (from matplotlib->stable-baselines3[extra]) (6.3.2)\r\n",
      "Requirement already satisfied: python-dateutil>=2.7 in /opt/conda/lib/python3.7/site-packages (from matplotlib->stable-baselines3[extra]) (2.8.0)\r\n",
      "Requirement already satisfied: pytz>=2017.3 in /opt/conda/lib/python3.7/site-packages (from pandas->stable-baselines3[extra]) (2021.3)\r\n",
      "Requirement already satisfied: rsa<5,>=3.1.4 in /opt/conda/lib/python3.7/site-packages (from google-auth<2,>=1.6.3->tensorboard>=2.2.0->stable-baselines3[extra]) (4.7.2)\r\n",
      "Requirement already satisfied: pyasn1-modules>=0.2.1 in /opt/conda/lib/python3.7/site-packages (from google-auth<2,>=1.6.3->tensorboard>=2.2.0->stable-baselines3[extra]) (0.2.7)\r\n",
      "Requirement already satisfied: cachetools<5.0,>=2.0.0 in /opt/conda/lib/python3.7/site-packages (from google-auth<2,>=1.6.3->tensorboard>=2.2.0->stable-baselines3[extra]) (4.2.4)\r\n",
      "Requirement already satisfied: requests-oauthlib>=0.7.0 in /opt/conda/lib/python3.7/site-packages (from google-auth-oauthlib<0.5,>=0.4.1->tensorboard>=2.2.0->stable-baselines3[extra]) (1.3.0)\r\n",
      "Requirement already satisfied: importlib-metadata>=4.4 in /opt/conda/lib/python3.7/site-packages (from markdown>=2.6.8->tensorboard>=2.2.0->stable-baselines3[extra]) (4.8.2)\r\n",
      "Requirement already satisfied: chardet<5,>=3.0.2 in /opt/conda/lib/python3.7/site-packages (from requests<3,>=2.21.0->tensorboard>=2.2.0->stable-baselines3[extra]) (4.0.0)\r\n",
      "Requirement already satisfied: urllib3<1.27,>=1.21.1 in /opt/conda/lib/python3.7/site-packages (from requests<3,>=2.21.0->tensorboard>=2.2.0->stable-baselines3[extra]) (1.26.7)\r\n",
      "Requirement already satisfied: idna<3,>=2.5 in /opt/conda/lib/python3.7/site-packages (from requests<3,>=2.21.0->tensorboard>=2.2.0->stable-baselines3[extra]) (2.10)\r\n",
      "Requirement already satisfied: certifi>=2017.4.17 in /opt/conda/lib/python3.7/site-packages (from requests<3,>=2.21.0->tensorboard>=2.2.0->stable-baselines3[extra]) (2021.10.8)\r\n",
      "Requirement already satisfied: tomli>=1.0.0 in /opt/conda/lib/python3.7/site-packages (from setuptools-scm>=4->matplotlib->stable-baselines3[extra]) (1.2.2)\r\n",
      "Requirement already satisfied: zipp>=0.5 in /opt/conda/lib/python3.7/site-packages (from importlib-metadata>=4.4->markdown>=2.6.8->tensorboard>=2.2.0->stable-baselines3[extra]) (3.6.0)\r\n",
      "Requirement already satisfied: pyasn1<0.5.0,>=0.4.6 in /opt/conda/lib/python3.7/site-packages (from pyasn1-modules>=0.2.1->google-auth<2,>=1.6.3->tensorboard>=2.2.0->stable-baselines3[extra]) (0.4.8)\r\n",
      "Requirement already satisfied: oauthlib>=3.0.0 in /opt/conda/lib/python3.7/site-packages (from requests-oauthlib>=0.7.0->google-auth-oauthlib<0.5,>=0.4.1->tensorboard>=2.2.0->stable-baselines3[extra]) (3.1.1)\r\n",
      "Building wheels for collected packages: gym\r\n",
      "  Building wheel for gym (setup.py) ... \u001b[?25l-\b \b\\\b \b|\b \b/\b \b-\b \bdone\r\n",
      "\u001b[?25h  Created wheel for gym: filename=gym-0.19.0-py3-none-any.whl size=1663113 sha256=f8d50191ad74750e6dc1681290ebeb25249044ffe193b1166d7f78b15008f1c9\r\n",
      "  Stored in directory: /root/.cache/pip/wheels/ef/9d/70/8bea53f7edec2fdb4f98d9d64ac9f11aea95dfcb98099d7712\r\n",
      "Successfully built gym\r\n",
      "Installing collected packages: cloudpickle, gym, stable-baselines3, atari-py\r\n",
      "  Attempting uninstall: cloudpickle\r\n",
      "    Found existing installation: cloudpickle 2.0.0\r\n",
      "    Uninstalling cloudpickle-2.0.0:\r\n",
      "      Successfully uninstalled cloudpickle-2.0.0\r\n",
      "  Attempting uninstall: gym\r\n",
      "    Found existing installation: gym 0.21.0\r\n",
      "    Uninstalling gym-0.21.0:\r\n",
      "      Successfully uninstalled gym-0.21.0\r\n",
      "Successfully installed atari-py-0.2.9 cloudpickle-1.6.0 gym-0.19.0 stable-baselines3-1.3.0\r\n",
      "\u001b[33mWARNING: Running pip as the 'root' user can result in broken permissions and conflicting behaviour with the system package manager. It is recommended to use a virtual environment instead: https://pip.pypa.io/warnings/venv\u001b[0m\r\n"
     ]
    }
   ],
   "source": [
    "!pip install stable-baselines3[extra]"
   ]
  },
  {
   "cell_type": "code",
   "execution_count": 2,
   "id": "0b80b980",
   "metadata": {
    "execution": {
     "iopub.execute_input": "2021-12-30T15:07:11.902200Z",
     "iopub.status.busy": "2021-12-30T15:07:11.901215Z",
     "iopub.status.idle": "2021-12-30T15:07:13.751851Z",
     "shell.execute_reply": "2021-12-30T15:07:13.751157Z",
     "shell.execute_reply.started": "2021-12-30T14:50:24.993118Z"
    },
    "papermill": {
     "duration": 1.884088,
     "end_time": "2021-12-30T15:07:13.752014",
     "exception": false,
     "start_time": "2021-12-30T15:07:11.867926",
     "status": "completed"
    },
    "tags": []
   },
   "outputs": [],
   "source": [
    "import os\n",
    "import gym\n",
    "from stable_baselines3 import PPO\n",
    "from stable_baselines3.common.vec_env import DummyVecEnv\n",
    "from stable_baselines3.common.evaluation import evaluate_policy"
   ]
  },
  {
   "cell_type": "code",
   "execution_count": 3,
   "id": "d7f75eeb",
   "metadata": {
    "execution": {
     "iopub.execute_input": "2021-12-30T15:07:13.812081Z",
     "iopub.status.busy": "2021-12-30T15:07:13.811386Z",
     "iopub.status.idle": "2021-12-30T15:07:13.820089Z",
     "shell.execute_reply": "2021-12-30T15:07:13.820640Z",
     "shell.execute_reply.started": "2021-12-30T14:50:27.069981Z"
    },
    "papermill": {
     "duration": 0.040239,
     "end_time": "2021-12-30T15:07:13.820814",
     "exception": false,
     "start_time": "2021-12-30T15:07:13.780575",
     "status": "completed"
    },
    "tags": []
   },
   "outputs": [],
   "source": [
    "environment_name = 'CartPole-v0'\n",
    "env=gym.make(environment_name)"
   ]
  },
  {
   "cell_type": "code",
   "execution_count": 4,
   "id": "a5c6b7ca",
   "metadata": {
    "execution": {
     "iopub.execute_input": "2021-12-30T15:07:13.879593Z",
     "iopub.status.busy": "2021-12-30T15:07:13.878857Z",
     "iopub.status.idle": "2021-12-30T15:07:52.180230Z",
     "shell.execute_reply": "2021-12-30T15:07:52.180913Z",
     "shell.execute_reply.started": "2021-12-30T14:50:27.084957Z"
    },
    "papermill": {
     "duration": 38.333009,
     "end_time": "2021-12-30T15:07:52.181087",
     "exception": false,
     "start_time": "2021-12-30T15:07:13.848078",
     "status": "completed"
    },
    "tags": []
   },
   "outputs": [
    {
     "name": "stdout",
     "output_type": "stream",
     "text": [
      "\r\n",
      "\r\n",
      "\r\n",
      "The following additional packages will be installed:\r\n",
      "  freeglut3 libglu1-mesa libpython2-stdlib libpython2.7-minimal\r\n",
      "  libpython2.7-stdlib python2 python2-minimal python2.7 python2.7-minimal\r\n",
      "Suggested packages:\r\n",
      "  python-tk python-numpy libgle3 python2-doc python2.7-doc binfmt-support\r\n",
      "The following NEW packages will be installed:\r\n",
      "  freeglut3 libglu1-mesa libpython2-stdlib libpython2.7-minimal\r\n",
      "  libpython2.7-stdlib python-opengl python2 python2-minimal python2.7\r\n",
      "  python2.7-minimal\r\n",
      "0 upgraded, 10 newly installed, 0 to remove and 3 not upgraded.\r\n",
      "Need to get 4544 kB of archives.\r\n",
      "After this operation, 22.7 MB of additional disk space will be used.\r\n",
      "Get:1 http://archive.ubuntu.com/ubuntu focal-updates/universe amd64 libpython2.7-minimal amd64 2.7.18-1~20.04.1 [335 kB]\r\n",
      "Get:2 http://archive.ubuntu.com/ubuntu focal-updates/universe amd64 python2.7-minimal amd64 2.7.18-1~20.04.1 [1285 kB]\r\n",
      "Get:3 http://archive.ubuntu.com/ubuntu focal/universe amd64 python2-minimal amd64 2.7.17-2ubuntu4 [27.5 kB]\r\n",
      "Get:4 http://archive.ubuntu.com/ubuntu focal-updates/universe amd64 libpython2.7-stdlib amd64 2.7.18-1~20.04.1 [1887 kB]\r\n",
      "Get:5 http://archive.ubuntu.com/ubuntu focal-updates/universe amd64 python2.7 amd64 2.7.18-1~20.04.1 [248 kB]\r\n",
      "Get:6 http://archive.ubuntu.com/ubuntu focal/universe amd64 libpython2-stdlib amd64 2.7.17-2ubuntu4 [7072 B]\r\n",
      "Get:7 http://archive.ubuntu.com/ubuntu focal/universe amd64 python2 amd64 2.7.17-2ubuntu4 [26.5 kB]\r\n",
      "Get:8 http://archive.ubuntu.com/ubuntu focal/universe amd64 freeglut3 amd64 2.8.1-3 [73.6 kB]\r\n",
      "Get:9 http://archive.ubuntu.com/ubuntu focal/main amd64 libglu1-mesa amd64 9.0.1-1build1 [168 kB]\r\n",
      "Get:10 http://archive.ubuntu.com/ubuntu focal/universe amd64 python-opengl all 3.1.0+dfsg-2build1 [486 kB]\r\n",
      "Fetched 4544 kB in 3s (1400 kB/s)\r\n",
      "Selecting previously unselected package libpython2.7-minimal:amd64.\r\n",
      "(Reading database ... 99694 files and directories currently installed.)\r\n",
      "Preparing to unpack .../0-libpython2.7-minimal_2.7.18-1~20.04.1_amd64.deb ...\r\n",
      "Unpacking libpython2.7-minimal:amd64 (2.7.18-1~20.04.1) ...\r\n",
      "Selecting previously unselected package python2.7-minimal.\r\n",
      "Preparing to unpack .../1-python2.7-minimal_2.7.18-1~20.04.1_amd64.deb ...\r\n",
      "Unpacking python2.7-minimal (2.7.18-1~20.04.1) ...\r\n",
      "Selecting previously unselected package python2-minimal.\r\n",
      "Preparing to unpack .../2-python2-minimal_2.7.17-2ubuntu4_amd64.deb ...\r\n",
      "Unpacking python2-minimal (2.7.17-2ubuntu4) ...\r\n",
      "Selecting previously unselected package libpython2.7-stdlib:amd64.\r\n",
      "Preparing to unpack .../3-libpython2.7-stdlib_2.7.18-1~20.04.1_amd64.deb ...\r\n",
      "Unpacking libpython2.7-stdlib:amd64 (2.7.18-1~20.04.1) ...\r\n",
      "Selecting previously unselected package python2.7.\r\n",
      "Preparing to unpack .../4-python2.7_2.7.18-1~20.04.1_amd64.deb ...\r\n",
      "Unpacking python2.7 (2.7.18-1~20.04.1) ...\r\n",
      "Selecting previously unselected package libpython2-stdlib:amd64.\r\n",
      "Preparing to unpack .../5-libpython2-stdlib_2.7.17-2ubuntu4_amd64.deb ...\r\n",
      "Unpacking libpython2-stdlib:amd64 (2.7.17-2ubuntu4) ...\r\n",
      "Setting up libpython2.7-minimal:amd64 (2.7.18-1~20.04.1) ...\r\n",
      "Setting up python2.7-minimal (2.7.18-1~20.04.1) ...\r\n",
      "Linking and byte-compiling packages for runtime python2.7...\r\n",
      "Setting up python2-minimal (2.7.17-2ubuntu4) ...\r\n",
      "Selecting previously unselected package python2.\r\n",
      "(Reading database ... 100441 files and directories currently installed.)\r\n",
      "Preparing to unpack .../python2_2.7.17-2ubuntu4_amd64.deb ...\r\n",
      "Unpacking python2 (2.7.17-2ubuntu4) ...\r\n",
      "Selecting previously unselected package freeglut3:amd64.\r\n",
      "Preparing to unpack .../freeglut3_2.8.1-3_amd64.deb ...\r\n",
      "Unpacking freeglut3:amd64 (2.8.1-3) ...\r\n",
      "Selecting previously unselected package libglu1-mesa:amd64.\r\n",
      "Preparing to unpack .../libglu1-mesa_9.0.1-1build1_amd64.deb ...\r\n",
      "Unpacking libglu1-mesa:amd64 (9.0.1-1build1) ...\r\n",
      "Selecting previously unselected package python-opengl.\r\n",
      "Preparing to unpack .../python-opengl_3.1.0+dfsg-2build1_all.deb ...\r\n",
      "Unpacking python-opengl (3.1.0+dfsg-2build1) ...\r\n",
      "Setting up freeglut3:amd64 (2.8.1-3) ...\r\n",
      "Setting up libpython2.7-stdlib:amd64 (2.7.18-1~20.04.1) ...\r\n",
      "Setting up libglu1-mesa:amd64 (9.0.1-1build1) ...\r\n",
      "Setting up python2.7 (2.7.18-1~20.04.1) ...\r\n",
      "Setting up libpython2-stdlib:amd64 (2.7.17-2ubuntu4) ...\r\n",
      "Setting up python2 (2.7.17-2ubuntu4) ...\r\n",
      "Setting up python-opengl (3.1.0+dfsg-2build1) ...\r\n",
      "Processing triggers for mime-support (3.64ubuntu1) ...\r\n",
      "Processing triggers for libc-bin (2.31-0ubuntu9.2) ...\r\n",
      "\r\n",
      "\r\n",
      "\r\n",
      "xvfb is already the newest version (2:1.20.11-1ubuntu1~20.04.2).\r\n",
      "0 upgraded, 0 newly installed, 0 to remove and 3 not upgraded.\r\n",
      "Collecting pyvirtualdisplay\r\n",
      "  Downloading PyVirtualDisplay-2.2-py3-none-any.whl (15 kB)\r\n",
      "Collecting EasyProcess\r\n",
      "  Downloading EasyProcess-0.3-py2.py3-none-any.whl (7.9 kB)\r\n",
      "Installing collected packages: EasyProcess, pyvirtualdisplay\r\n",
      "Successfully installed EasyProcess-0.3 pyvirtualdisplay-2.2\r\n",
      "\u001b[33mWARNING: Running pip as the 'root' user can result in broken permissions and conflicting behaviour with the system package manager. It is recommended to use a virtual environment instead: https://pip.pypa.io/warnings/venv\u001b[0m\r\n",
      "Collecting piglet\r\n",
      "  Downloading piglet-1.0.0-py2.py3-none-any.whl (2.2 kB)\r\n",
      "Collecting piglet-templates\r\n",
      "  Downloading piglet_templates-1.2.0-py3-none-any.whl (67 kB)\r\n",
      "     |████████████████████████████████| 67 kB 303 kB/s            \r\n",
      "\u001b[?25hRequirement already satisfied: astunparse in /opt/conda/lib/python3.7/site-packages (from piglet-templates->piglet) (1.6.3)\r\n",
      "Requirement already satisfied: pyparsing in /opt/conda/lib/python3.7/site-packages (from piglet-templates->piglet) (3.0.6)\r\n",
      "Requirement already satisfied: markupsafe in /opt/conda/lib/python3.7/site-packages (from piglet-templates->piglet) (2.0.1)\r\n",
      "Requirement already satisfied: attrs in /opt/conda/lib/python3.7/site-packages (from piglet-templates->piglet) (21.2.0)\r\n",
      "Requirement already satisfied: wheel<1.0,>=0.23.0 in /opt/conda/lib/python3.7/site-packages (from astunparse->piglet-templates->piglet) (0.37.0)\r\n",
      "Requirement already satisfied: six<2.0,>=1.6.1 in /opt/conda/lib/python3.7/site-packages (from astunparse->piglet-templates->piglet) (1.16.0)\r\n",
      "Installing collected packages: piglet-templates, piglet\r\n",
      "Successfully installed piglet-1.0.0 piglet-templates-1.2.0\r\n",
      "\u001b[33mWARNING: Running pip as the 'root' user can result in broken permissions and conflicting behaviour with the system package manager. It is recommended to use a virtual environment instead: https://pip.pypa.io/warnings/venv\u001b[0m\r\n"
     ]
    }
   ],
   "source": [
    "!apt-get install python-opengl -y\n",
    "\n",
    "!apt install xvfb -y\n",
    "\n",
    "!pip install pyvirtualdisplay\n",
    "\n",
    "!pip install piglet\n",
    "\n",
    "\n",
    "from pyvirtualdisplay import Display\n",
    "Display().start()\n",
    "\n",
    "import gym\n",
    "from IPython import display\n",
    "import matplotlib.pyplot as plt\n",
    "%matplotlib inline\n",
    "\n",
    "\n"
   ]
  },
  {
   "cell_type": "code",
   "execution_count": 5,
   "id": "3feacb80",
   "metadata": {
    "execution": {
     "iopub.execute_input": "2021-12-30T15:07:52.296634Z",
     "iopub.status.busy": "2021-12-30T15:07:52.295585Z",
     "iopub.status.idle": "2021-12-30T15:08:56.800798Z",
     "shell.execute_reply": "2021-12-30T15:08:56.799906Z",
     "shell.execute_reply.started": "2021-12-30T14:51:00.849331Z"
    },
    "papermill": {
     "duration": 64.564744,
     "end_time": "2021-12-30T15:08:56.801015",
     "exception": false,
     "start_time": "2021-12-30T15:07:52.236271",
     "status": "completed"
    },
    "tags": []
   },
   "outputs": [
    {
     "name": "stdout",
     "output_type": "stream",
     "text": [
      "Reading package lists...\n",
      "Building dependency tree...\n",
      "Reading state information...\n",
      "xvfb is already the newest version (2:1.20.11-1ubuntu1~20.04.2).\n",
      "The following additional packages will be installed:\n",
      "  libxtst6 libxxf86dga1\n",
      "Suggested packages:\n",
      "  mesa-utils\n",
      "The following NEW packages will be installed:\n",
      "  libxtst6 libxxf86dga1 x11-utils\n",
      "0 upgraded, 3 newly installed, 0 to remove and 3 not upgraded.\n",
      "Need to get 223 kB of archives.\n",
      "After this operation, 831 kB of additional disk space will be used.\n",
      "Get:1 http://archive.ubuntu.com/ubuntu focal/main amd64 libxtst6 amd64 2:1.2.3-1 [12.8 kB]\n",
      "Get:2 http://archive.ubuntu.com/ubuntu focal/main amd64 libxxf86dga1 amd64 2:1.1.5-0ubuntu1 [12.0 kB]\n",
      "Get:3 http://archive.ubuntu.com/ubuntu focal/main amd64 x11-utils amd64 7.7+5 [199 kB]\n",
      "Fetched 223 kB in 2s (110 kB/s)\n",
      "Selecting previously unselected package libxtst6:amd64.\r\n",
      "(Reading database ... 102835 files and directories currently installed.)\r\n",
      "Preparing to unpack .../libxtst6_2%3a1.2.3-1_amd64.deb ...\r\n",
      "Unpacking libxtst6:amd64 (2:1.2.3-1) ...\r\n",
      "Selecting previously unselected package libxxf86dga1:amd64.\r\n",
      "Preparing to unpack .../libxxf86dga1_2%3a1.1.5-0ubuntu1_amd64.deb ...\r\n",
      "Unpacking libxxf86dga1:amd64 (2:1.1.5-0ubuntu1) ...\r\n",
      "Selecting previously unselected package x11-utils.\r\n",
      "Preparing to unpack .../x11-utils_7.7+5_amd64.deb ...\r\n",
      "Unpacking x11-utils (7.7+5) ...\r\n",
      "Setting up libxtst6:amd64 (2:1.2.3-1) ...\r\n",
      "Setting up libxxf86dga1:amd64 (2:1.1.5-0ubuntu1) ...\r\n",
      "Setting up x11-utils (7.7+5) ...\r\n",
      "Processing triggers for libc-bin (2.31-0ubuntu9.2) ...\r\n",
      "Collecting gym[box2d]==0.17.*\n",
      "  Downloading gym-0.17.3.tar.gz (1.6 MB)\n",
      "  Preparing metadata (setup.py): started\n",
      "  Preparing metadata (setup.py): finished with status 'done'\n",
      "Collecting pyvirtualdisplay==0.2.*\n",
      "  Downloading PyVirtualDisplay-0.2.5-py2.py3-none-any.whl (13 kB)\n",
      "Collecting PyOpenGL==3.1.*\n",
      "  Downloading PyOpenGL-3.1.5-py3-none-any.whl (2.4 MB)\n",
      "Collecting PyOpenGL-accelerate==3.1.*\n",
      "  Downloading PyOpenGL-accelerate-3.1.5.tar.gz (538 kB)\n",
      "  Preparing metadata (setup.py): started\n",
      "  Preparing metadata (setup.py): finished with status 'done'\n",
      "Requirement already satisfied: scipy in /opt/conda/lib/python3.7/site-packages (from gym[box2d]==0.17.*) (1.7.2)\n",
      "Requirement already satisfied: numpy>=1.10.4 in /opt/conda/lib/python3.7/site-packages (from gym[box2d]==0.17.*) (1.19.5)\n",
      "Collecting pyglet<=1.5.0,>=1.4.0\n",
      "  Downloading pyglet-1.5.0-py2.py3-none-any.whl (1.0 MB)\n",
      "Requirement already satisfied: cloudpickle<1.7.0,>=1.2.0 in /opt/conda/lib/python3.7/site-packages (from gym[box2d]==0.17.*) (1.6.0)\n",
      "Collecting box2d-py~=2.3.5\n",
      "  Downloading box2d_py-2.3.8-cp37-cp37m-manylinux1_x86_64.whl (448 kB)\n",
      "Requirement already satisfied: EasyProcess in /opt/conda/lib/python3.7/site-packages (from pyvirtualdisplay==0.2.*) (0.3)\n",
      "Requirement already satisfied: future in /opt/conda/lib/python3.7/site-packages (from pyglet<=1.5.0,>=1.4.0->gym[box2d]==0.17.*) (0.18.2)\n",
      "Building wheels for collected packages: PyOpenGL-accelerate, gym\n",
      "  Building wheel for PyOpenGL-accelerate (setup.py): started\n",
      "  Building wheel for PyOpenGL-accelerate (setup.py): finished with status 'done'\n",
      "  Created wheel for PyOpenGL-accelerate: filename=PyOpenGL_accelerate-3.1.5-cp37-cp37m-linux_x86_64.whl size=2198338 sha256=07038eae45d4f9d052c315552a94fa7269fcc3ca9be0886a9219feb0ed808420\n",
      "  Stored in directory: /root/.cache/pip/wheels/1c/f5/6f/169afb3f2d476c5e807f8515b3c9bc9b819c3962316aa804eb\n",
      "  Building wheel for gym (setup.py): started\n",
      "  Building wheel for gym (setup.py): finished with status 'done'\n",
      "  Created wheel for gym: filename=gym-0.17.3-py3-none-any.whl size=1654651 sha256=f6d104089c3eb65d96b77c5f18f0101577b503dd9221935a04a24db1b7725da5\n",
      "  Stored in directory: /root/.cache/pip/wheels/d1/81/4b/dd9c029691022cb957398d1f015e66b75e37637dda61abdf58\n",
      "Successfully built PyOpenGL-accelerate gym\n",
      "Installing collected packages: pyglet, gym, box2d-py, pyvirtualdisplay, PyOpenGL-accelerate, PyOpenGL\n",
      "  Attempting uninstall: gym\n",
      "    Found existing installation: gym 0.19.0\n",
      "    Uninstalling gym-0.19.0:\n",
      "      Successfully uninstalled gym-0.19.0\n",
      "  Attempting uninstall: pyvirtualdisplay\n",
      "    Found existing installation: PyVirtualDisplay 2.2\n",
      "    Uninstalling PyVirtualDisplay-2.2:\n",
      "      Successfully uninstalled PyVirtualDisplay-2.2\n",
      "Successfully installed PyOpenGL-3.1.5 PyOpenGL-accelerate-3.1.5 box2d-py-2.3.8 gym-0.17.3 pyglet-1.5.0 pyvirtualdisplay-0.2.5\n"
     ]
    },
    {
     "name": "stderr",
     "output_type": "stream",
     "text": [
      "dpkg-preconfigure: unable to re-open stdin: No such file or directory\n",
      "WARNING: Running pip as the 'root' user can result in broken permissions and conflicting behaviour with the system package manager. It is recommended to use a virtual environment instead: https://pip.pypa.io/warnings/venv\n"
     ]
    }
   ],
   "source": [
    "%%bash\n",
    "\n",
    "# install required system dependencies\n",
    "apt-get install -y xvfb x11-utils\n",
    "\n",
    "# install required python dependencies (might need to install additional gym extras depending)\n",
    "pip install gym[box2d]==0.17.* pyvirtualdisplay==0.2.* PyOpenGL==3.1.* PyOpenGL-accelerate==3.1.*"
   ]
  },
  {
   "cell_type": "code",
   "execution_count": 6,
   "id": "8a1e5e6d",
   "metadata": {
    "execution": {
     "iopub.execute_input": "2021-12-30T15:08:56.924745Z",
     "iopub.status.busy": "2021-12-30T15:08:56.924028Z",
     "iopub.status.idle": "2021-12-30T15:09:14.646128Z",
     "shell.execute_reply": "2021-12-30T15:09:14.645250Z",
     "shell.execute_reply.started": "2021-12-30T14:52:03.541723Z"
    },
    "papermill": {
     "duration": 17.784612,
     "end_time": "2021-12-30T15:09:14.646275",
     "exception": false,
     "start_time": "2021-12-30T15:08:56.861663",
     "status": "completed"
    },
    "tags": []
   },
   "outputs": [
    {
     "name": "stdout",
     "output_type": "stream",
     "text": [
      "Requirement already satisfied: pyglet in /opt/conda/lib/python3.7/site-packages (1.5.0)\r\n",
      "Requirement already satisfied: future in /opt/conda/lib/python3.7/site-packages (from pyglet) (0.18.2)\r\n",
      "\u001b[33mWARNING: Running pip as the 'root' user can result in broken permissions and conflicting behaviour with the system package manager. It is recommended to use a virtual environment instead: https://pip.pypa.io/warnings/venv\u001b[0m\r\n",
      "Requirement already satisfied: pyvirtualdisplay in /opt/conda/lib/python3.7/site-packages (0.2.5)\r\n",
      "Requirement already satisfied: EasyProcess in /opt/conda/lib/python3.7/site-packages (from pyvirtualdisplay) (0.3)\r\n",
      "\u001b[33mWARNING: Running pip as the 'root' user can result in broken permissions and conflicting behaviour with the system package manager. It is recommended to use a virtual environment instead: https://pip.pypa.io/warnings/venv\u001b[0m\r\n"
     ]
    }
   ],
   "source": [
    "!pip install pyglet\n",
    "!pip install pyvirtualdisplay"
   ]
  },
  {
   "cell_type": "code",
   "execution_count": 7,
   "id": "b61e7a4a",
   "metadata": {
    "execution": {
     "iopub.execute_input": "2021-12-30T15:09:14.774670Z",
     "iopub.status.busy": "2021-12-30T15:09:14.769434Z",
     "iopub.status.idle": "2021-12-30T15:09:14.868262Z",
     "shell.execute_reply": "2021-12-30T15:09:14.867450Z",
     "shell.execute_reply.started": "2021-12-30T14:52:21.433723Z"
    },
    "papermill": {
     "duration": 0.162622,
     "end_time": "2021-12-30T15:09:14.868495",
     "exception": false,
     "start_time": "2021-12-30T15:09:14.705873",
     "status": "completed"
    },
    "tags": []
   },
   "outputs": [],
   "source": [
    "import pyvirtualdisplay\n",
    "\n",
    "\n",
    "_display = pyvirtualdisplay.Display(visible=False,  # use False with Xvfb\n",
    "                                    size=(1400, 900))\n",
    "_ = _display.start()"
   ]
  },
  {
   "cell_type": "code",
   "execution_count": 8,
   "id": "11ddd907",
   "metadata": {
    "execution": {
     "iopub.execute_input": "2021-12-30T15:09:14.987697Z",
     "iopub.status.busy": "2021-12-30T15:09:14.987028Z",
     "iopub.status.idle": "2021-12-30T15:09:16.006352Z",
     "shell.execute_reply": "2021-12-30T15:09:16.005160Z",
     "shell.execute_reply.started": "2021-12-30T15:05:59.644159Z"
    },
    "papermill": {
     "duration": 1.079499,
     "end_time": "2021-12-30T15:09:16.006567",
     "exception": false,
     "start_time": "2021-12-30T15:09:14.927068",
     "status": "completed"
    },
    "tags": []
   },
   "outputs": [
    {
     "name": "stdout",
     "output_type": "stream",
     "text": [
      "episodes:1 Score:14.0\n",
      "episodes:2 Score:23.0\n",
      "episodes:3 Score:13.0\n",
      "episodes:4 Score:42.0\n",
      "episodes:5 Score:11.0\n"
     ]
    }
   ],
   "source": [
    "from pyglet import app\n",
    "from pyglet.gl import *\n",
    "import pyglet.window\n",
    "\n",
    "#test cartpol env 5 times, to see ow can we operate\n",
    "episodes=5\n",
    "for episode in range(1,episodes+1):\n",
    "    #initial set of observations\n",
    "    state=env.reset()\n",
    "    done=False\n",
    "    score=0\n",
    "    \n",
    "    \n",
    "    while not done:\n",
    "        #view the graphical rep of the env\n",
    "        env.render()\n",
    "        action=env.action_space.sample()\n",
    "        n_state, reward, done, info = env.step(action)\n",
    "        score+=reward\n",
    "        \n",
    "    print('episodes:{} Score:{}'. format(episode,score))\n",
    "env.close()"
   ]
  },
  {
   "cell_type": "code",
   "execution_count": 9,
   "id": "2cbd4116",
   "metadata": {
    "execution": {
     "iopub.execute_input": "2021-12-30T15:09:16.130614Z",
     "iopub.status.busy": "2021-12-30T15:09:16.129553Z",
     "iopub.status.idle": "2021-12-30T15:09:16.137473Z",
     "shell.execute_reply": "2021-12-30T15:09:16.137996Z",
     "shell.execute_reply.started": "2021-12-30T14:55:07.272426Z"
    },
    "papermill": {
     "duration": 0.071092,
     "end_time": "2021-12-30T15:09:16.138169",
     "exception": false,
     "start_time": "2021-12-30T15:09:16.067077",
     "status": "completed"
    },
    "tags": []
   },
   "outputs": [
    {
     "data": {
      "text/plain": [
       "1"
      ]
     },
     "execution_count": 9,
     "metadata": {},
     "output_type": "execute_result"
    }
   ],
   "source": [
    "env.action_space.sample()"
   ]
  },
  {
   "cell_type": "code",
   "execution_count": 10,
   "id": "5af17126",
   "metadata": {
    "execution": {
     "iopub.execute_input": "2021-12-30T15:09:16.262468Z",
     "iopub.status.busy": "2021-12-30T15:09:16.258361Z",
     "iopub.status.idle": "2021-12-30T15:09:16.266410Z",
     "shell.execute_reply": "2021-12-30T15:09:16.265741Z",
     "shell.execute_reply.started": "2021-12-30T14:55:16.527099Z"
    },
    "papermill": {
     "duration": 0.069679,
     "end_time": "2021-12-30T15:09:16.266570",
     "exception": false,
     "start_time": "2021-12-30T15:09:16.196891",
     "status": "completed"
    },
    "tags": []
   },
   "outputs": [
    {
     "data": {
      "text/plain": [
       "array([ 3.6623518e+00, -4.1039022e+37, -3.1740838e-01,  1.0500916e+38],\n",
       "      dtype=float32)"
      ]
     },
     "execution_count": 10,
     "metadata": {},
     "output_type": "execute_result"
    }
   ],
   "source": [
    "env.observation_space.sample()"
   ]
  },
  {
   "cell_type": "code",
   "execution_count": null,
   "id": "9089d314",
   "metadata": {
    "papermill": {
     "duration": 0.05817,
     "end_time": "2021-12-30T15:09:16.383004",
     "exception": false,
     "start_time": "2021-12-30T15:09:16.324834",
     "status": "completed"
    },
    "tags": []
   },
   "outputs": [],
   "source": []
  }
 ],
 "metadata": {
  "kernelspec": {
   "display_name": "Python 3",
   "language": "python",
   "name": "python3"
  },
  "language_info": {
   "codemirror_mode": {
    "name": "ipython",
    "version": 3
   },
   "file_extension": ".py",
   "mimetype": "text/x-python",
   "name": "python",
   "nbconvert_exporter": "python",
   "pygments_lexer": "ipython3",
   "version": "3.7.12"
  },
  "papermill": {
   "default_parameters": {},
   "duration": 154.47383,
   "end_time": "2021-12-30T15:09:17.353976",
   "environment_variables": {},
   "exception": null,
   "input_path": "__notebook__.ipynb",
   "output_path": "__notebook__.ipynb",
   "parameters": {},
   "start_time": "2021-12-30T15:06:42.880146",
   "version": "2.3.3"
  }
 },
 "nbformat": 4,
 "nbformat_minor": 5
}
